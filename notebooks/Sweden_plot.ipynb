{
 "cells": [
  {
   "cell_type": "code",
   "execution_count": null,
   "metadata": {},
   "outputs": [],
   "source": [
    "import pandas as pd\n",
    "\n",
    "import plotly\n",
    "\n",
    "import plotly.graph_objs as go\n",
    "\n",
    "\n",
    "import plotly.offline as offline\n",
    "\n",
    "from plotly.graph_objs import *\n",
    "\n",
    "from plotly.offline import download_plotlyjs, init_notebook_mode, plot, iplot"
   ]
  },
  {
   "cell_type": "code",
   "execution_count": null,
   "metadata": {},
   "outputs": [],
   "source": [
    "import pandas as pd\n",
    "data_xls = pd.read_excel('../data/Folkhalsomyndigheten_Covid19.xlsx', 'Antal per dag region', index_col=1)\n",
    "data_xls.to_csv('../data/Sweden_covid.csv', encoding='utf-8')\n",
    "df_sweden = pd.read_csv('../data/Sweden_covid.csv')"
   ]
  },
  {
   "cell_type": "code",
   "execution_count": null,
   "metadata": {},
   "outputs": [],
   "source": [
    "for region in df_sweden.drop([\"Statistikdatum\"], axis = 1).columns:\n",
    "    df_sweden[region] = df_sweden[region].cumsum()"
   ]
  },
  {
   "cell_type": "code",
   "execution_count": null,
   "metadata": {},
   "outputs": [],
   "source": [
    "from urllib.request import urlopen\n",
    "import json\n",
    "with urlopen('https://raw.githubusercontent.com/codeforamerica/click_that_hood/master/public/data/sweden-counties.geojson') as response:\n",
    "    counties = json.load(response)\n",
    "\n",
    "sweden_counties = []\n",
    "for x in range(len(counties['features'])):\n",
    "    sweden_counties.append(counties['features'][x]['properties']['name'])"
   ]
  },
  {
   "cell_type": "code",
   "execution_count": null,
   "metadata": {},
   "outputs": [],
   "source": [
    "data_slider = []\n",
    "\n",
    "scl = [[0.0, '#ffffff'],[0.2, '#ff9999'],[0.4, '#ff4d4d'], \\\n",
    "       [0.6, '#ff1a1a'],[0.8, '#cc0000'],[1.0, '#4d0000']] # reds\n",
    "\n",
    "for date in df_sweden[\"Statistikdatum\"].unique():\n",
    "    \n",
    "    sweden_one_date = df_sweden[df_sweden[\"Statistikdatum\"] == date].drop([\"Statistikdatum\", \"Totalt_antal_fall\"], axis = 1).T\n",
    "    \n",
    "    new_df = pd.DataFrame({\"county\": sweden_one_date.index,\n",
    "                           \"infected\": sweden_one_date.T.values.tolist()[0]})\n",
    "    \n",
    "    new_df.loc[new_df[\"county\"] == \"Jämtland_Härjedalen\", \"county\"] = \"Jämtland\"\n",
    "    new_df.loc[new_df[\"county\"] == \"Sörmland\", \"county\"] = \"Södermanland\"\n",
    "    new_df.loc[new_df[\"county\"] == \"Västra_Götaland\", \"county\"] = \"Västra Götaland\"\n",
    "    \n",
    "    data_one_date = dict(\n",
    "                        type='choropleth', \n",
    "                        geojson = counties, \n",
    "                        colorscale = scl, \n",
    "                        locations = new_df[\"county\"],\n",
    "                        featureidkey = 'properties.name',\n",
    "                        z=new_df[\"infected\"],\n",
    "                        locationmode='geojson-id',\n",
    "                        text = new_df[\"county\"],\n",
    "                        zmin = 0,\n",
    "                        zmax = 8100,\n",
    "        \n",
    "                        marker = dict(     # for the lines separating states\n",
    "                        line = dict (color = 'rgb(0,0,0)', width = 0.5) ),\n",
    "                        \n",
    "                        colorbar = dict(title = \"Number of infected people in a given day\") \n",
    "                        )\n",
    "\n",
    "    data_slider.append(data_one_date)  # I add the dictionary to the list of dictionaries for the slider\n"
   ]
  },
  {
   "cell_type": "code",
   "execution_count": null,
   "metadata": {},
   "outputs": [],
   "source": [
    "steps = []\n",
    "\n",
    "for i in range(len(data_slider)):\n",
    "    step = dict(method='restyle',\n",
    "                args=['visible', [False] * len(data_slider)],\n",
    "                label= \"Day {}\".format(i))\n",
    "    step['args'][1][i] = True\n",
    "    steps.append(step)\n",
    "\n",
    "\n",
    "##  I create the 'sliders' object from the 'steps' \n",
    "\n",
    "sliders = [dict(active=0, pad={\"t\": 1}, steps=steps, ticklen = 10, len = 750, lenmode = 'pixels')]"
   ]
  },
  {
   "cell_type": "code",
   "execution_count": null,
   "metadata": {},
   "outputs": [],
   "source": [
    "layout = dict(title = \"Sweden counties COVID19\",\n",
    "              width = 850, \n",
    "              height = 680, \n",
    "              hovermode = \"closest\",\n",
    "              geo=dict(scope='europe',\n",
    "                       showlakes = True, \n",
    "                       lakecolor = 'rgb(73, 216, 230)',\n",
    "                        lataxis = {\"range\": [55.0, 75.0]}, \n",
    "                        lonaxis = {\"range\": [10, 30.0]}, \n",
    "                        showland = False\n",
    "                      ),\n",
    "              sliders=sliders)"
   ]
  },
  {
   "cell_type": "code",
   "execution_count": null,
   "metadata": {},
   "outputs": [],
   "source": [
    "fig = dict(data=data_slider, layout=layout) \n",
    "\n",
    "# to plot in the notebook\n",
    "\n",
    "plotly.offline.iplot(fig)"
   ]
  },
  {
   "cell_type": "code",
   "execution_count": null,
   "metadata": {},
   "outputs": [],
   "source": [
    "offline.plot(fig, auto_open=False, image_width=2000, image_height=1000, \n",
    "              filename='../figures/sweden_covid.html', validate=True)\n"
   ]
  }
 ],
 "metadata": {
  "kernelspec": {
   "display_name": "Python 3",
   "language": "python",
   "name": "python3"
  },
  "language_info": {
   "codemirror_mode": {
    "name": "ipython",
    "version": 3
   },
   "file_extension": ".py",
   "mimetype": "text/x-python",
   "name": "python",
   "nbconvert_exporter": "python",
   "pygments_lexer": "ipython3",
   "version": "3.6.9"
  }
 },
 "nbformat": 4,
 "nbformat_minor": 4
}
