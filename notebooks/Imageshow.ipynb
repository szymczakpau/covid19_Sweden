{
 "cells": [
  {
   "cell_type": "code",
   "execution_count": 1,
   "metadata": {},
   "outputs": [],
   "source": [
    "# \"\"\"\n",
    "# import pandas as pd\n",
    "# import matplotlib.image as mpimg\n",
    "# import plotly.graph_objects as go\n",
    "\n",
    "# #img=mpimg.imread('../images/image_{}.jpg'.format(0))\n",
    "# fig = go.Figure()\n",
    "\n",
    "# #img_width = 1000\n",
    "# #img_height = 1000\n",
    "# #scale_factor = 1\n",
    "\n",
    "# #fig.add_trace(go.Image(z = img))\n",
    "\n",
    "# # Configure axes\n",
    "# fig.update_xaxes(\n",
    "#     visible=False,\n",
    "#     #range=[0, img_width * scale_factor]\n",
    "# )\n",
    "\n",
    "# fig.update_yaxes(\n",
    "#     visible=False,\n",
    "#     #range=[0, img_height * scale_factor],\n",
    "#     # the scaleanchor attribute ensures that the aspect ratio stays constant\n",
    "#     #scaleanchor=\"x\",\n",
    "#     autorange = 'reversed'\n",
    "# )              \n",
    "              \n",
    "\n",
    "# def plot_images():\n",
    "              \n",
    "#     for j in range(3):\n",
    "#         img=mpimg.imread('../images/image_{}.jpg'.format(j))\n",
    "\n",
    "#         fig.add_trace(\n",
    "#                 go.Image(\n",
    "#                     visible = False,\n",
    "#                     z = img))\n",
    "            \n",
    "# plot_images()\n",
    "\n",
    "# # Create and add slider\n",
    "\n",
    "# def generate_story():\n",
    "#     steps = []\n",
    "#     for i in range(3):\n",
    "#         step = dict(\n",
    "#             method=\"update\",\n",
    "#             args=[{\"visible\": [False] * len(fig.data)}],\n",
    "#         )\n",
    "#         step[\"args\"][0][\"visible\"][i] = True  # Toggle i'th trace to \"visible\"\n",
    "#         steps.append(step)\n",
    "\n",
    "#     sliders = [dict(\n",
    "#         active=0,\n",
    "#         currentvalue={\"prefix\": \"Slide: \"},\n",
    "#         pad={\"t\": 20},\n",
    "#         steps=steps\n",
    "#     )]\n",
    "\n",
    "#     fig.update_layout(\n",
    "#         autosize=False,\n",
    "#         width=500,\n",
    "#         height=500,\n",
    "#         sliders=sliders,\n",
    "#         template =\"plotly_white\"\n",
    "#     )\n",
    "\n",
    "#     fig.write_html('../figures_html/story.html')\n",
    "\n",
    "# generate_story()\n",
    "# \"\"\""
   ]
  },
  {
   "cell_type": "code",
   "execution_count": 6,
   "metadata": {},
   "outputs": [],
   "source": [
    "import pandas as pd\n",
    "import matplotlib.image as mpimg\n",
    "import matplotlib.animation \n",
    "import matplotlib.pyplot as plt\n",
    "from matplotlib.animation import FuncAnimation\n",
    "# plt.rcParams['animation.ffmpeg_path'] = '/usr/bin/ffmpeg'\n"
   ]
  },
  {
   "cell_type": "code",
   "execution_count": 7,
   "metadata": {},
   "outputs": [],
   "source": [
    "def show_image(i):\n",
    "    img = mpimg.imread('../images/image_{}.jpg'.format(i))\n",
    "    #plt.figure(figsize = (20,2))\n",
    "    plt.imshow(img, interpolation='nearest')\n",
    "    plt.axis('off')\n",
    "    plt.figsize = (10,6)\n",
    "    plt.tight_layout()"
   ]
  },
  {
   "cell_type": "code",
   "execution_count": 8,
   "metadata": {},
   "outputs": [],
   "source": [
    "fig, ax = plt.subplots(figsize=(10,8))\n",
    "animator = FuncAnimation(fig, show_image, frames=range(0,23))\n",
    "\n",
    "# animator.save(filename = '../figures_html/story.gif', writer='imagemagick', fps=0.5)\n",
    "FFwriter = matplotlib.animation.FFMpegWriter(fps=0.5)\n",
    "animator.save('../figures_html/story.mp4', writer = FFwriter, dpi=100)\n",
    "\n",
    "animator.to_jshtml(fps=0.5)\n",
    "plt.close()"
   ]
  },
  {
   "cell_type": "code",
   "execution_count": 5,
   "metadata": {},
   "outputs": [],
   "source": [
    "ts = animator.to_jshtml(fps=0.5)"
   ]
  },
  {
   "cell_type": "code",
   "execution_count": null,
   "metadata": {},
   "outputs": [],
   "source": []
  }
 ],
 "metadata": {
  "kernelspec": {
   "display_name": "Python 3",
   "language": "python",
   "name": "python3"
  },
  "language_info": {
   "codemirror_mode": {
    "name": "ipython",
    "version": 3
   },
   "file_extension": ".py",
   "mimetype": "text/x-python",
   "name": "python",
   "nbconvert_exporter": "python",
   "pygments_lexer": "ipython3",
   "version": "3.6.9"
  }
 },
 "nbformat": 4,
 "nbformat_minor": 4
}
