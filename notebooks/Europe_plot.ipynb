{
 "cells": [
  {
   "cell_type": "code",
   "execution_count": null,
   "metadata": {},
   "outputs": [],
   "source": [
    "import pandas as pd"
   ]
  },
  {
   "cell_type": "code",
   "execution_count": null,
   "metadata": {},
   "outputs": [],
   "source": [
    "import pandas as pd\n",
    "df_sweden = pd.read_csv('../data/similar_country_absolute_cases.csv', index_col=0)"
   ]
  },
  {
   "cell_type": "code",
   "execution_count": null,
   "metadata": {},
   "outputs": [],
   "source": [
    "data_slider = []\n",
    "\n",
    "scl = [[0.0, '#ffffff'],[0.2, '#ff9999'],[0.4, '#ff4d4d'], \\\n",
    "       [0.6, '#ff1a1a'],[0.8, '#cc0000'],[1.0, '#4d0000']] # reds\n",
    "\n",
    "for date in df_sweden[\"Date\"].unique():\n",
    "    \n",
    "    region_one_date = df_sweden[df_sweden[\"Date\"] == date].drop([\"Date\"], axis = 1)\n",
    "    \n",
    "    new_df = pd.DataFrame({\"country\": region_one_date[\"Country/Region\"].tolist(),\n",
    "                           \"infected\": region_one_date[\"Number of cases\"].tolist()})\n",
    "    \n",
    "    data_one_date = dict(\n",
    "                        type='choropleth',\n",
    "                        colorscale = scl, \n",
    "                        locations = new_df[\"country\"], \n",
    "                        locationmode = 'country names',\n",
    "                        z=new_df[\"infected\"],\n",
    "                        text = new_df[\"country\"],\n",
    "                        zmin = 0,\n",
    "                        zmax = 25000,\n",
    "        \n",
    "                        marker = dict(     # for the lines separating states\n",
    "                        line = dict (color = 'rgb(0,0,0)', width = 0.5) ),\n",
    "                        \n",
    "                        colorbar = dict(title = \"Number of infected people in a given day\") \n",
    "                        )\n",
    "\n",
    "    data_slider.append(data_one_date)  # I add the dictionary to the list of dictionaries for the slider\n"
   ]
  },
  {
   "cell_type": "code",
   "execution_count": null,
   "metadata": {},
   "outputs": [],
   "source": [
    "steps = []\n",
    "\n",
    "for i in range(len(data_slider)):\n",
    "    step = dict(method='restyle',\n",
    "                args=['visible', [False] * len(data_slider)],\n",
    "                label= \"Date: {}\".format(df_sweden[\"Date\"].unique()[i]))\n",
    "    step['args'][1][i] = True\n",
    "    steps.append(step)\n",
    "\n",
    "\n",
    "##  I create the 'sliders' object from the 'steps' \n",
    "\n",
    "sliders = [dict(active=0, pad={\"t\": 1}, steps=steps, ticklen = 10, len = 750, lenmode = 'pixels')]"
   ]
  },
  {
   "cell_type": "code",
   "execution_count": null,
   "metadata": {},
   "outputs": [],
   "source": [
    "layout = dict(title = \"Scandinavia COVID19\",\n",
    "              width = 1050, \n",
    "              height = 680, \n",
    "              hovermode = \"closest\",\n",
    "              geo=dict(scope='europe',\n",
    "                       showlakes = True, \n",
    "                       lakecolor = 'rgb(73, 216, 230)',\n",
    "                        lataxis = {\"range\": [55.0, 85.0]}, \n",
    "                        lonaxis = {\"range\": [-1, 40.0]}, \n",
    "                        showland = False\n",
    "                      ),\n",
    "              sliders=sliders)"
   ]
  },
  {
   "cell_type": "code",
   "execution_count": null,
   "metadata": {},
   "outputs": [],
   "source": [
    "import plotly"
   ]
  },
  {
   "cell_type": "code",
   "execution_count": null,
   "metadata": {},
   "outputs": [],
   "source": [
    "fig = dict(data=data_slider, layout=layout) \n",
    "\n",
    "# to plot in the notebook\n",
    "\n",
    "plotly.offline.iplot(fig)"
   ]
  },
  {
   "cell_type": "code",
   "execution_count": null,
   "metadata": {},
   "outputs": [],
   "source": [
    "import plotly.offline as offline"
   ]
  },
  {
   "cell_type": "code",
   "execution_count": null,
   "metadata": {},
   "outputs": [],
   "source": [
    "offline.plot(fig, auto_open=False, image_width=2000, image_height=1000, \n",
    "              filename='../figures/scandinavia_covid.html', validate=True)\n"
   ]
  },
  {
   "cell_type": "code",
   "execution_count": null,
   "metadata": {},
   "outputs": [],
   "source": []
  }
 ],
 "metadata": {
  "kernelspec": {
   "display_name": "Python 3",
   "language": "python",
   "name": "python3"
  },
  "language_info": {
   "codemirror_mode": {
    "name": "ipython",
    "version": 3
   },
   "file_extension": ".py",
   "mimetype": "text/x-python",
   "name": "python",
   "nbconvert_exporter": "python",
   "pygments_lexer": "ipython3",
   "version": "3.6.9"
  }
 },
 "nbformat": 4,
 "nbformat_minor": 4
}
