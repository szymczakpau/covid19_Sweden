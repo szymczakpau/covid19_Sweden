{
 "cells": [
  {
   "cell_type": "code",
   "execution_count": 1,
   "metadata": {},
   "outputs": [],
   "source": [
    "import pandas as pd\n",
    "import plotly\n",
    "import plotly.offline as offline"
   ]
  },
  {
   "cell_type": "code",
   "execution_count": 2,
   "metadata": {},
   "outputs": [],
   "source": [
    "df_sweden = pd.read_csv('../data/similar_country_absolute_cases.csv', index_col=0)"
   ]
  },
  {
   "cell_type": "code",
   "execution_count": 3,
   "metadata": {},
   "outputs": [],
   "source": [
    "data_slider = []\n",
    "\n",
    "scl = [[0.0, '#ffffff'],[0.2, '#ff9999'],[0.4, '#ff4d4d'], \\\n",
    "       [0.6, '#ff1a1a'],[0.8, '#cc0000'],[1.0, '#4d0000']] # reds\n",
    "\n",
    "for date in df_sweden[\"Date\"].unique():\n",
    "    \n",
    "    region_one_date = df_sweden[df_sweden[\"Date\"] == date].drop([\"Date\"], axis = 1)\n",
    "    \n",
    "    new_df = pd.DataFrame({\"country\": region_one_date[\"Country/Region\"].tolist(),\n",
    "                           \"infected\": region_one_date[\"Number of cases\"].tolist()})\n",
    "    \n",
    "    data_one_date = dict(\n",
    "                        type='choropleth',\n",
    "                        colorscale = scl, \n",
    "                        locations = new_df[\"country\"], \n",
    "                        locationmode = 'country names',\n",
    "                        z=new_df[\"infected\"],\n",
    "                        text = new_df[\"country\"],\n",
    "                        zmin = 0,\n",
    "                        zmax = 25000,\n",
    "        \n",
    "                        marker = dict(     # for the lines separating states\n",
    "                        line = dict (color = 'rgb(0,0,0)', width = 0.5) ),\n",
    "                        \n",
    "                        colorbar = dict(title = \"Number of infected people in a given day\") \n",
    "                        )\n",
    "\n",
    "    data_slider.append(data_one_date)  # I add the dictionary to the list of dictionaries for the slider\n"
   ]
  },
  {
   "cell_type": "code",
   "execution_count": 5,
   "metadata": {},
   "outputs": [],
   "source": [
    "steps = []\n",
    "\n",
    "for i in range(len(data_slider)):\n",
    "    step = dict(method='restyle',\n",
    "                args=['visible', [False] * len(data_slider)],\n",
    "                label= \"Date: {}\".format(df_sweden[\"Date\"].unique()[i]))\n",
    "    step['args'][1][i] = True\n",
    "    steps.append(step)\n",
    "\n",
    "\n",
    "##  I create the 'sliders' object from the 'steps' \n",
    "\n",
    "sliders = [dict(active=0, pad={\"t\": 1}, steps=steps, ticklen = 10, len = 750, lenmode = 'pixels')]"
   ]
  },
  {
   "cell_type": "code",
   "execution_count": 26,
   "metadata": {},
   "outputs": [],
   "source": [
    "layout = dict(\n",
    "    title = None,\n",
    "    width = 580, \n",
    "    height = 500, \n",
    "    hovermode = \"closest\",\n",
    "    geo=dict(\n",
    "        scope='europe',\n",
    "        showlakes = True, \n",
    "        lakecolor = 'rgb(73, 216, 230)',\n",
    "        lataxis = {\"range\": [55.0, 85.0]}, \n",
    "        lonaxis = {\"range\": [-1, 40.0]}, \n",
    "        showland = False\n",
    "    ),\n",
    "    sliders=sliders,\n",
    "    margin=dict(l=50, r=0, t=0, b=100)\n",
    ")"
   ]
  },
  {
   "cell_type": "code",
   "execution_count": 27,
   "metadata": {},
   "outputs": [
    {
     "data": {
      "application/vnd.plotly.v1+json": {
       "config": {
        "linkText": "Export to plot.ly",
        "plotlyServerURL": "https://plot.ly",
        "showLink": false
       },
       "data": [
        {
         "colorbar": {
          "title": {
           "text": "Number of infected people in a given day"
          }
         },
         "colorscale": [
          [
           0,
           "#ffffff"
          ],
          [
           0.2,
           "#ff9999"
          ],
          [
           0.4,
           "#ff4d4d"
          ],
          [
           0.6,
           "#ff1a1a"
          ],
          [
           0.8,
           "#cc0000"
          ],
          [
           1,
           "#4d0000"
          ]
         ],
         "locationmode": "country names",
         "locations": [
          "Denmark",
          "Finland",
          "Norway",
          "Sweden"
         ],
         "marker": {
          "line": {
           "color": "rgb(0,0,0)",
           "width": 0.5
          }
         },
         "text": [
          "Denmark",
          "Finland",
          "Norway",
          "Sweden"
         ],
         "type": "choropleth",
         "z": [
          4,
          6,
          19,
          14
         ],
         "zmax": 25000,
         "zmin": 0
        },
        {
         "colorbar": {
          "title": {
           "text": "Number of infected people in a given day"
          }
         },
         "colorscale": [
          [
           0,
           "#ffffff"
          ],
          [
           0.2,
           "#ff9999"
          ],
          [
           0.4,
           "#ff4d4d"
          ],
          [
           0.6,
           "#ff1a1a"
          ],
          [
           0.8,
           "#cc0000"
          ],
          [
           1,
           "#4d0000"
          ]
         ],
         "locationmode": "country names",
         "locations": [
          "Denmark",
          "Finland",
          "Norway",
          "Sweden"
         ],
         "marker": {
          "line": {
           "color": "rgb(0,0,0)",
           "width": 0.5
          }
         },
         "text": [
          "Denmark",
          "Finland",
          "Norway",
          "Sweden"
         ],
         "type": "choropleth",
         "z": [
          4,
          6,
          25,
          15
         ],
         "zmax": 25000,
         "zmin": 0
        },
        {
         "colorbar": {
          "title": {
           "text": "Number of infected people in a given day"
          }
         },
         "colorscale": [
          [
           0,
           "#ffffff"
          ],
          [
           0.2,
           "#ff9999"
          ],
          [
           0.4,
           "#ff4d4d"
          ],
          [
           0.6,
           "#ff1a1a"
          ],
          [
           0.8,
           "#cc0000"
          ],
          [
           1,
           "#4d0000"
          ]
         ],
         "locationmode": "country names",
         "locations": [
          "Denmark",
          "Finland",
          "Norway",
          "Sweden"
         ],
         "marker": {
          "line": {
           "color": "rgb(0,0,0)",
           "width": 0.5
          }
         },
         "text": [
          "Denmark",
          "Finland",
          "Norway",
          "Sweden"
         ],
         "type": "choropleth",
         "z": [
          6,
          6,
          32,
          21
         ],
         "zmax": 25000,
         "zmin": 0
        },
        {
         "colorbar": {
          "title": {
           "text": "Number of infected people in a given day"
          }
         },
         "colorscale": [
          [
           0,
           "#ffffff"
          ],
          [
           0.2,
           "#ff9999"
          ],
          [
           0.4,
           "#ff4d4d"
          ],
          [
           0.6,
           "#ff1a1a"
          ],
          [
           0.8,
           "#cc0000"
          ],
          [
           1,
           "#4d0000"
          ]
         ],
         "locationmode": "country names",
         "locations": [
          "Denmark",
          "Finland",
          "Norway",
          "Sweden"
         ],
         "marker": {
          "line": {
           "color": "rgb(0,0,0)",
           "width": 0.5
          }
         },
         "text": [
          "Denmark",
          "Finland",
          "Norway",
          "Sweden"
         ],
         "type": "choropleth",
         "z": [
          10,
          6,
          56,
          35
         ],
         "zmax": 25000,
         "zmin": 0
        },
        {
         "colorbar": {
          "title": {
           "text": "Number of infected people in a given day"
          }
         },
         "colorscale": [
          [
           0,
           "#ffffff"
          ],
          [
           0.2,
           "#ff9999"
          ],
          [
           0.4,
           "#ff4d4d"
          ],
          [
           0.6,
           "#ff1a1a"
          ],
          [
           0.8,
           "#cc0000"
          ],
          [
           1,
           "#4d0000"
          ]
         ],
         "locationmode": "country names",
         "locations": [
          "Denmark",
          "Finland",
          "Norway",
          "Sweden"
         ],
         "marker": {
          "line": {
           "color": "rgb(0,0,0)",
           "width": 0.5
          }
         },
         "text": [
          "Denmark",
          "Finland",
          "Norway",
          "Sweden"
         ],
         "type": "choropleth",
         "z": [
          10,
          12,
          87,
          94
         ],
         "zmax": 25000,
         "zmin": 0
        },
        {
         "colorbar": {
          "title": {
           "text": "Number of infected people in a given day"
          }
         },
         "colorscale": [
          [
           0,
           "#ffffff"
          ],
          [
           0.2,
           "#ff9999"
          ],
          [
           0.4,
           "#ff4d4d"
          ],
          [
           0.6,
           "#ff1a1a"
          ],
          [
           0.8,
           "#cc0000"
          ],
          [
           1,
           "#4d0000"
          ]
         ],
         "locationmode": "country names",
         "locations": [
          "Denmark",
          "Finland",
          "Norway",
          "Sweden"
         ],
         "marker": {
          "line": {
           "color": "rgb(0,0,0)",
           "width": 0.5
          }
         },
         "text": [
          "Denmark",
          "Finland",
          "Norway",
          "Sweden"
         ],
         "type": "choropleth",
         "z": [
          23,
          15,
          108,
          101
         ],
         "zmax": 25000,
         "zmin": 0
        },
        {
         "colorbar": {
          "title": {
           "text": "Number of infected people in a given day"
          }
         },
         "colorscale": [
          [
           0,
           "#ffffff"
          ],
          [
           0.2,
           "#ff9999"
          ],
          [
           0.4,
           "#ff4d4d"
          ],
          [
           0.6,
           "#ff1a1a"
          ],
          [
           0.8,
           "#cc0000"
          ],
          [
           1,
           "#4d0000"
          ]
         ],
         "locationmode": "country names",
         "locations": [
          "Denmark",
          "Finland",
          "Norway",
          "Sweden"
         ],
         "marker": {
          "line": {
           "color": "rgb(0,0,0)",
           "width": 0.5
          }
         },
         "text": [
          "Denmark",
          "Finland",
          "Norway",
          "Sweden"
         ],
         "type": "choropleth",
         "z": [
          23,
          15,
          147,
          161
         ],
         "zmax": 25000,
         "zmin": 0
        },
        {
         "colorbar": {
          "title": {
           "text": "Number of infected people in a given day"
          }
         },
         "colorscale": [
          [
           0,
           "#ffffff"
          ],
          [
           0.2,
           "#ff9999"
          ],
          [
           0.4,
           "#ff4d4d"
          ],
          [
           0.6,
           "#ff1a1a"
          ],
          [
           0.8,
           "#cc0000"
          ],
          [
           1,
           "#4d0000"
          ]
         ],
         "locationmode": "country names",
         "locations": [
          "Denmark",
          "Finland",
          "Norway",
          "Sweden"
         ],
         "marker": {
          "line": {
           "color": "rgb(0,0,0)",
           "width": 0.5
          }
         },
         "text": [
          "Denmark",
          "Finland",
          "Norway",
          "Sweden"
         ],
         "type": "choropleth",
         "z": [
          35,
          23,
          176,
          203
         ],
         "zmax": 25000,
         "zmin": 0
        },
        {
         "colorbar": {
          "title": {
           "text": "Number of infected people in a given day"
          }
         },
         "colorscale": [
          [
           0,
           "#ffffff"
          ],
          [
           0.2,
           "#ff9999"
          ],
          [
           0.4,
           "#ff4d4d"
          ],
          [
           0.6,
           "#ff1a1a"
          ],
          [
           0.8,
           "#cc0000"
          ],
          [
           1,
           "#4d0000"
          ]
         ],
         "locationmode": "country names",
         "locations": [
          "Denmark",
          "Finland",
          "Norway",
          "Sweden"
         ],
         "marker": {
          "line": {
           "color": "rgb(0,0,0)",
           "width": 0.5
          }
         },
         "text": [
          "Denmark",
          "Finland",
          "Norway",
          "Sweden"
         ],
         "type": "choropleth",
         "z": [
          90,
          30,
          205,
          248
         ],
         "zmax": 25000,
         "zmin": 0
        },
        {
         "colorbar": {
          "title": {
           "text": "Number of infected people in a given day"
          }
         },
         "colorscale": [
          [
           0,
           "#ffffff"
          ],
          [
           0.2,
           "#ff9999"
          ],
          [
           0.4,
           "#ff4d4d"
          ],
          [
           0.6,
           "#ff1a1a"
          ],
          [
           0.8,
           "#cc0000"
          ],
          [
           1,
           "#4d0000"
          ]
         ],
         "locationmode": "country names",
         "locations": [
          "Denmark",
          "Finland",
          "Norway",
          "Sweden"
         ],
         "marker": {
          "line": {
           "color": "rgb(0,0,0)",
           "width": 0.5
          }
         },
         "text": [
          "Denmark",
          "Finland",
          "Norway",
          "Sweden"
         ],
         "type": "choropleth",
         "z": [
          262,
          40,
          400,
          355
         ],
         "zmax": 25000,
         "zmin": 0
        },
        {
         "colorbar": {
          "title": {
           "text": "Number of infected people in a given day"
          }
         },
         "colorscale": [
          [
           0,
           "#ffffff"
          ],
          [
           0.2,
           "#ff9999"
          ],
          [
           0.4,
           "#ff4d4d"
          ],
          [
           0.6,
           "#ff1a1a"
          ],
          [
           0.8,
           "#cc0000"
          ],
          [
           1,
           "#4d0000"
          ]
         ],
         "locationmode": "country names",
         "locations": [
          "Denmark",
          "Finland",
          "Norway",
          "Sweden"
         ],
         "marker": {
          "line": {
           "color": "rgb(0,0,0)",
           "width": 0.5
          }
         },
         "text": [
          "Denmark",
          "Finland",
          "Norway",
          "Sweden"
         ],
         "type": "choropleth",
         "z": [
          442,
          59,
          598,
          500
         ],
         "zmax": 25000,
         "zmin": 0
        },
        {
         "colorbar": {
          "title": {
           "text": "Number of infected people in a given day"
          }
         },
         "colorscale": [
          [
           0,
           "#ffffff"
          ],
          [
           0.2,
           "#ff9999"
          ],
          [
           0.4,
           "#ff4d4d"
          ],
          [
           0.6,
           "#ff1a1a"
          ],
          [
           0.8,
           "#cc0000"
          ],
          [
           1,
           "#4d0000"
          ]
         ],
         "locationmode": "country names",
         "locations": [
          "Denmark",
          "Finland",
          "Norway",
          "Sweden"
         ],
         "marker": {
          "line": {
           "color": "rgb(0,0,0)",
           "width": 0.5
          }
         },
         "text": [
          "Denmark",
          "Finland",
          "Norway",
          "Sweden"
         ],
         "type": "choropleth",
         "z": [
          615,
          59,
          702,
          599
         ],
         "zmax": 25000,
         "zmin": 0
        },
        {
         "colorbar": {
          "title": {
           "text": "Number of infected people in a given day"
          }
         },
         "colorscale": [
          [
           0,
           "#ffffff"
          ],
          [
           0.2,
           "#ff9999"
          ],
          [
           0.4,
           "#ff4d4d"
          ],
          [
           0.6,
           "#ff1a1a"
          ],
          [
           0.8,
           "#cc0000"
          ],
          [
           1,
           "#4d0000"
          ]
         ],
         "locationmode": "country names",
         "locations": [
          "Denmark",
          "Finland",
          "Norway",
          "Sweden"
         ],
         "marker": {
          "line": {
           "color": "rgb(0,0,0)",
           "width": 0.5
          }
         },
         "text": [
          "Denmark",
          "Finland",
          "Norway",
          "Sweden"
         ],
         "type": "choropleth",
         "z": [
          801,
          155,
          996,
          814
         ],
         "zmax": 25000,
         "zmin": 0
        },
        {
         "colorbar": {
          "title": {
           "text": "Number of infected people in a given day"
          }
         },
         "colorscale": [
          [
           0,
           "#ffffff"
          ],
          [
           0.2,
           "#ff9999"
          ],
          [
           0.4,
           "#ff4d4d"
          ],
          [
           0.6,
           "#ff1a1a"
          ],
          [
           0.8,
           "#cc0000"
          ],
          [
           1,
           "#4d0000"
          ]
         ],
         "locationmode": "country names",
         "locations": [
          "Denmark",
          "Finland",
          "Norway",
          "Sweden"
         ],
         "marker": {
          "line": {
           "color": "rgb(0,0,0)",
           "width": 0.5
          }
         },
         "text": [
          "Denmark",
          "Finland",
          "Norway",
          "Sweden"
         ],
         "type": "choropleth",
         "z": [
          827,
          225,
          1090,
          961
         ],
         "zmax": 25000,
         "zmin": 0
        },
        {
         "colorbar": {
          "title": {
           "text": "Number of infected people in a given day"
          }
         },
         "colorscale": [
          [
           0,
           "#ffffff"
          ],
          [
           0.2,
           "#ff9999"
          ],
          [
           0.4,
           "#ff4d4d"
          ],
          [
           0.6,
           "#ff1a1a"
          ],
          [
           0.8,
           "#cc0000"
          ],
          [
           1,
           "#4d0000"
          ]
         ],
         "locationmode": "country names",
         "locations": [
          "Denmark",
          "Finland",
          "Norway",
          "Sweden"
         ],
         "marker": {
          "line": {
           "color": "rgb(0,0,0)",
           "width": 0.5
          }
         },
         "text": [
          "Denmark",
          "Finland",
          "Norway",
          "Sweden"
         ],
         "type": "choropleth",
         "z": [
          864,
          244,
          1221,
          1022
         ],
         "zmax": 25000,
         "zmin": 0
        },
        {
         "colorbar": {
          "title": {
           "text": "Number of infected people in a given day"
          }
         },
         "colorscale": [
          [
           0,
           "#ffffff"
          ],
          [
           0.2,
           "#ff9999"
          ],
          [
           0.4,
           "#ff4d4d"
          ],
          [
           0.6,
           "#ff1a1a"
          ],
          [
           0.8,
           "#cc0000"
          ],
          [
           1,
           "#4d0000"
          ]
         ],
         "locationmode": "country names",
         "locations": [
          "Denmark",
          "Finland",
          "Norway",
          "Sweden"
         ],
         "marker": {
          "line": {
           "color": "rgb(0,0,0)",
           "width": 0.5
          }
         },
         "text": [
          "Denmark",
          "Finland",
          "Norway",
          "Sweden"
         ],
         "type": "choropleth",
         "z": [
          914,
          277,
          1333,
          1103
         ],
         "zmax": 25000,
         "zmin": 0
        },
        {
         "colorbar": {
          "title": {
           "text": "Number of infected people in a given day"
          }
         },
         "colorscale": [
          [
           0,
           "#ffffff"
          ],
          [
           0.2,
           "#ff9999"
          ],
          [
           0.4,
           "#ff4d4d"
          ],
          [
           0.6,
           "#ff1a1a"
          ],
          [
           0.8,
           "#cc0000"
          ],
          [
           1,
           "#4d0000"
          ]
         ],
         "locationmode": "country names",
         "locations": [
          "Denmark",
          "Finland",
          "Norway",
          "Sweden"
         ],
         "marker": {
          "line": {
           "color": "rgb(0,0,0)",
           "width": 0.5
          }
         },
         "text": [
          "Denmark",
          "Finland",
          "Norway",
          "Sweden"
         ],
         "type": "choropleth",
         "z": [
          977,
          321,
          1463,
          1190
         ],
         "zmax": 25000,
         "zmin": 0
        },
        {
         "colorbar": {
          "title": {
           "text": "Number of infected people in a given day"
          }
         },
         "colorscale": [
          [
           0,
           "#ffffff"
          ],
          [
           0.2,
           "#ff9999"
          ],
          [
           0.4,
           "#ff4d4d"
          ],
          [
           0.6,
           "#ff1a1a"
          ],
          [
           0.8,
           "#cc0000"
          ],
          [
           1,
           "#4d0000"
          ]
         ],
         "locationmode": "country names",
         "locations": [
          "Denmark",
          "Finland",
          "Norway",
          "Sweden"
         ],
         "marker": {
          "line": {
           "color": "rgb(0,0,0)",
           "width": 0.5
          }
         },
         "text": [
          "Denmark",
          "Finland",
          "Norway",
          "Sweden"
         ],
         "type": "choropleth",
         "z": [
          1057,
          336,
          1550,
          1279
         ],
         "zmax": 25000,
         "zmin": 0
        },
        {
         "colorbar": {
          "title": {
           "text": "Number of infected people in a given day"
          }
         },
         "colorscale": [
          [
           0,
           "#ffffff"
          ],
          [
           0.2,
           "#ff9999"
          ],
          [
           0.4,
           "#ff4d4d"
          ],
          [
           0.6,
           "#ff1a1a"
          ],
          [
           0.8,
           "#cc0000"
          ],
          [
           1,
           "#4d0000"
          ]
         ],
         "locationmode": "country names",
         "locations": [
          "Denmark",
          "Finland",
          "Norway",
          "Sweden"
         ],
         "marker": {
          "line": {
           "color": "rgb(0,0,0)",
           "width": 0.5
          }
         },
         "text": [
          "Denmark",
          "Finland",
          "Norway",
          "Sweden"
         ],
         "type": "choropleth",
         "z": [
          1151,
          400,
          1746,
          1439
         ],
         "zmax": 25000,
         "zmin": 0
        },
        {
         "colorbar": {
          "title": {
           "text": "Number of infected people in a given day"
          }
         },
         "colorscale": [
          [
           0,
           "#ffffff"
          ],
          [
           0.2,
           "#ff9999"
          ],
          [
           0.4,
           "#ff4d4d"
          ],
          [
           0.6,
           "#ff1a1a"
          ],
          [
           0.8,
           "#cc0000"
          ],
          [
           1,
           "#4d0000"
          ]
         ],
         "locationmode": "country names",
         "locations": [
          "Denmark",
          "Finland",
          "Norway",
          "Sweden"
         ],
         "marker": {
          "line": {
           "color": "rgb(0,0,0)",
           "width": 0.5
          }
         },
         "text": [
          "Denmark",
          "Finland",
          "Norway",
          "Sweden"
         ],
         "type": "choropleth",
         "z": [
          1255,
          450,
          1914,
          1639
         ],
         "zmax": 25000,
         "zmin": 0
        },
        {
         "colorbar": {
          "title": {
           "text": "Number of infected people in a given day"
          }
         },
         "colorscale": [
          [
           0,
           "#ffffff"
          ],
          [
           0.2,
           "#ff9999"
          ],
          [
           0.4,
           "#ff4d4d"
          ],
          [
           0.6,
           "#ff1a1a"
          ],
          [
           0.8,
           "#cc0000"
          ],
          [
           1,
           "#4d0000"
          ]
         ],
         "locationmode": "country names",
         "locations": [
          "Denmark",
          "Finland",
          "Norway",
          "Sweden"
         ],
         "marker": {
          "line": {
           "color": "rgb(0,0,0)",
           "width": 0.5
          }
         },
         "text": [
          "Denmark",
          "Finland",
          "Norway",
          "Sweden"
         ],
         "type": "choropleth",
         "z": [
          1326,
          523,
          2118,
          1763
         ],
         "zmax": 25000,
         "zmin": 0
        },
        {
         "colorbar": {
          "title": {
           "text": "Number of infected people in a given day"
          }
         },
         "colorscale": [
          [
           0,
           "#ffffff"
          ],
          [
           0.2,
           "#ff9999"
          ],
          [
           0.4,
           "#ff4d4d"
          ],
          [
           0.6,
           "#ff1a1a"
          ],
          [
           0.8,
           "#cc0000"
          ],
          [
           1,
           "#4d0000"
          ]
         ],
         "locationmode": "country names",
         "locations": [
          "Denmark",
          "Finland",
          "Norway",
          "Sweden"
         ],
         "marker": {
          "line": {
           "color": "rgb(0,0,0)",
           "width": 0.5
          }
         },
         "text": [
          "Denmark",
          "Finland",
          "Norway",
          "Sweden"
         ],
         "type": "choropleth",
         "z": [
          1395,
          626,
          2385,
          1934
         ],
         "zmax": 25000,
         "zmin": 0
        },
        {
         "colorbar": {
          "title": {
           "text": "Number of infected people in a given day"
          }
         },
         "colorscale": [
          [
           0,
           "#ffffff"
          ],
          [
           0.2,
           "#ff9999"
          ],
          [
           0.4,
           "#ff4d4d"
          ],
          [
           0.6,
           "#ff1a1a"
          ],
          [
           0.8,
           "#cc0000"
          ],
          [
           1,
           "#4d0000"
          ]
         ],
         "locationmode": "country names",
         "locations": [
          "Denmark",
          "Finland",
          "Norway",
          "Sweden"
         ],
         "marker": {
          "line": {
           "color": "rgb(0,0,0)",
           "width": 0.5
          }
         },
         "text": [
          "Denmark",
          "Finland",
          "Norway",
          "Sweden"
         ],
         "type": "choropleth",
         "z": [
          1450,
          700,
          2621,
          2046
         ],
         "zmax": 25000,
         "zmin": 0
        },
        {
         "colorbar": {
          "title": {
           "text": "Number of infected people in a given day"
          }
         },
         "colorscale": [
          [
           0,
           "#ffffff"
          ],
          [
           0.2,
           "#ff9999"
          ],
          [
           0.4,
           "#ff4d4d"
          ],
          [
           0.6,
           "#ff1a1a"
          ],
          [
           0.8,
           "#cc0000"
          ],
          [
           1,
           "#4d0000"
          ]
         ],
         "locationmode": "country names",
         "locations": [
          "Denmark",
          "Finland",
          "Norway",
          "Sweden"
         ],
         "marker": {
          "line": {
           "color": "rgb(0,0,0)",
           "width": 0.5
          }
         },
         "text": [
          "Denmark",
          "Finland",
          "Norway",
          "Sweden"
         ],
         "type": "choropleth",
         "z": [
          1591,
          792,
          2863,
          2286
         ],
         "zmax": 25000,
         "zmin": 0
        },
        {
         "colorbar": {
          "title": {
           "text": "Number of infected people in a given day"
          }
         },
         "colorscale": [
          [
           0,
           "#ffffff"
          ],
          [
           0.2,
           "#ff9999"
          ],
          [
           0.4,
           "#ff4d4d"
          ],
          [
           0.6,
           "#ff1a1a"
          ],
          [
           0.8,
           "#cc0000"
          ],
          [
           1,
           "#4d0000"
          ]
         ],
         "locationmode": "country names",
         "locations": [
          "Denmark",
          "Finland",
          "Norway",
          "Sweden"
         ],
         "marker": {
          "line": {
           "color": "rgb(0,0,0)",
           "width": 0.5
          }
         },
         "text": [
          "Denmark",
          "Finland",
          "Norway",
          "Sweden"
         ],
         "type": "choropleth",
         "z": [
          1724,
          880,
          3084,
          2526
         ],
         "zmax": 25000,
         "zmin": 0
        },
        {
         "colorbar": {
          "title": {
           "text": "Number of infected people in a given day"
          }
         },
         "colorscale": [
          [
           0,
           "#ffffff"
          ],
          [
           0.2,
           "#ff9999"
          ],
          [
           0.4,
           "#ff4d4d"
          ],
          [
           0.6,
           "#ff1a1a"
          ],
          [
           0.8,
           "#cc0000"
          ],
          [
           1,
           "#4d0000"
          ]
         ],
         "locationmode": "country names",
         "locations": [
          "Denmark",
          "Finland",
          "Norway",
          "Sweden"
         ],
         "marker": {
          "line": {
           "color": "rgb(0,0,0)",
           "width": 0.5
          }
         },
         "text": [
          "Denmark",
          "Finland",
          "Norway",
          "Sweden"
         ],
         "type": "choropleth",
         "z": [
          1877,
          958,
          3369,
          2840
         ],
         "zmax": 25000,
         "zmin": 0
        },
        {
         "colorbar": {
          "title": {
           "text": "Number of infected people in a given day"
          }
         },
         "colorscale": [
          [
           0,
           "#ffffff"
          ],
          [
           0.2,
           "#ff9999"
          ],
          [
           0.4,
           "#ff4d4d"
          ],
          [
           0.6,
           "#ff1a1a"
          ],
          [
           0.8,
           "#cc0000"
          ],
          [
           1,
           "#4d0000"
          ]
         ],
         "locationmode": "country names",
         "locations": [
          "Denmark",
          "Finland",
          "Norway",
          "Sweden"
         ],
         "marker": {
          "line": {
           "color": "rgb(0,0,0)",
           "width": 0.5
          }
         },
         "text": [
          "Denmark",
          "Finland",
          "Norway",
          "Sweden"
         ],
         "type": "choropleth",
         "z": [
          2046,
          1041,
          3755,
          3069
         ],
         "zmax": 25000,
         "zmin": 0
        },
        {
         "colorbar": {
          "title": {
           "text": "Number of infected people in a given day"
          }
         },
         "colorscale": [
          [
           0,
           "#ffffff"
          ],
          [
           0.2,
           "#ff9999"
          ],
          [
           0.4,
           "#ff4d4d"
          ],
          [
           0.6,
           "#ff1a1a"
          ],
          [
           0.8,
           "#cc0000"
          ],
          [
           1,
           "#4d0000"
          ]
         ],
         "locationmode": "country names",
         "locations": [
          "Denmark",
          "Finland",
          "Norway",
          "Sweden"
         ],
         "marker": {
          "line": {
           "color": "rgb(0,0,0)",
           "width": 0.5
          }
         },
         "text": [
          "Denmark",
          "Finland",
          "Norway",
          "Sweden"
         ],
         "type": "choropleth",
         "z": [
          2201,
          1167,
          4015,
          3447
         ],
         "zmax": 25000,
         "zmin": 0
        },
        {
         "colorbar": {
          "title": {
           "text": "Number of infected people in a given day"
          }
         },
         "colorscale": [
          [
           0,
           "#ffffff"
          ],
          [
           0.2,
           "#ff9999"
          ],
          [
           0.4,
           "#ff4d4d"
          ],
          [
           0.6,
           "#ff1a1a"
          ],
          [
           0.8,
           "#cc0000"
          ],
          [
           1,
           "#4d0000"
          ]
         ],
         "locationmode": "country names",
         "locations": [
          "Denmark",
          "Finland",
          "Norway",
          "Sweden"
         ],
         "marker": {
          "line": {
           "color": "rgb(0,0,0)",
           "width": 0.5
          }
         },
         "text": [
          "Denmark",
          "Finland",
          "Norway",
          "Sweden"
         ],
         "type": "choropleth",
         "z": [
          2395,
          1240,
          4284,
          3700
         ],
         "zmax": 25000,
         "zmin": 0
        },
        {
         "colorbar": {
          "title": {
           "text": "Number of infected people in a given day"
          }
         },
         "colorscale": [
          [
           0,
           "#ffffff"
          ],
          [
           0.2,
           "#ff9999"
          ],
          [
           0.4,
           "#ff4d4d"
          ],
          [
           0.6,
           "#ff1a1a"
          ],
          [
           0.8,
           "#cc0000"
          ],
          [
           1,
           "#4d0000"
          ]
         ],
         "locationmode": "country names",
         "locations": [
          "Denmark",
          "Finland",
          "Norway",
          "Sweden"
         ],
         "marker": {
          "line": {
           "color": "rgb(0,0,0)",
           "width": 0.5
          }
         },
         "text": [
          "Denmark",
          "Finland",
          "Norway",
          "Sweden"
         ],
         "type": "choropleth",
         "z": [
          2577,
          1352,
          4445,
          4028
         ],
         "zmax": 25000,
         "zmin": 0
        },
        {
         "colorbar": {
          "title": {
           "text": "Number of infected people in a given day"
          }
         },
         "colorscale": [
          [
           0,
           "#ffffff"
          ],
          [
           0.2,
           "#ff9999"
          ],
          [
           0.4,
           "#ff4d4d"
          ],
          [
           0.6,
           "#ff1a1a"
          ],
          [
           0.8,
           "#cc0000"
          ],
          [
           1,
           "#4d0000"
          ]
         ],
         "locationmode": "country names",
         "locations": [
          "Denmark",
          "Finland",
          "Norway",
          "Sweden"
         ],
         "marker": {
          "line": {
           "color": "rgb(0,0,0)",
           "width": 0.5
          }
         },
         "text": [
          "Denmark",
          "Finland",
          "Norway",
          "Sweden"
         ],
         "type": "choropleth",
         "z": [
          2860,
          1418,
          4641,
          4435
         ],
         "zmax": 25000,
         "zmin": 0
        },
        {
         "colorbar": {
          "title": {
           "text": "Number of infected people in a given day"
          }
         },
         "colorscale": [
          [
           0,
           "#ffffff"
          ],
          [
           0.2,
           "#ff9999"
          ],
          [
           0.4,
           "#ff4d4d"
          ],
          [
           0.6,
           "#ff1a1a"
          ],
          [
           0.8,
           "#cc0000"
          ],
          [
           1,
           "#4d0000"
          ]
         ],
         "locationmode": "country names",
         "locations": [
          "Denmark",
          "Finland",
          "Norway",
          "Sweden"
         ],
         "marker": {
          "line": {
           "color": "rgb(0,0,0)",
           "width": 0.5
          }
         },
         "text": [
          "Denmark",
          "Finland",
          "Norway",
          "Sweden"
         ],
         "type": "choropleth",
         "z": [
          3107,
          1446,
          4863,
          4947
         ],
         "zmax": 25000,
         "zmin": 0
        },
        {
         "colorbar": {
          "title": {
           "text": "Number of infected people in a given day"
          }
         },
         "colorscale": [
          [
           0,
           "#ffffff"
          ],
          [
           0.2,
           "#ff9999"
          ],
          [
           0.4,
           "#ff4d4d"
          ],
          [
           0.6,
           "#ff1a1a"
          ],
          [
           0.8,
           "#cc0000"
          ],
          [
           1,
           "#4d0000"
          ]
         ],
         "locationmode": "country names",
         "locations": [
          "Denmark",
          "Finland",
          "Norway",
          "Sweden"
         ],
         "marker": {
          "line": {
           "color": "rgb(0,0,0)",
           "width": 0.5
          }
         },
         "text": [
          "Denmark",
          "Finland",
          "Norway",
          "Sweden"
         ],
         "type": "choropleth",
         "z": [
          3386,
          1518,
          5147,
          5568
         ],
         "zmax": 25000,
         "zmin": 0
        },
        {
         "colorbar": {
          "title": {
           "text": "Number of infected people in a given day"
          }
         },
         "colorscale": [
          [
           0,
           "#ffffff"
          ],
          [
           0.2,
           "#ff9999"
          ],
          [
           0.4,
           "#ff4d4d"
          ],
          [
           0.6,
           "#ff1a1a"
          ],
          [
           0.8,
           "#cc0000"
          ],
          [
           1,
           "#4d0000"
          ]
         ],
         "locationmode": "country names",
         "locations": [
          "Denmark",
          "Finland",
          "Norway",
          "Sweden"
         ],
         "marker": {
          "line": {
           "color": "rgb(0,0,0)",
           "width": 0.5
          }
         },
         "text": [
          "Denmark",
          "Finland",
          "Norway",
          "Sweden"
         ],
         "type": "choropleth",
         "z": [
          3757,
          1615,
          5370,
          6131
         ],
         "zmax": 25000,
         "zmin": 0
        },
        {
         "colorbar": {
          "title": {
           "text": "Number of infected people in a given day"
          }
         },
         "colorscale": [
          [
           0,
           "#ffffff"
          ],
          [
           0.2,
           "#ff9999"
          ],
          [
           0.4,
           "#ff4d4d"
          ],
          [
           0.6,
           "#ff1a1a"
          ],
          [
           0.8,
           "#cc0000"
          ],
          [
           1,
           "#4d0000"
          ]
         ],
         "locationmode": "country names",
         "locations": [
          "Denmark",
          "Finland",
          "Norway",
          "Sweden"
         ],
         "marker": {
          "line": {
           "color": "rgb(0,0,0)",
           "width": 0.5
          }
         },
         "text": [
          "Denmark",
          "Finland",
          "Norway",
          "Sweden"
         ],
         "type": "choropleth",
         "z": [
          4077,
          1882,
          5550,
          6443
         ],
         "zmax": 25000,
         "zmin": 0
        },
        {
         "colorbar": {
          "title": {
           "text": "Number of infected people in a given day"
          }
         },
         "colorscale": [
          [
           0,
           "#ffffff"
          ],
          [
           0.2,
           "#ff9999"
          ],
          [
           0.4,
           "#ff4d4d"
          ],
          [
           0.6,
           "#ff1a1a"
          ],
          [
           0.8,
           "#cc0000"
          ],
          [
           1,
           "#4d0000"
          ]
         ],
         "locationmode": "country names",
         "locations": [
          "Denmark",
          "Finland",
          "Norway",
          "Sweden"
         ],
         "marker": {
          "line": {
           "color": "rgb(0,0,0)",
           "width": 0.5
          }
         },
         "text": [
          "Denmark",
          "Finland",
          "Norway",
          "Sweden"
         ],
         "type": "choropleth",
         "z": [
          4369,
          1927,
          5687,
          6830
         ],
         "zmax": 25000,
         "zmin": 0
        },
        {
         "colorbar": {
          "title": {
           "text": "Number of infected people in a given day"
          }
         },
         "colorscale": [
          [
           0,
           "#ffffff"
          ],
          [
           0.2,
           "#ff9999"
          ],
          [
           0.4,
           "#ff4d4d"
          ],
          [
           0.6,
           "#ff1a1a"
          ],
          [
           0.8,
           "#cc0000"
          ],
          [
           1,
           "#4d0000"
          ]
         ],
         "locationmode": "country names",
         "locations": [
          "Denmark",
          "Finland",
          "Norway",
          "Sweden"
         ],
         "marker": {
          "line": {
           "color": "rgb(0,0,0)",
           "width": 0.5
          }
         },
         "text": [
          "Denmark",
          "Finland",
          "Norway",
          "Sweden"
         ],
         "type": "choropleth",
         "z": [
          4681,
          2176,
          5865,
          7206
         ],
         "zmax": 25000,
         "zmin": 0
        },
        {
         "colorbar": {
          "title": {
           "text": "Number of infected people in a given day"
          }
         },
         "colorscale": [
          [
           0,
           "#ffffff"
          ],
          [
           0.2,
           "#ff9999"
          ],
          [
           0.4,
           "#ff4d4d"
          ],
          [
           0.6,
           "#ff1a1a"
          ],
          [
           0.8,
           "#cc0000"
          ],
          [
           1,
           "#4d0000"
          ]
         ],
         "locationmode": "country names",
         "locations": [
          "Denmark",
          "Finland",
          "Norway",
          "Sweden"
         ],
         "marker": {
          "line": {
           "color": "rgb(0,0,0)",
           "width": 0.5
          }
         },
         "text": [
          "Denmark",
          "Finland",
          "Norway",
          "Sweden"
         ],
         "type": "choropleth",
         "z": [
          5071,
          2308,
          6086,
          7693
         ],
         "zmax": 25000,
         "zmin": 0
        },
        {
         "colorbar": {
          "title": {
           "text": "Number of infected people in a given day"
          }
         },
         "colorscale": [
          [
           0,
           "#ffffff"
          ],
          [
           0.2,
           "#ff9999"
          ],
          [
           0.4,
           "#ff4d4d"
          ],
          [
           0.6,
           "#ff1a1a"
          ],
          [
           0.8,
           "#cc0000"
          ],
          [
           1,
           "#4d0000"
          ]
         ],
         "locationmode": "country names",
         "locations": [
          "Denmark",
          "Finland",
          "Norway",
          "Sweden"
         ],
         "marker": {
          "line": {
           "color": "rgb(0,0,0)",
           "width": 0.5
          }
         },
         "text": [
          "Denmark",
          "Finland",
          "Norway",
          "Sweden"
         ],
         "type": "choropleth",
         "z": [
          5402,
          2487,
          6086,
          8419
         ],
         "zmax": 25000,
         "zmin": 0
        },
        {
         "colorbar": {
          "title": {
           "text": "Number of infected people in a given day"
          }
         },
         "colorscale": [
          [
           0,
           "#ffffff"
          ],
          [
           0.2,
           "#ff9999"
          ],
          [
           0.4,
           "#ff4d4d"
          ],
          [
           0.6,
           "#ff1a1a"
          ],
          [
           0.8,
           "#cc0000"
          ],
          [
           1,
           "#4d0000"
          ]
         ],
         "locationmode": "country names",
         "locations": [
          "Denmark",
          "Finland",
          "Norway",
          "Sweden"
         ],
         "marker": {
          "line": {
           "color": "rgb(0,0,0)",
           "width": 0.5
          }
         },
         "text": [
          "Denmark",
          "Finland",
          "Norway",
          "Sweden"
         ],
         "type": "choropleth",
         "z": [
          5635,
          2605,
          6211,
          9141
         ],
         "zmax": 25000,
         "zmin": 0
        },
        {
         "colorbar": {
          "title": {
           "text": "Number of infected people in a given day"
          }
         },
         "colorscale": [
          [
           0,
           "#ffffff"
          ],
          [
           0.2,
           "#ff9999"
          ],
          [
           0.4,
           "#ff4d4d"
          ],
          [
           0.6,
           "#ff1a1a"
          ],
          [
           0.8,
           "#cc0000"
          ],
          [
           1,
           "#4d0000"
          ]
         ],
         "locationmode": "country names",
         "locations": [
          "Denmark",
          "Finland",
          "Norway",
          "Sweden"
         ],
         "marker": {
          "line": {
           "color": "rgb(0,0,0)",
           "width": 0.5
          }
         },
         "text": [
          "Denmark",
          "Finland",
          "Norway",
          "Sweden"
         ],
         "type": "choropleth",
         "z": [
          5819,
          2769,
          6314,
          9685
         ],
         "zmax": 25000,
         "zmin": 0
        },
        {
         "colorbar": {
          "title": {
           "text": "Number of infected people in a given day"
          }
         },
         "colorscale": [
          [
           0,
           "#ffffff"
          ],
          [
           0.2,
           "#ff9999"
          ],
          [
           0.4,
           "#ff4d4d"
          ],
          [
           0.6,
           "#ff1a1a"
          ],
          [
           0.8,
           "#cc0000"
          ],
          [
           1,
           "#4d0000"
          ]
         ],
         "locationmode": "country names",
         "locations": [
          "Denmark",
          "Finland",
          "Norway",
          "Sweden"
         ],
         "marker": {
          "line": {
           "color": "rgb(0,0,0)",
           "width": 0.5
          }
         },
         "text": [
          "Denmark",
          "Finland",
          "Norway",
          "Sweden"
         ],
         "type": "choropleth",
         "z": [
          5996,
          2905,
          6409,
          10151
         ],
         "zmax": 25000,
         "zmin": 0
        },
        {
         "colorbar": {
          "title": {
           "text": "Number of infected people in a given day"
          }
         },
         "colorscale": [
          [
           0,
           "#ffffff"
          ],
          [
           0.2,
           "#ff9999"
          ],
          [
           0.4,
           "#ff4d4d"
          ],
          [
           0.6,
           "#ff1a1a"
          ],
          [
           0.8,
           "#cc0000"
          ],
          [
           1,
           "#4d0000"
          ]
         ],
         "locationmode": "country names",
         "locations": [
          "Denmark",
          "Finland",
          "Norway",
          "Sweden"
         ],
         "marker": {
          "line": {
           "color": "rgb(0,0,0)",
           "width": 0.5
          }
         },
         "text": [
          "Denmark",
          "Finland",
          "Norway",
          "Sweden"
         ],
         "type": "choropleth",
         "z": [
          6174,
          2974,
          6525,
          10483
         ],
         "zmax": 25000,
         "zmin": 0
        },
        {
         "colorbar": {
          "title": {
           "text": "Number of infected people in a given day"
          }
         },
         "colorscale": [
          [
           0,
           "#ffffff"
          ],
          [
           0.2,
           "#ff9999"
          ],
          [
           0.4,
           "#ff4d4d"
          ],
          [
           0.6,
           "#ff1a1a"
          ],
          [
           0.8,
           "#cc0000"
          ],
          [
           1,
           "#4d0000"
          ]
         ],
         "locationmode": "country names",
         "locations": [
          "Denmark",
          "Finland",
          "Norway",
          "Sweden"
         ],
         "marker": {
          "line": {
           "color": "rgb(0,0,0)",
           "width": 0.5
          }
         },
         "text": [
          "Denmark",
          "Finland",
          "Norway",
          "Sweden"
         ],
         "type": "choropleth",
         "z": [
          6318,
          3064,
          6603,
          10948
         ],
         "zmax": 25000,
         "zmin": 0
        },
        {
         "colorbar": {
          "title": {
           "text": "Number of infected people in a given day"
          }
         },
         "colorscale": [
          [
           0,
           "#ffffff"
          ],
          [
           0.2,
           "#ff9999"
          ],
          [
           0.4,
           "#ff4d4d"
          ],
          [
           0.6,
           "#ff1a1a"
          ],
          [
           0.8,
           "#cc0000"
          ],
          [
           1,
           "#4d0000"
          ]
         ],
         "locationmode": "country names",
         "locations": [
          "Denmark",
          "Finland",
          "Norway",
          "Sweden"
         ],
         "marker": {
          "line": {
           "color": "rgb(0,0,0)",
           "width": 0.5
          }
         },
         "text": [
          "Denmark",
          "Finland",
          "Norway",
          "Sweden"
         ],
         "type": "choropleth",
         "z": [
          6511,
          3161,
          6623,
          11445
         ],
         "zmax": 25000,
         "zmin": 0
        },
        {
         "colorbar": {
          "title": {
           "text": "Number of infected people in a given day"
          }
         },
         "colorscale": [
          [
           0,
           "#ffffff"
          ],
          [
           0.2,
           "#ff9999"
          ],
          [
           0.4,
           "#ff4d4d"
          ],
          [
           0.6,
           "#ff1a1a"
          ],
          [
           0.8,
           "#cc0000"
          ],
          [
           1,
           "#4d0000"
          ]
         ],
         "locationmode": "country names",
         "locations": [
          "Denmark",
          "Finland",
          "Norway",
          "Sweden"
         ],
         "marker": {
          "line": {
           "color": "rgb(0,0,0)",
           "width": 0.5
          }
         },
         "text": [
          "Denmark",
          "Finland",
          "Norway",
          "Sweden"
         ],
         "type": "choropleth",
         "z": [
          6681,
          3237,
          6740,
          11927
         ],
         "zmax": 25000,
         "zmin": 0
        },
        {
         "colorbar": {
          "title": {
           "text": "Number of infected people in a given day"
          }
         },
         "colorscale": [
          [
           0,
           "#ffffff"
          ],
          [
           0.2,
           "#ff9999"
          ],
          [
           0.4,
           "#ff4d4d"
          ],
          [
           0.6,
           "#ff1a1a"
          ],
          [
           0.8,
           "#cc0000"
          ],
          [
           1,
           "#4d0000"
          ]
         ],
         "locationmode": "country names",
         "locations": [
          "Denmark",
          "Finland",
          "Norway",
          "Sweden"
         ],
         "marker": {
          "line": {
           "color": "rgb(0,0,0)",
           "width": 0.5
          }
         },
         "text": [
          "Denmark",
          "Finland",
          "Norway",
          "Sweden"
         ],
         "type": "choropleth",
         "z": [
          6879,
          3369,
          6896,
          12540
         ],
         "zmax": 25000,
         "zmin": 0
        },
        {
         "colorbar": {
          "title": {
           "text": "Number of infected people in a given day"
          }
         },
         "colorscale": [
          [
           0,
           "#ffffff"
          ],
          [
           0.2,
           "#ff9999"
          ],
          [
           0.4,
           "#ff4d4d"
          ],
          [
           0.6,
           "#ff1a1a"
          ],
          [
           0.8,
           "#cc0000"
          ],
          [
           1,
           "#4d0000"
          ]
         ],
         "locationmode": "country names",
         "locations": [
          "Denmark",
          "Finland",
          "Norway",
          "Sweden"
         ],
         "marker": {
          "line": {
           "color": "rgb(0,0,0)",
           "width": 0.5
          }
         },
         "text": [
          "Denmark",
          "Finland",
          "Norway",
          "Sweden"
         ],
         "type": "choropleth",
         "z": [
          7073,
          3489,
          6937,
          13216
         ],
         "zmax": 25000,
         "zmin": 0
        },
        {
         "colorbar": {
          "title": {
           "text": "Number of infected people in a given day"
          }
         },
         "colorscale": [
          [
           0,
           "#ffffff"
          ],
          [
           0.2,
           "#ff9999"
          ],
          [
           0.4,
           "#ff4d4d"
          ],
          [
           0.6,
           "#ff1a1a"
          ],
          [
           0.8,
           "#cc0000"
          ],
          [
           1,
           "#4d0000"
          ]
         ],
         "locationmode": "country names",
         "locations": [
          "Denmark",
          "Finland",
          "Norway",
          "Sweden"
         ],
         "marker": {
          "line": {
           "color": "rgb(0,0,0)",
           "width": 0.5
          }
         },
         "text": [
          "Denmark",
          "Finland",
          "Norway",
          "Sweden"
         ],
         "type": "choropleth",
         "z": [
          7242,
          3681,
          7036,
          13822
         ],
         "zmax": 25000,
         "zmin": 0
        },
        {
         "colorbar": {
          "title": {
           "text": "Number of infected people in a given day"
          }
         },
         "colorscale": [
          [
           0,
           "#ffffff"
          ],
          [
           0.2,
           "#ff9999"
          ],
          [
           0.4,
           "#ff4d4d"
          ],
          [
           0.6,
           "#ff1a1a"
          ],
          [
           0.8,
           "#cc0000"
          ],
          [
           1,
           "#4d0000"
          ]
         ],
         "locationmode": "country names",
         "locations": [
          "Denmark",
          "Finland",
          "Norway",
          "Sweden"
         ],
         "marker": {
          "line": {
           "color": "rgb(0,0,0)",
           "width": 0.5
          }
         },
         "text": [
          "Denmark",
          "Finland",
          "Norway",
          "Sweden"
         ],
         "type": "choropleth",
         "z": [
          7384,
          3783,
          7078,
          14385
         ],
         "zmax": 25000,
         "zmin": 0
        },
        {
         "colorbar": {
          "title": {
           "text": "Number of infected people in a given day"
          }
         },
         "colorscale": [
          [
           0,
           "#ffffff"
          ],
          [
           0.2,
           "#ff9999"
          ],
          [
           0.4,
           "#ff4d4d"
          ],
          [
           0.6,
           "#ff1a1a"
          ],
          [
           0.8,
           "#cc0000"
          ],
          [
           1,
           "#4d0000"
          ]
         ],
         "locationmode": "country names",
         "locations": [
          "Denmark",
          "Finland",
          "Norway",
          "Sweden"
         ],
         "marker": {
          "line": {
           "color": "rgb(0,0,0)",
           "width": 0.5
          }
         },
         "text": [
          "Denmark",
          "Finland",
          "Norway",
          "Sweden"
         ],
         "type": "choropleth",
         "z": [
          7515,
          3868,
          7156,
          14777
         ],
         "zmax": 25000,
         "zmin": 0
        },
        {
         "colorbar": {
          "title": {
           "text": "Number of infected people in a given day"
          }
         },
         "colorscale": [
          [
           0,
           "#ffffff"
          ],
          [
           0.2,
           "#ff9999"
          ],
          [
           0.4,
           "#ff4d4d"
          ],
          [
           0.6,
           "#ff1a1a"
          ],
          [
           0.8,
           "#cc0000"
          ],
          [
           1,
           "#4d0000"
          ]
         ],
         "locationmode": "country names",
         "locations": [
          "Denmark",
          "Finland",
          "Norway",
          "Sweden"
         ],
         "marker": {
          "line": {
           "color": "rgb(0,0,0)",
           "width": 0.5
          }
         },
         "text": [
          "Denmark",
          "Finland",
          "Norway",
          "Sweden"
         ],
         "type": "choropleth",
         "z": [
          7695,
          4014,
          7191,
          15322
         ],
         "zmax": 25000,
         "zmin": 0
        },
        {
         "colorbar": {
          "title": {
           "text": "Number of infected people in a given day"
          }
         },
         "colorscale": [
          [
           0,
           "#ffffff"
          ],
          [
           0.2,
           "#ff9999"
          ],
          [
           0.4,
           "#ff4d4d"
          ],
          [
           0.6,
           "#ff1a1a"
          ],
          [
           0.8,
           "#cc0000"
          ],
          [
           1,
           "#4d0000"
          ]
         ],
         "locationmode": "country names",
         "locations": [
          "Denmark",
          "Finland",
          "Norway",
          "Sweden"
         ],
         "marker": {
          "line": {
           "color": "rgb(0,0,0)",
           "width": 0.5
          }
         },
         "text": [
          "Denmark",
          "Finland",
          "Norway",
          "Sweden"
         ],
         "type": "choropleth",
         "z": [
          7912,
          4129,
          7338,
          16004
         ],
         "zmax": 25000,
         "zmin": 0
        },
        {
         "colorbar": {
          "title": {
           "text": "Number of infected people in a given day"
          }
         },
         "colorscale": [
          [
           0,
           "#ffffff"
          ],
          [
           0.2,
           "#ff9999"
          ],
          [
           0.4,
           "#ff4d4d"
          ],
          [
           0.6,
           "#ff1a1a"
          ],
          [
           0.8,
           "#cc0000"
          ],
          [
           1,
           "#4d0000"
          ]
         ],
         "locationmode": "country names",
         "locations": [
          "Denmark",
          "Finland",
          "Norway",
          "Sweden"
         ],
         "marker": {
          "line": {
           "color": "rgb(0,0,0)",
           "width": 0.5
          }
         },
         "text": [
          "Denmark",
          "Finland",
          "Norway",
          "Sweden"
         ],
         "type": "choropleth",
         "z": [
          8073,
          4284,
          7401,
          16755
         ],
         "zmax": 25000,
         "zmin": 0
        },
        {
         "colorbar": {
          "title": {
           "text": "Number of infected people in a given day"
          }
         },
         "colorscale": [
          [
           0,
           "#ffffff"
          ],
          [
           0.2,
           "#ff9999"
          ],
          [
           0.4,
           "#ff4d4d"
          ],
          [
           0.6,
           "#ff1a1a"
          ],
          [
           0.8,
           "#cc0000"
          ],
          [
           1,
           "#4d0000"
          ]
         ],
         "locationmode": "country names",
         "locations": [
          "Denmark",
          "Finland",
          "Norway",
          "Sweden"
         ],
         "marker": {
          "line": {
           "color": "rgb(0,0,0)",
           "width": 0.5
          }
         },
         "text": [
          "Denmark",
          "Finland",
          "Norway",
          "Sweden"
         ],
         "type": "choropleth",
         "z": [
          8210,
          4395,
          7463,
          17567
         ],
         "zmax": 25000,
         "zmin": 0
        },
        {
         "colorbar": {
          "title": {
           "text": "Number of infected people in a given day"
          }
         },
         "colorscale": [
          [
           0,
           "#ffffff"
          ],
          [
           0.2,
           "#ff9999"
          ],
          [
           0.4,
           "#ff4d4d"
          ],
          [
           0.6,
           "#ff1a1a"
          ],
          [
           0.8,
           "#cc0000"
          ],
          [
           1,
           "#4d0000"
          ]
         ],
         "locationmode": "country names",
         "locations": [
          "Denmark",
          "Finland",
          "Norway",
          "Sweden"
         ],
         "marker": {
          "line": {
           "color": "rgb(0,0,0)",
           "width": 0.5
          }
         },
         "text": [
          "Denmark",
          "Finland",
          "Norway",
          "Sweden"
         ],
         "type": "choropleth",
         "z": [
          8445,
          4475,
          7499,
          18177
         ],
         "zmax": 25000,
         "zmin": 0
        },
        {
         "colorbar": {
          "title": {
           "text": "Number of infected people in a given day"
          }
         },
         "colorscale": [
          [
           0,
           "#ffffff"
          ],
          [
           0.2,
           "#ff9999"
          ],
          [
           0.4,
           "#ff4d4d"
          ],
          [
           0.6,
           "#ff1a1a"
          ],
          [
           0.8,
           "#cc0000"
          ],
          [
           1,
           "#4d0000"
          ]
         ],
         "locationmode": "country names",
         "locations": [
          "Denmark",
          "Finland",
          "Norway",
          "Sweden"
         ],
         "marker": {
          "line": {
           "color": "rgb(0,0,0)",
           "width": 0.5
          }
         },
         "text": [
          "Denmark",
          "Finland",
          "Norway",
          "Sweden"
         ],
         "type": "choropleth",
         "z": [
          8575,
          4576,
          7527,
          18640
         ],
         "zmax": 25000,
         "zmin": 0
        },
        {
         "colorbar": {
          "title": {
           "text": "Number of infected people in a given day"
          }
         },
         "colorscale": [
          [
           0,
           "#ffffff"
          ],
          [
           0.2,
           "#ff9999"
          ],
          [
           0.4,
           "#ff4d4d"
          ],
          [
           0.6,
           "#ff1a1a"
          ],
          [
           0.8,
           "#cc0000"
          ],
          [
           1,
           "#4d0000"
          ]
         ],
         "locationmode": "country names",
         "locations": [
          "Denmark",
          "Finland",
          "Norway",
          "Sweden"
         ],
         "marker": {
          "line": {
           "color": "rgb(0,0,0)",
           "width": 0.5
          }
         },
         "text": [
          "Denmark",
          "Finland",
          "Norway",
          "Sweden"
         ],
         "type": "choropleth",
         "z": [
          8698,
          4695,
          7599,
          18926
         ],
         "zmax": 25000,
         "zmin": 0
        },
        {
         "colorbar": {
          "title": {
           "text": "Number of infected people in a given day"
          }
         },
         "colorscale": [
          [
           0,
           "#ffffff"
          ],
          [
           0.2,
           "#ff9999"
          ],
          [
           0.4,
           "#ff4d4d"
          ],
          [
           0.6,
           "#ff1a1a"
          ],
          [
           0.8,
           "#cc0000"
          ],
          [
           1,
           "#4d0000"
          ]
         ],
         "locationmode": "country names",
         "locations": [
          "Denmark",
          "Finland",
          "Norway",
          "Sweden"
         ],
         "marker": {
          "line": {
           "color": "rgb(0,0,0)",
           "width": 0.5
          }
         },
         "text": [
          "Denmark",
          "Finland",
          "Norway",
          "Sweden"
         ],
         "type": "choropleth",
         "z": [
          8851,
          4740,
          7660,
          19621
         ],
         "zmax": 25000,
         "zmin": 0
        },
        {
         "colorbar": {
          "title": {
           "text": "Number of infected people in a given day"
          }
         },
         "colorscale": [
          [
           0,
           "#ffffff"
          ],
          [
           0.2,
           "#ff9999"
          ],
          [
           0.4,
           "#ff4d4d"
          ],
          [
           0.6,
           "#ff1a1a"
          ],
          [
           0.8,
           "#cc0000"
          ],
          [
           1,
           "#4d0000"
          ]
         ],
         "locationmode": "country names",
         "locations": [
          "Denmark",
          "Finland",
          "Norway",
          "Sweden"
         ],
         "marker": {
          "line": {
           "color": "rgb(0,0,0)",
           "width": 0.5
          }
         },
         "text": [
          "Denmark",
          "Finland",
          "Norway",
          "Sweden"
         ],
         "type": "choropleth",
         "z": [
          9008,
          4906,
          7710,
          20302
         ],
         "zmax": 25000,
         "zmin": 0
        },
        {
         "colorbar": {
          "title": {
           "text": "Number of infected people in a given day"
          }
         },
         "colorscale": [
          [
           0,
           "#ffffff"
          ],
          [
           0.2,
           "#ff9999"
          ],
          [
           0.4,
           "#ff4d4d"
          ],
          [
           0.6,
           "#ff1a1a"
          ],
          [
           0.8,
           "#cc0000"
          ],
          [
           1,
           "#4d0000"
          ]
         ],
         "locationmode": "country names",
         "locations": [
          "Denmark",
          "Finland",
          "Norway",
          "Sweden"
         ],
         "marker": {
          "line": {
           "color": "rgb(0,0,0)",
           "width": 0.5
          }
         },
         "text": [
          "Denmark",
          "Finland",
          "Norway",
          "Sweden"
         ],
         "type": "choropleth",
         "z": [
          9158,
          4995,
          7738,
          21092
         ],
         "zmax": 25000,
         "zmin": 0
        },
        {
         "colorbar": {
          "title": {
           "text": "Number of infected people in a given day"
          }
         },
         "colorscale": [
          [
           0,
           "#ffffff"
          ],
          [
           0.2,
           "#ff9999"
          ],
          [
           0.4,
           "#ff4d4d"
          ],
          [
           0.6,
           "#ff1a1a"
          ],
          [
           0.8,
           "#cc0000"
          ],
          [
           1,
           "#4d0000"
          ]
         ],
         "locationmode": "country names",
         "locations": [
          "Denmark",
          "Finland",
          "Norway",
          "Sweden"
         ],
         "marker": {
          "line": {
           "color": "rgb(0,0,0)",
           "width": 0.5
          }
         },
         "text": [
          "Denmark",
          "Finland",
          "Norway",
          "Sweden"
         ],
         "type": "choropleth",
         "z": [
          9311,
          5051,
          7783,
          21520
         ],
         "zmax": 25000,
         "zmin": 0
        },
        {
         "colorbar": {
          "title": {
           "text": "Number of infected people in a given day"
          }
         },
         "colorscale": [
          [
           0,
           "#ffffff"
          ],
          [
           0.2,
           "#ff9999"
          ],
          [
           0.4,
           "#ff4d4d"
          ],
          [
           0.6,
           "#ff1a1a"
          ],
          [
           0.8,
           "#cc0000"
          ],
          [
           1,
           "#4d0000"
          ]
         ],
         "locationmode": "country names",
         "locations": [
          "Denmark",
          "Finland",
          "Norway",
          "Sweden"
         ],
         "marker": {
          "line": {
           "color": "rgb(0,0,0)",
           "width": 0.5
          }
         },
         "text": [
          "Denmark",
          "Finland",
          "Norway",
          "Sweden"
         ],
         "type": "choropleth",
         "z": [
          9407,
          5176,
          7809,
          22082
         ],
         "zmax": 25000,
         "zmin": 0
        },
        {
         "colorbar": {
          "title": {
           "text": "Number of infected people in a given day"
          }
         },
         "colorscale": [
          [
           0,
           "#ffffff"
          ],
          [
           0.2,
           "#ff9999"
          ],
          [
           0.4,
           "#ff4d4d"
          ],
          [
           0.6,
           "#ff1a1a"
          ],
          [
           0.8,
           "#cc0000"
          ],
          [
           1,
           "#4d0000"
          ]
         ],
         "locationmode": "country names",
         "locations": [
          "Denmark",
          "Finland",
          "Norway",
          "Sweden"
         ],
         "marker": {
          "line": {
           "color": "rgb(0,0,0)",
           "width": 0.5
          }
         },
         "text": [
          "Denmark",
          "Finland",
          "Norway",
          "Sweden"
         ],
         "type": "choropleth",
         "z": [
          9523,
          5254,
          7847,
          22317
         ],
         "zmax": 25000,
         "zmin": 0
        }
       ],
       "layout": {
        "geo": {
         "lakecolor": "rgb(73, 216, 230)",
         "lataxis": {
          "range": [
           55,
           85
          ]
         },
         "lonaxis": {
          "range": [
           -1,
           40
          ]
         },
         "scope": "europe",
         "showlakes": true,
         "showland": false
        },
        "height": 500,
        "hovermode": "closest",
        "margin": {
         "b": 100,
         "l": 50,
         "r": 0,
         "t": 0
        },
        "sliders": [
         {
          "active": 0,
          "pad": {
           "t": 1
          },
          "steps": [
           {
            "args": [
             "visible",
             [
              true,
              false,
              false,
              false,
              false,
              false,
              false,
              false,
              false,
              false,
              false,
              false,
              false,
              false,
              false,
              false,
              false,
              false,
              false,
              false,
              false,
              false,
              false,
              false,
              false,
              false,
              false,
              false,
              false,
              false,
              false,
              false,
              false,
              false,
              false,
              false,
              false,
              false,
              false,
              false,
              false,
              false,
              false,
              false,
              false,
              false,
              false,
              false,
              false,
              false,
              false,
              false,
              false,
              false,
              false,
              false,
              false,
              false,
              false,
              false,
              false,
              false,
              false,
              false
             ]
            ],
            "label": "Date: 2020-03-01",
            "method": "restyle"
           },
           {
            "args": [
             "visible",
             [
              false,
              true,
              false,
              false,
              false,
              false,
              false,
              false,
              false,
              false,
              false,
              false,
              false,
              false,
              false,
              false,
              false,
              false,
              false,
              false,
              false,
              false,
              false,
              false,
              false,
              false,
              false,
              false,
              false,
              false,
              false,
              false,
              false,
              false,
              false,
              false,
              false,
              false,
              false,
              false,
              false,
              false,
              false,
              false,
              false,
              false,
              false,
              false,
              false,
              false,
              false,
              false,
              false,
              false,
              false,
              false,
              false,
              false,
              false,
              false,
              false,
              false,
              false,
              false
             ]
            ],
            "label": "Date: 2020-03-02",
            "method": "restyle"
           },
           {
            "args": [
             "visible",
             [
              false,
              false,
              true,
              false,
              false,
              false,
              false,
              false,
              false,
              false,
              false,
              false,
              false,
              false,
              false,
              false,
              false,
              false,
              false,
              false,
              false,
              false,
              false,
              false,
              false,
              false,
              false,
              false,
              false,
              false,
              false,
              false,
              false,
              false,
              false,
              false,
              false,
              false,
              false,
              false,
              false,
              false,
              false,
              false,
              false,
              false,
              false,
              false,
              false,
              false,
              false,
              false,
              false,
              false,
              false,
              false,
              false,
              false,
              false,
              false,
              false,
              false,
              false,
              false
             ]
            ],
            "label": "Date: 2020-03-03",
            "method": "restyle"
           },
           {
            "args": [
             "visible",
             [
              false,
              false,
              false,
              true,
              false,
              false,
              false,
              false,
              false,
              false,
              false,
              false,
              false,
              false,
              false,
              false,
              false,
              false,
              false,
              false,
              false,
              false,
              false,
              false,
              false,
              false,
              false,
              false,
              false,
              false,
              false,
              false,
              false,
              false,
              false,
              false,
              false,
              false,
              false,
              false,
              false,
              false,
              false,
              false,
              false,
              false,
              false,
              false,
              false,
              false,
              false,
              false,
              false,
              false,
              false,
              false,
              false,
              false,
              false,
              false,
              false,
              false,
              false,
              false
             ]
            ],
            "label": "Date: 2020-03-04",
            "method": "restyle"
           },
           {
            "args": [
             "visible",
             [
              false,
              false,
              false,
              false,
              true,
              false,
              false,
              false,
              false,
              false,
              false,
              false,
              false,
              false,
              false,
              false,
              false,
              false,
              false,
              false,
              false,
              false,
              false,
              false,
              false,
              false,
              false,
              false,
              false,
              false,
              false,
              false,
              false,
              false,
              false,
              false,
              false,
              false,
              false,
              false,
              false,
              false,
              false,
              false,
              false,
              false,
              false,
              false,
              false,
              false,
              false,
              false,
              false,
              false,
              false,
              false,
              false,
              false,
              false,
              false,
              false,
              false,
              false,
              false
             ]
            ],
            "label": "Date: 2020-03-05",
            "method": "restyle"
           },
           {
            "args": [
             "visible",
             [
              false,
              false,
              false,
              false,
              false,
              true,
              false,
              false,
              false,
              false,
              false,
              false,
              false,
              false,
              false,
              false,
              false,
              false,
              false,
              false,
              false,
              false,
              false,
              false,
              false,
              false,
              false,
              false,
              false,
              false,
              false,
              false,
              false,
              false,
              false,
              false,
              false,
              false,
              false,
              false,
              false,
              false,
              false,
              false,
              false,
              false,
              false,
              false,
              false,
              false,
              false,
              false,
              false,
              false,
              false,
              false,
              false,
              false,
              false,
              false,
              false,
              false,
              false,
              false
             ]
            ],
            "label": "Date: 2020-03-06",
            "method": "restyle"
           },
           {
            "args": [
             "visible",
             [
              false,
              false,
              false,
              false,
              false,
              false,
              true,
              false,
              false,
              false,
              false,
              false,
              false,
              false,
              false,
              false,
              false,
              false,
              false,
              false,
              false,
              false,
              false,
              false,
              false,
              false,
              false,
              false,
              false,
              false,
              false,
              false,
              false,
              false,
              false,
              false,
              false,
              false,
              false,
              false,
              false,
              false,
              false,
              false,
              false,
              false,
              false,
              false,
              false,
              false,
              false,
              false,
              false,
              false,
              false,
              false,
              false,
              false,
              false,
              false,
              false,
              false,
              false,
              false
             ]
            ],
            "label": "Date: 2020-03-07",
            "method": "restyle"
           },
           {
            "args": [
             "visible",
             [
              false,
              false,
              false,
              false,
              false,
              false,
              false,
              true,
              false,
              false,
              false,
              false,
              false,
              false,
              false,
              false,
              false,
              false,
              false,
              false,
              false,
              false,
              false,
              false,
              false,
              false,
              false,
              false,
              false,
              false,
              false,
              false,
              false,
              false,
              false,
              false,
              false,
              false,
              false,
              false,
              false,
              false,
              false,
              false,
              false,
              false,
              false,
              false,
              false,
              false,
              false,
              false,
              false,
              false,
              false,
              false,
              false,
              false,
              false,
              false,
              false,
              false,
              false,
              false
             ]
            ],
            "label": "Date: 2020-03-08",
            "method": "restyle"
           },
           {
            "args": [
             "visible",
             [
              false,
              false,
              false,
              false,
              false,
              false,
              false,
              false,
              true,
              false,
              false,
              false,
              false,
              false,
              false,
              false,
              false,
              false,
              false,
              false,
              false,
              false,
              false,
              false,
              false,
              false,
              false,
              false,
              false,
              false,
              false,
              false,
              false,
              false,
              false,
              false,
              false,
              false,
              false,
              false,
              false,
              false,
              false,
              false,
              false,
              false,
              false,
              false,
              false,
              false,
              false,
              false,
              false,
              false,
              false,
              false,
              false,
              false,
              false,
              false,
              false,
              false,
              false,
              false
             ]
            ],
            "label": "Date: 2020-03-09",
            "method": "restyle"
           },
           {
            "args": [
             "visible",
             [
              false,
              false,
              false,
              false,
              false,
              false,
              false,
              false,
              false,
              true,
              false,
              false,
              false,
              false,
              false,
              false,
              false,
              false,
              false,
              false,
              false,
              false,
              false,
              false,
              false,
              false,
              false,
              false,
              false,
              false,
              false,
              false,
              false,
              false,
              false,
              false,
              false,
              false,
              false,
              false,
              false,
              false,
              false,
              false,
              false,
              false,
              false,
              false,
              false,
              false,
              false,
              false,
              false,
              false,
              false,
              false,
              false,
              false,
              false,
              false,
              false,
              false,
              false,
              false
             ]
            ],
            "label": "Date: 2020-03-10",
            "method": "restyle"
           },
           {
            "args": [
             "visible",
             [
              false,
              false,
              false,
              false,
              false,
              false,
              false,
              false,
              false,
              false,
              true,
              false,
              false,
              false,
              false,
              false,
              false,
              false,
              false,
              false,
              false,
              false,
              false,
              false,
              false,
              false,
              false,
              false,
              false,
              false,
              false,
              false,
              false,
              false,
              false,
              false,
              false,
              false,
              false,
              false,
              false,
              false,
              false,
              false,
              false,
              false,
              false,
              false,
              false,
              false,
              false,
              false,
              false,
              false,
              false,
              false,
              false,
              false,
              false,
              false,
              false,
              false,
              false,
              false
             ]
            ],
            "label": "Date: 2020-03-11",
            "method": "restyle"
           },
           {
            "args": [
             "visible",
             [
              false,
              false,
              false,
              false,
              false,
              false,
              false,
              false,
              false,
              false,
              false,
              true,
              false,
              false,
              false,
              false,
              false,
              false,
              false,
              false,
              false,
              false,
              false,
              false,
              false,
              false,
              false,
              false,
              false,
              false,
              false,
              false,
              false,
              false,
              false,
              false,
              false,
              false,
              false,
              false,
              false,
              false,
              false,
              false,
              false,
              false,
              false,
              false,
              false,
              false,
              false,
              false,
              false,
              false,
              false,
              false,
              false,
              false,
              false,
              false,
              false,
              false,
              false,
              false
             ]
            ],
            "label": "Date: 2020-03-12",
            "method": "restyle"
           },
           {
            "args": [
             "visible",
             [
              false,
              false,
              false,
              false,
              false,
              false,
              false,
              false,
              false,
              false,
              false,
              false,
              true,
              false,
              false,
              false,
              false,
              false,
              false,
              false,
              false,
              false,
              false,
              false,
              false,
              false,
              false,
              false,
              false,
              false,
              false,
              false,
              false,
              false,
              false,
              false,
              false,
              false,
              false,
              false,
              false,
              false,
              false,
              false,
              false,
              false,
              false,
              false,
              false,
              false,
              false,
              false,
              false,
              false,
              false,
              false,
              false,
              false,
              false,
              false,
              false,
              false,
              false,
              false
             ]
            ],
            "label": "Date: 2020-03-13",
            "method": "restyle"
           },
           {
            "args": [
             "visible",
             [
              false,
              false,
              false,
              false,
              false,
              false,
              false,
              false,
              false,
              false,
              false,
              false,
              false,
              true,
              false,
              false,
              false,
              false,
              false,
              false,
              false,
              false,
              false,
              false,
              false,
              false,
              false,
              false,
              false,
              false,
              false,
              false,
              false,
              false,
              false,
              false,
              false,
              false,
              false,
              false,
              false,
              false,
              false,
              false,
              false,
              false,
              false,
              false,
              false,
              false,
              false,
              false,
              false,
              false,
              false,
              false,
              false,
              false,
              false,
              false,
              false,
              false,
              false,
              false
             ]
            ],
            "label": "Date: 2020-03-14",
            "method": "restyle"
           },
           {
            "args": [
             "visible",
             [
              false,
              false,
              false,
              false,
              false,
              false,
              false,
              false,
              false,
              false,
              false,
              false,
              false,
              false,
              true,
              false,
              false,
              false,
              false,
              false,
              false,
              false,
              false,
              false,
              false,
              false,
              false,
              false,
              false,
              false,
              false,
              false,
              false,
              false,
              false,
              false,
              false,
              false,
              false,
              false,
              false,
              false,
              false,
              false,
              false,
              false,
              false,
              false,
              false,
              false,
              false,
              false,
              false,
              false,
              false,
              false,
              false,
              false,
              false,
              false,
              false,
              false,
              false,
              false
             ]
            ],
            "label": "Date: 2020-03-15",
            "method": "restyle"
           },
           {
            "args": [
             "visible",
             [
              false,
              false,
              false,
              false,
              false,
              false,
              false,
              false,
              false,
              false,
              false,
              false,
              false,
              false,
              false,
              true,
              false,
              false,
              false,
              false,
              false,
              false,
              false,
              false,
              false,
              false,
              false,
              false,
              false,
              false,
              false,
              false,
              false,
              false,
              false,
              false,
              false,
              false,
              false,
              false,
              false,
              false,
              false,
              false,
              false,
              false,
              false,
              false,
              false,
              false,
              false,
              false,
              false,
              false,
              false,
              false,
              false,
              false,
              false,
              false,
              false,
              false,
              false,
              false
             ]
            ],
            "label": "Date: 2020-03-16",
            "method": "restyle"
           },
           {
            "args": [
             "visible",
             [
              false,
              false,
              false,
              false,
              false,
              false,
              false,
              false,
              false,
              false,
              false,
              false,
              false,
              false,
              false,
              false,
              true,
              false,
              false,
              false,
              false,
              false,
              false,
              false,
              false,
              false,
              false,
              false,
              false,
              false,
              false,
              false,
              false,
              false,
              false,
              false,
              false,
              false,
              false,
              false,
              false,
              false,
              false,
              false,
              false,
              false,
              false,
              false,
              false,
              false,
              false,
              false,
              false,
              false,
              false,
              false,
              false,
              false,
              false,
              false,
              false,
              false,
              false,
              false
             ]
            ],
            "label": "Date: 2020-03-17",
            "method": "restyle"
           },
           {
            "args": [
             "visible",
             [
              false,
              false,
              false,
              false,
              false,
              false,
              false,
              false,
              false,
              false,
              false,
              false,
              false,
              false,
              false,
              false,
              false,
              true,
              false,
              false,
              false,
              false,
              false,
              false,
              false,
              false,
              false,
              false,
              false,
              false,
              false,
              false,
              false,
              false,
              false,
              false,
              false,
              false,
              false,
              false,
              false,
              false,
              false,
              false,
              false,
              false,
              false,
              false,
              false,
              false,
              false,
              false,
              false,
              false,
              false,
              false,
              false,
              false,
              false,
              false,
              false,
              false,
              false,
              false
             ]
            ],
            "label": "Date: 2020-03-18",
            "method": "restyle"
           },
           {
            "args": [
             "visible",
             [
              false,
              false,
              false,
              false,
              false,
              false,
              false,
              false,
              false,
              false,
              false,
              false,
              false,
              false,
              false,
              false,
              false,
              false,
              true,
              false,
              false,
              false,
              false,
              false,
              false,
              false,
              false,
              false,
              false,
              false,
              false,
              false,
              false,
              false,
              false,
              false,
              false,
              false,
              false,
              false,
              false,
              false,
              false,
              false,
              false,
              false,
              false,
              false,
              false,
              false,
              false,
              false,
              false,
              false,
              false,
              false,
              false,
              false,
              false,
              false,
              false,
              false,
              false,
              false
             ]
            ],
            "label": "Date: 2020-03-19",
            "method": "restyle"
           },
           {
            "args": [
             "visible",
             [
              false,
              false,
              false,
              false,
              false,
              false,
              false,
              false,
              false,
              false,
              false,
              false,
              false,
              false,
              false,
              false,
              false,
              false,
              false,
              true,
              false,
              false,
              false,
              false,
              false,
              false,
              false,
              false,
              false,
              false,
              false,
              false,
              false,
              false,
              false,
              false,
              false,
              false,
              false,
              false,
              false,
              false,
              false,
              false,
              false,
              false,
              false,
              false,
              false,
              false,
              false,
              false,
              false,
              false,
              false,
              false,
              false,
              false,
              false,
              false,
              false,
              false,
              false,
              false
             ]
            ],
            "label": "Date: 2020-03-20",
            "method": "restyle"
           },
           {
            "args": [
             "visible",
             [
              false,
              false,
              false,
              false,
              false,
              false,
              false,
              false,
              false,
              false,
              false,
              false,
              false,
              false,
              false,
              false,
              false,
              false,
              false,
              false,
              true,
              false,
              false,
              false,
              false,
              false,
              false,
              false,
              false,
              false,
              false,
              false,
              false,
              false,
              false,
              false,
              false,
              false,
              false,
              false,
              false,
              false,
              false,
              false,
              false,
              false,
              false,
              false,
              false,
              false,
              false,
              false,
              false,
              false,
              false,
              false,
              false,
              false,
              false,
              false,
              false,
              false,
              false,
              false
             ]
            ],
            "label": "Date: 2020-03-21",
            "method": "restyle"
           },
           {
            "args": [
             "visible",
             [
              false,
              false,
              false,
              false,
              false,
              false,
              false,
              false,
              false,
              false,
              false,
              false,
              false,
              false,
              false,
              false,
              false,
              false,
              false,
              false,
              false,
              true,
              false,
              false,
              false,
              false,
              false,
              false,
              false,
              false,
              false,
              false,
              false,
              false,
              false,
              false,
              false,
              false,
              false,
              false,
              false,
              false,
              false,
              false,
              false,
              false,
              false,
              false,
              false,
              false,
              false,
              false,
              false,
              false,
              false,
              false,
              false,
              false,
              false,
              false,
              false,
              false,
              false,
              false
             ]
            ],
            "label": "Date: 2020-03-22",
            "method": "restyle"
           },
           {
            "args": [
             "visible",
             [
              false,
              false,
              false,
              false,
              false,
              false,
              false,
              false,
              false,
              false,
              false,
              false,
              false,
              false,
              false,
              false,
              false,
              false,
              false,
              false,
              false,
              false,
              true,
              false,
              false,
              false,
              false,
              false,
              false,
              false,
              false,
              false,
              false,
              false,
              false,
              false,
              false,
              false,
              false,
              false,
              false,
              false,
              false,
              false,
              false,
              false,
              false,
              false,
              false,
              false,
              false,
              false,
              false,
              false,
              false,
              false,
              false,
              false,
              false,
              false,
              false,
              false,
              false,
              false
             ]
            ],
            "label": "Date: 2020-03-23",
            "method": "restyle"
           },
           {
            "args": [
             "visible",
             [
              false,
              false,
              false,
              false,
              false,
              false,
              false,
              false,
              false,
              false,
              false,
              false,
              false,
              false,
              false,
              false,
              false,
              false,
              false,
              false,
              false,
              false,
              false,
              true,
              false,
              false,
              false,
              false,
              false,
              false,
              false,
              false,
              false,
              false,
              false,
              false,
              false,
              false,
              false,
              false,
              false,
              false,
              false,
              false,
              false,
              false,
              false,
              false,
              false,
              false,
              false,
              false,
              false,
              false,
              false,
              false,
              false,
              false,
              false,
              false,
              false,
              false,
              false,
              false
             ]
            ],
            "label": "Date: 2020-03-24",
            "method": "restyle"
           },
           {
            "args": [
             "visible",
             [
              false,
              false,
              false,
              false,
              false,
              false,
              false,
              false,
              false,
              false,
              false,
              false,
              false,
              false,
              false,
              false,
              false,
              false,
              false,
              false,
              false,
              false,
              false,
              false,
              true,
              false,
              false,
              false,
              false,
              false,
              false,
              false,
              false,
              false,
              false,
              false,
              false,
              false,
              false,
              false,
              false,
              false,
              false,
              false,
              false,
              false,
              false,
              false,
              false,
              false,
              false,
              false,
              false,
              false,
              false,
              false,
              false,
              false,
              false,
              false,
              false,
              false,
              false,
              false
             ]
            ],
            "label": "Date: 2020-03-25",
            "method": "restyle"
           },
           {
            "args": [
             "visible",
             [
              false,
              false,
              false,
              false,
              false,
              false,
              false,
              false,
              false,
              false,
              false,
              false,
              false,
              false,
              false,
              false,
              false,
              false,
              false,
              false,
              false,
              false,
              false,
              false,
              false,
              true,
              false,
              false,
              false,
              false,
              false,
              false,
              false,
              false,
              false,
              false,
              false,
              false,
              false,
              false,
              false,
              false,
              false,
              false,
              false,
              false,
              false,
              false,
              false,
              false,
              false,
              false,
              false,
              false,
              false,
              false,
              false,
              false,
              false,
              false,
              false,
              false,
              false,
              false
             ]
            ],
            "label": "Date: 2020-03-26",
            "method": "restyle"
           },
           {
            "args": [
             "visible",
             [
              false,
              false,
              false,
              false,
              false,
              false,
              false,
              false,
              false,
              false,
              false,
              false,
              false,
              false,
              false,
              false,
              false,
              false,
              false,
              false,
              false,
              false,
              false,
              false,
              false,
              false,
              true,
              false,
              false,
              false,
              false,
              false,
              false,
              false,
              false,
              false,
              false,
              false,
              false,
              false,
              false,
              false,
              false,
              false,
              false,
              false,
              false,
              false,
              false,
              false,
              false,
              false,
              false,
              false,
              false,
              false,
              false,
              false,
              false,
              false,
              false,
              false,
              false,
              false
             ]
            ],
            "label": "Date: 2020-03-27",
            "method": "restyle"
           },
           {
            "args": [
             "visible",
             [
              false,
              false,
              false,
              false,
              false,
              false,
              false,
              false,
              false,
              false,
              false,
              false,
              false,
              false,
              false,
              false,
              false,
              false,
              false,
              false,
              false,
              false,
              false,
              false,
              false,
              false,
              false,
              true,
              false,
              false,
              false,
              false,
              false,
              false,
              false,
              false,
              false,
              false,
              false,
              false,
              false,
              false,
              false,
              false,
              false,
              false,
              false,
              false,
              false,
              false,
              false,
              false,
              false,
              false,
              false,
              false,
              false,
              false,
              false,
              false,
              false,
              false,
              false,
              false
             ]
            ],
            "label": "Date: 2020-03-28",
            "method": "restyle"
           },
           {
            "args": [
             "visible",
             [
              false,
              false,
              false,
              false,
              false,
              false,
              false,
              false,
              false,
              false,
              false,
              false,
              false,
              false,
              false,
              false,
              false,
              false,
              false,
              false,
              false,
              false,
              false,
              false,
              false,
              false,
              false,
              false,
              true,
              false,
              false,
              false,
              false,
              false,
              false,
              false,
              false,
              false,
              false,
              false,
              false,
              false,
              false,
              false,
              false,
              false,
              false,
              false,
              false,
              false,
              false,
              false,
              false,
              false,
              false,
              false,
              false,
              false,
              false,
              false,
              false,
              false,
              false,
              false
             ]
            ],
            "label": "Date: 2020-03-29",
            "method": "restyle"
           },
           {
            "args": [
             "visible",
             [
              false,
              false,
              false,
              false,
              false,
              false,
              false,
              false,
              false,
              false,
              false,
              false,
              false,
              false,
              false,
              false,
              false,
              false,
              false,
              false,
              false,
              false,
              false,
              false,
              false,
              false,
              false,
              false,
              false,
              true,
              false,
              false,
              false,
              false,
              false,
              false,
              false,
              false,
              false,
              false,
              false,
              false,
              false,
              false,
              false,
              false,
              false,
              false,
              false,
              false,
              false,
              false,
              false,
              false,
              false,
              false,
              false,
              false,
              false,
              false,
              false,
              false,
              false,
              false
             ]
            ],
            "label": "Date: 2020-03-30",
            "method": "restyle"
           },
           {
            "args": [
             "visible",
             [
              false,
              false,
              false,
              false,
              false,
              false,
              false,
              false,
              false,
              false,
              false,
              false,
              false,
              false,
              false,
              false,
              false,
              false,
              false,
              false,
              false,
              false,
              false,
              false,
              false,
              false,
              false,
              false,
              false,
              false,
              true,
              false,
              false,
              false,
              false,
              false,
              false,
              false,
              false,
              false,
              false,
              false,
              false,
              false,
              false,
              false,
              false,
              false,
              false,
              false,
              false,
              false,
              false,
              false,
              false,
              false,
              false,
              false,
              false,
              false,
              false,
              false,
              false,
              false
             ]
            ],
            "label": "Date: 2020-03-31",
            "method": "restyle"
           },
           {
            "args": [
             "visible",
             [
              false,
              false,
              false,
              false,
              false,
              false,
              false,
              false,
              false,
              false,
              false,
              false,
              false,
              false,
              false,
              false,
              false,
              false,
              false,
              false,
              false,
              false,
              false,
              false,
              false,
              false,
              false,
              false,
              false,
              false,
              false,
              true,
              false,
              false,
              false,
              false,
              false,
              false,
              false,
              false,
              false,
              false,
              false,
              false,
              false,
              false,
              false,
              false,
              false,
              false,
              false,
              false,
              false,
              false,
              false,
              false,
              false,
              false,
              false,
              false,
              false,
              false,
              false,
              false
             ]
            ],
            "label": "Date: 2020-04-01",
            "method": "restyle"
           },
           {
            "args": [
             "visible",
             [
              false,
              false,
              false,
              false,
              false,
              false,
              false,
              false,
              false,
              false,
              false,
              false,
              false,
              false,
              false,
              false,
              false,
              false,
              false,
              false,
              false,
              false,
              false,
              false,
              false,
              false,
              false,
              false,
              false,
              false,
              false,
              false,
              true,
              false,
              false,
              false,
              false,
              false,
              false,
              false,
              false,
              false,
              false,
              false,
              false,
              false,
              false,
              false,
              false,
              false,
              false,
              false,
              false,
              false,
              false,
              false,
              false,
              false,
              false,
              false,
              false,
              false,
              false,
              false
             ]
            ],
            "label": "Date: 2020-04-02",
            "method": "restyle"
           },
           {
            "args": [
             "visible",
             [
              false,
              false,
              false,
              false,
              false,
              false,
              false,
              false,
              false,
              false,
              false,
              false,
              false,
              false,
              false,
              false,
              false,
              false,
              false,
              false,
              false,
              false,
              false,
              false,
              false,
              false,
              false,
              false,
              false,
              false,
              false,
              false,
              false,
              true,
              false,
              false,
              false,
              false,
              false,
              false,
              false,
              false,
              false,
              false,
              false,
              false,
              false,
              false,
              false,
              false,
              false,
              false,
              false,
              false,
              false,
              false,
              false,
              false,
              false,
              false,
              false,
              false,
              false,
              false
             ]
            ],
            "label": "Date: 2020-04-03",
            "method": "restyle"
           },
           {
            "args": [
             "visible",
             [
              false,
              false,
              false,
              false,
              false,
              false,
              false,
              false,
              false,
              false,
              false,
              false,
              false,
              false,
              false,
              false,
              false,
              false,
              false,
              false,
              false,
              false,
              false,
              false,
              false,
              false,
              false,
              false,
              false,
              false,
              false,
              false,
              false,
              false,
              true,
              false,
              false,
              false,
              false,
              false,
              false,
              false,
              false,
              false,
              false,
              false,
              false,
              false,
              false,
              false,
              false,
              false,
              false,
              false,
              false,
              false,
              false,
              false,
              false,
              false,
              false,
              false,
              false,
              false
             ]
            ],
            "label": "Date: 2020-04-04",
            "method": "restyle"
           },
           {
            "args": [
             "visible",
             [
              false,
              false,
              false,
              false,
              false,
              false,
              false,
              false,
              false,
              false,
              false,
              false,
              false,
              false,
              false,
              false,
              false,
              false,
              false,
              false,
              false,
              false,
              false,
              false,
              false,
              false,
              false,
              false,
              false,
              false,
              false,
              false,
              false,
              false,
              false,
              true,
              false,
              false,
              false,
              false,
              false,
              false,
              false,
              false,
              false,
              false,
              false,
              false,
              false,
              false,
              false,
              false,
              false,
              false,
              false,
              false,
              false,
              false,
              false,
              false,
              false,
              false,
              false,
              false
             ]
            ],
            "label": "Date: 2020-04-05",
            "method": "restyle"
           },
           {
            "args": [
             "visible",
             [
              false,
              false,
              false,
              false,
              false,
              false,
              false,
              false,
              false,
              false,
              false,
              false,
              false,
              false,
              false,
              false,
              false,
              false,
              false,
              false,
              false,
              false,
              false,
              false,
              false,
              false,
              false,
              false,
              false,
              false,
              false,
              false,
              false,
              false,
              false,
              false,
              true,
              false,
              false,
              false,
              false,
              false,
              false,
              false,
              false,
              false,
              false,
              false,
              false,
              false,
              false,
              false,
              false,
              false,
              false,
              false,
              false,
              false,
              false,
              false,
              false,
              false,
              false,
              false
             ]
            ],
            "label": "Date: 2020-04-06",
            "method": "restyle"
           },
           {
            "args": [
             "visible",
             [
              false,
              false,
              false,
              false,
              false,
              false,
              false,
              false,
              false,
              false,
              false,
              false,
              false,
              false,
              false,
              false,
              false,
              false,
              false,
              false,
              false,
              false,
              false,
              false,
              false,
              false,
              false,
              false,
              false,
              false,
              false,
              false,
              false,
              false,
              false,
              false,
              false,
              true,
              false,
              false,
              false,
              false,
              false,
              false,
              false,
              false,
              false,
              false,
              false,
              false,
              false,
              false,
              false,
              false,
              false,
              false,
              false,
              false,
              false,
              false,
              false,
              false,
              false,
              false
             ]
            ],
            "label": "Date: 2020-04-07",
            "method": "restyle"
           },
           {
            "args": [
             "visible",
             [
              false,
              false,
              false,
              false,
              false,
              false,
              false,
              false,
              false,
              false,
              false,
              false,
              false,
              false,
              false,
              false,
              false,
              false,
              false,
              false,
              false,
              false,
              false,
              false,
              false,
              false,
              false,
              false,
              false,
              false,
              false,
              false,
              false,
              false,
              false,
              false,
              false,
              false,
              true,
              false,
              false,
              false,
              false,
              false,
              false,
              false,
              false,
              false,
              false,
              false,
              false,
              false,
              false,
              false,
              false,
              false,
              false,
              false,
              false,
              false,
              false,
              false,
              false,
              false
             ]
            ],
            "label": "Date: 2020-04-08",
            "method": "restyle"
           },
           {
            "args": [
             "visible",
             [
              false,
              false,
              false,
              false,
              false,
              false,
              false,
              false,
              false,
              false,
              false,
              false,
              false,
              false,
              false,
              false,
              false,
              false,
              false,
              false,
              false,
              false,
              false,
              false,
              false,
              false,
              false,
              false,
              false,
              false,
              false,
              false,
              false,
              false,
              false,
              false,
              false,
              false,
              false,
              true,
              false,
              false,
              false,
              false,
              false,
              false,
              false,
              false,
              false,
              false,
              false,
              false,
              false,
              false,
              false,
              false,
              false,
              false,
              false,
              false,
              false,
              false,
              false,
              false
             ]
            ],
            "label": "Date: 2020-04-09",
            "method": "restyle"
           },
           {
            "args": [
             "visible",
             [
              false,
              false,
              false,
              false,
              false,
              false,
              false,
              false,
              false,
              false,
              false,
              false,
              false,
              false,
              false,
              false,
              false,
              false,
              false,
              false,
              false,
              false,
              false,
              false,
              false,
              false,
              false,
              false,
              false,
              false,
              false,
              false,
              false,
              false,
              false,
              false,
              false,
              false,
              false,
              false,
              true,
              false,
              false,
              false,
              false,
              false,
              false,
              false,
              false,
              false,
              false,
              false,
              false,
              false,
              false,
              false,
              false,
              false,
              false,
              false,
              false,
              false,
              false,
              false
             ]
            ],
            "label": "Date: 2020-04-10",
            "method": "restyle"
           },
           {
            "args": [
             "visible",
             [
              false,
              false,
              false,
              false,
              false,
              false,
              false,
              false,
              false,
              false,
              false,
              false,
              false,
              false,
              false,
              false,
              false,
              false,
              false,
              false,
              false,
              false,
              false,
              false,
              false,
              false,
              false,
              false,
              false,
              false,
              false,
              false,
              false,
              false,
              false,
              false,
              false,
              false,
              false,
              false,
              false,
              true,
              false,
              false,
              false,
              false,
              false,
              false,
              false,
              false,
              false,
              false,
              false,
              false,
              false,
              false,
              false,
              false,
              false,
              false,
              false,
              false,
              false,
              false
             ]
            ],
            "label": "Date: 2020-04-11",
            "method": "restyle"
           },
           {
            "args": [
             "visible",
             [
              false,
              false,
              false,
              false,
              false,
              false,
              false,
              false,
              false,
              false,
              false,
              false,
              false,
              false,
              false,
              false,
              false,
              false,
              false,
              false,
              false,
              false,
              false,
              false,
              false,
              false,
              false,
              false,
              false,
              false,
              false,
              false,
              false,
              false,
              false,
              false,
              false,
              false,
              false,
              false,
              false,
              false,
              true,
              false,
              false,
              false,
              false,
              false,
              false,
              false,
              false,
              false,
              false,
              false,
              false,
              false,
              false,
              false,
              false,
              false,
              false,
              false,
              false,
              false
             ]
            ],
            "label": "Date: 2020-04-12",
            "method": "restyle"
           },
           {
            "args": [
             "visible",
             [
              false,
              false,
              false,
              false,
              false,
              false,
              false,
              false,
              false,
              false,
              false,
              false,
              false,
              false,
              false,
              false,
              false,
              false,
              false,
              false,
              false,
              false,
              false,
              false,
              false,
              false,
              false,
              false,
              false,
              false,
              false,
              false,
              false,
              false,
              false,
              false,
              false,
              false,
              false,
              false,
              false,
              false,
              false,
              true,
              false,
              false,
              false,
              false,
              false,
              false,
              false,
              false,
              false,
              false,
              false,
              false,
              false,
              false,
              false,
              false,
              false,
              false,
              false,
              false
             ]
            ],
            "label": "Date: 2020-04-13",
            "method": "restyle"
           },
           {
            "args": [
             "visible",
             [
              false,
              false,
              false,
              false,
              false,
              false,
              false,
              false,
              false,
              false,
              false,
              false,
              false,
              false,
              false,
              false,
              false,
              false,
              false,
              false,
              false,
              false,
              false,
              false,
              false,
              false,
              false,
              false,
              false,
              false,
              false,
              false,
              false,
              false,
              false,
              false,
              false,
              false,
              false,
              false,
              false,
              false,
              false,
              false,
              true,
              false,
              false,
              false,
              false,
              false,
              false,
              false,
              false,
              false,
              false,
              false,
              false,
              false,
              false,
              false,
              false,
              false,
              false,
              false
             ]
            ],
            "label": "Date: 2020-04-14",
            "method": "restyle"
           },
           {
            "args": [
             "visible",
             [
              false,
              false,
              false,
              false,
              false,
              false,
              false,
              false,
              false,
              false,
              false,
              false,
              false,
              false,
              false,
              false,
              false,
              false,
              false,
              false,
              false,
              false,
              false,
              false,
              false,
              false,
              false,
              false,
              false,
              false,
              false,
              false,
              false,
              false,
              false,
              false,
              false,
              false,
              false,
              false,
              false,
              false,
              false,
              false,
              false,
              true,
              false,
              false,
              false,
              false,
              false,
              false,
              false,
              false,
              false,
              false,
              false,
              false,
              false,
              false,
              false,
              false,
              false,
              false
             ]
            ],
            "label": "Date: 2020-04-15",
            "method": "restyle"
           },
           {
            "args": [
             "visible",
             [
              false,
              false,
              false,
              false,
              false,
              false,
              false,
              false,
              false,
              false,
              false,
              false,
              false,
              false,
              false,
              false,
              false,
              false,
              false,
              false,
              false,
              false,
              false,
              false,
              false,
              false,
              false,
              false,
              false,
              false,
              false,
              false,
              false,
              false,
              false,
              false,
              false,
              false,
              false,
              false,
              false,
              false,
              false,
              false,
              false,
              false,
              true,
              false,
              false,
              false,
              false,
              false,
              false,
              false,
              false,
              false,
              false,
              false,
              false,
              false,
              false,
              false,
              false,
              false
             ]
            ],
            "label": "Date: 2020-04-16",
            "method": "restyle"
           },
           {
            "args": [
             "visible",
             [
              false,
              false,
              false,
              false,
              false,
              false,
              false,
              false,
              false,
              false,
              false,
              false,
              false,
              false,
              false,
              false,
              false,
              false,
              false,
              false,
              false,
              false,
              false,
              false,
              false,
              false,
              false,
              false,
              false,
              false,
              false,
              false,
              false,
              false,
              false,
              false,
              false,
              false,
              false,
              false,
              false,
              false,
              false,
              false,
              false,
              false,
              false,
              true,
              false,
              false,
              false,
              false,
              false,
              false,
              false,
              false,
              false,
              false,
              false,
              false,
              false,
              false,
              false,
              false
             ]
            ],
            "label": "Date: 2020-04-17",
            "method": "restyle"
           },
           {
            "args": [
             "visible",
             [
              false,
              false,
              false,
              false,
              false,
              false,
              false,
              false,
              false,
              false,
              false,
              false,
              false,
              false,
              false,
              false,
              false,
              false,
              false,
              false,
              false,
              false,
              false,
              false,
              false,
              false,
              false,
              false,
              false,
              false,
              false,
              false,
              false,
              false,
              false,
              false,
              false,
              false,
              false,
              false,
              false,
              false,
              false,
              false,
              false,
              false,
              false,
              false,
              true,
              false,
              false,
              false,
              false,
              false,
              false,
              false,
              false,
              false,
              false,
              false,
              false,
              false,
              false,
              false
             ]
            ],
            "label": "Date: 2020-04-18",
            "method": "restyle"
           },
           {
            "args": [
             "visible",
             [
              false,
              false,
              false,
              false,
              false,
              false,
              false,
              false,
              false,
              false,
              false,
              false,
              false,
              false,
              false,
              false,
              false,
              false,
              false,
              false,
              false,
              false,
              false,
              false,
              false,
              false,
              false,
              false,
              false,
              false,
              false,
              false,
              false,
              false,
              false,
              false,
              false,
              false,
              false,
              false,
              false,
              false,
              false,
              false,
              false,
              false,
              false,
              false,
              false,
              true,
              false,
              false,
              false,
              false,
              false,
              false,
              false,
              false,
              false,
              false,
              false,
              false,
              false,
              false
             ]
            ],
            "label": "Date: 2020-04-19",
            "method": "restyle"
           },
           {
            "args": [
             "visible",
             [
              false,
              false,
              false,
              false,
              false,
              false,
              false,
              false,
              false,
              false,
              false,
              false,
              false,
              false,
              false,
              false,
              false,
              false,
              false,
              false,
              false,
              false,
              false,
              false,
              false,
              false,
              false,
              false,
              false,
              false,
              false,
              false,
              false,
              false,
              false,
              false,
              false,
              false,
              false,
              false,
              false,
              false,
              false,
              false,
              false,
              false,
              false,
              false,
              false,
              false,
              true,
              false,
              false,
              false,
              false,
              false,
              false,
              false,
              false,
              false,
              false,
              false,
              false,
              false
             ]
            ],
            "label": "Date: 2020-04-20",
            "method": "restyle"
           },
           {
            "args": [
             "visible",
             [
              false,
              false,
              false,
              false,
              false,
              false,
              false,
              false,
              false,
              false,
              false,
              false,
              false,
              false,
              false,
              false,
              false,
              false,
              false,
              false,
              false,
              false,
              false,
              false,
              false,
              false,
              false,
              false,
              false,
              false,
              false,
              false,
              false,
              false,
              false,
              false,
              false,
              false,
              false,
              false,
              false,
              false,
              false,
              false,
              false,
              false,
              false,
              false,
              false,
              false,
              false,
              true,
              false,
              false,
              false,
              false,
              false,
              false,
              false,
              false,
              false,
              false,
              false,
              false
             ]
            ],
            "label": "Date: 2020-04-21",
            "method": "restyle"
           },
           {
            "args": [
             "visible",
             [
              false,
              false,
              false,
              false,
              false,
              false,
              false,
              false,
              false,
              false,
              false,
              false,
              false,
              false,
              false,
              false,
              false,
              false,
              false,
              false,
              false,
              false,
              false,
              false,
              false,
              false,
              false,
              false,
              false,
              false,
              false,
              false,
              false,
              false,
              false,
              false,
              false,
              false,
              false,
              false,
              false,
              false,
              false,
              false,
              false,
              false,
              false,
              false,
              false,
              false,
              false,
              false,
              true,
              false,
              false,
              false,
              false,
              false,
              false,
              false,
              false,
              false,
              false,
              false
             ]
            ],
            "label": "Date: 2020-04-22",
            "method": "restyle"
           },
           {
            "args": [
             "visible",
             [
              false,
              false,
              false,
              false,
              false,
              false,
              false,
              false,
              false,
              false,
              false,
              false,
              false,
              false,
              false,
              false,
              false,
              false,
              false,
              false,
              false,
              false,
              false,
              false,
              false,
              false,
              false,
              false,
              false,
              false,
              false,
              false,
              false,
              false,
              false,
              false,
              false,
              false,
              false,
              false,
              false,
              false,
              false,
              false,
              false,
              false,
              false,
              false,
              false,
              false,
              false,
              false,
              false,
              true,
              false,
              false,
              false,
              false,
              false,
              false,
              false,
              false,
              false,
              false
             ]
            ],
            "label": "Date: 2020-04-23",
            "method": "restyle"
           },
           {
            "args": [
             "visible",
             [
              false,
              false,
              false,
              false,
              false,
              false,
              false,
              false,
              false,
              false,
              false,
              false,
              false,
              false,
              false,
              false,
              false,
              false,
              false,
              false,
              false,
              false,
              false,
              false,
              false,
              false,
              false,
              false,
              false,
              false,
              false,
              false,
              false,
              false,
              false,
              false,
              false,
              false,
              false,
              false,
              false,
              false,
              false,
              false,
              false,
              false,
              false,
              false,
              false,
              false,
              false,
              false,
              false,
              false,
              true,
              false,
              false,
              false,
              false,
              false,
              false,
              false,
              false,
              false
             ]
            ],
            "label": "Date: 2020-04-24",
            "method": "restyle"
           },
           {
            "args": [
             "visible",
             [
              false,
              false,
              false,
              false,
              false,
              false,
              false,
              false,
              false,
              false,
              false,
              false,
              false,
              false,
              false,
              false,
              false,
              false,
              false,
              false,
              false,
              false,
              false,
              false,
              false,
              false,
              false,
              false,
              false,
              false,
              false,
              false,
              false,
              false,
              false,
              false,
              false,
              false,
              false,
              false,
              false,
              false,
              false,
              false,
              false,
              false,
              false,
              false,
              false,
              false,
              false,
              false,
              false,
              false,
              false,
              true,
              false,
              false,
              false,
              false,
              false,
              false,
              false,
              false
             ]
            ],
            "label": "Date: 2020-04-25",
            "method": "restyle"
           },
           {
            "args": [
             "visible",
             [
              false,
              false,
              false,
              false,
              false,
              false,
              false,
              false,
              false,
              false,
              false,
              false,
              false,
              false,
              false,
              false,
              false,
              false,
              false,
              false,
              false,
              false,
              false,
              false,
              false,
              false,
              false,
              false,
              false,
              false,
              false,
              false,
              false,
              false,
              false,
              false,
              false,
              false,
              false,
              false,
              false,
              false,
              false,
              false,
              false,
              false,
              false,
              false,
              false,
              false,
              false,
              false,
              false,
              false,
              false,
              false,
              true,
              false,
              false,
              false,
              false,
              false,
              false,
              false
             ]
            ],
            "label": "Date: 2020-04-26",
            "method": "restyle"
           },
           {
            "args": [
             "visible",
             [
              false,
              false,
              false,
              false,
              false,
              false,
              false,
              false,
              false,
              false,
              false,
              false,
              false,
              false,
              false,
              false,
              false,
              false,
              false,
              false,
              false,
              false,
              false,
              false,
              false,
              false,
              false,
              false,
              false,
              false,
              false,
              false,
              false,
              false,
              false,
              false,
              false,
              false,
              false,
              false,
              false,
              false,
              false,
              false,
              false,
              false,
              false,
              false,
              false,
              false,
              false,
              false,
              false,
              false,
              false,
              false,
              false,
              true,
              false,
              false,
              false,
              false,
              false,
              false
             ]
            ],
            "label": "Date: 2020-04-27",
            "method": "restyle"
           },
           {
            "args": [
             "visible",
             [
              false,
              false,
              false,
              false,
              false,
              false,
              false,
              false,
              false,
              false,
              false,
              false,
              false,
              false,
              false,
              false,
              false,
              false,
              false,
              false,
              false,
              false,
              false,
              false,
              false,
              false,
              false,
              false,
              false,
              false,
              false,
              false,
              false,
              false,
              false,
              false,
              false,
              false,
              false,
              false,
              false,
              false,
              false,
              false,
              false,
              false,
              false,
              false,
              false,
              false,
              false,
              false,
              false,
              false,
              false,
              false,
              false,
              false,
              true,
              false,
              false,
              false,
              false,
              false
             ]
            ],
            "label": "Date: 2020-04-28",
            "method": "restyle"
           },
           {
            "args": [
             "visible",
             [
              false,
              false,
              false,
              false,
              false,
              false,
              false,
              false,
              false,
              false,
              false,
              false,
              false,
              false,
              false,
              false,
              false,
              false,
              false,
              false,
              false,
              false,
              false,
              false,
              false,
              false,
              false,
              false,
              false,
              false,
              false,
              false,
              false,
              false,
              false,
              false,
              false,
              false,
              false,
              false,
              false,
              false,
              false,
              false,
              false,
              false,
              false,
              false,
              false,
              false,
              false,
              false,
              false,
              false,
              false,
              false,
              false,
              false,
              false,
              true,
              false,
              false,
              false,
              false
             ]
            ],
            "label": "Date: 2020-04-29",
            "method": "restyle"
           },
           {
            "args": [
             "visible",
             [
              false,
              false,
              false,
              false,
              false,
              false,
              false,
              false,
              false,
              false,
              false,
              false,
              false,
              false,
              false,
              false,
              false,
              false,
              false,
              false,
              false,
              false,
              false,
              false,
              false,
              false,
              false,
              false,
              false,
              false,
              false,
              false,
              false,
              false,
              false,
              false,
              false,
              false,
              false,
              false,
              false,
              false,
              false,
              false,
              false,
              false,
              false,
              false,
              false,
              false,
              false,
              false,
              false,
              false,
              false,
              false,
              false,
              false,
              false,
              false,
              true,
              false,
              false,
              false
             ]
            ],
            "label": "Date: 2020-04-30",
            "method": "restyle"
           },
           {
            "args": [
             "visible",
             [
              false,
              false,
              false,
              false,
              false,
              false,
              false,
              false,
              false,
              false,
              false,
              false,
              false,
              false,
              false,
              false,
              false,
              false,
              false,
              false,
              false,
              false,
              false,
              false,
              false,
              false,
              false,
              false,
              false,
              false,
              false,
              false,
              false,
              false,
              false,
              false,
              false,
              false,
              false,
              false,
              false,
              false,
              false,
              false,
              false,
              false,
              false,
              false,
              false,
              false,
              false,
              false,
              false,
              false,
              false,
              false,
              false,
              false,
              false,
              false,
              false,
              true,
              false,
              false
             ]
            ],
            "label": "Date: 2020-05-01",
            "method": "restyle"
           },
           {
            "args": [
             "visible",
             [
              false,
              false,
              false,
              false,
              false,
              false,
              false,
              false,
              false,
              false,
              false,
              false,
              false,
              false,
              false,
              false,
              false,
              false,
              false,
              false,
              false,
              false,
              false,
              false,
              false,
              false,
              false,
              false,
              false,
              false,
              false,
              false,
              false,
              false,
              false,
              false,
              false,
              false,
              false,
              false,
              false,
              false,
              false,
              false,
              false,
              false,
              false,
              false,
              false,
              false,
              false,
              false,
              false,
              false,
              false,
              false,
              false,
              false,
              false,
              false,
              false,
              false,
              true,
              false
             ]
            ],
            "label": "Date: 2020-05-02",
            "method": "restyle"
           },
           {
            "args": [
             "visible",
             [
              false,
              false,
              false,
              false,
              false,
              false,
              false,
              false,
              false,
              false,
              false,
              false,
              false,
              false,
              false,
              false,
              false,
              false,
              false,
              false,
              false,
              false,
              false,
              false,
              false,
              false,
              false,
              false,
              false,
              false,
              false,
              false,
              false,
              false,
              false,
              false,
              false,
              false,
              false,
              false,
              false,
              false,
              false,
              false,
              false,
              false,
              false,
              false,
              false,
              false,
              false,
              false,
              false,
              false,
              false,
              false,
              false,
              false,
              false,
              false,
              false,
              false,
              false,
              true
             ]
            ],
            "label": "Date: 2020-05-03",
            "method": "restyle"
           }
          ]
         }
        ],
        "template": {
         "data": {
          "bar": [
           {
            "error_x": {
             "color": "#2a3f5f"
            },
            "error_y": {
             "color": "#2a3f5f"
            },
            "marker": {
             "line": {
              "color": "#E5ECF6",
              "width": 0.5
             }
            },
            "type": "bar"
           }
          ],
          "barpolar": [
           {
            "marker": {
             "line": {
              "color": "#E5ECF6",
              "width": 0.5
             }
            },
            "type": "barpolar"
           }
          ],
          "carpet": [
           {
            "aaxis": {
             "endlinecolor": "#2a3f5f",
             "gridcolor": "white",
             "linecolor": "white",
             "minorgridcolor": "white",
             "startlinecolor": "#2a3f5f"
            },
            "baxis": {
             "endlinecolor": "#2a3f5f",
             "gridcolor": "white",
             "linecolor": "white",
             "minorgridcolor": "white",
             "startlinecolor": "#2a3f5f"
            },
            "type": "carpet"
           }
          ],
          "choropleth": [
           {
            "colorbar": {
             "outlinewidth": 0,
             "ticks": ""
            },
            "type": "choropleth"
           }
          ],
          "contour": [
           {
            "colorbar": {
             "outlinewidth": 0,
             "ticks": ""
            },
            "colorscale": [
             [
              0,
              "#0d0887"
             ],
             [
              0.1111111111111111,
              "#46039f"
             ],
             [
              0.2222222222222222,
              "#7201a8"
             ],
             [
              0.3333333333333333,
              "#9c179e"
             ],
             [
              0.4444444444444444,
              "#bd3786"
             ],
             [
              0.5555555555555556,
              "#d8576b"
             ],
             [
              0.6666666666666666,
              "#ed7953"
             ],
             [
              0.7777777777777778,
              "#fb9f3a"
             ],
             [
              0.8888888888888888,
              "#fdca26"
             ],
             [
              1,
              "#f0f921"
             ]
            ],
            "type": "contour"
           }
          ],
          "contourcarpet": [
           {
            "colorbar": {
             "outlinewidth": 0,
             "ticks": ""
            },
            "type": "contourcarpet"
           }
          ],
          "heatmap": [
           {
            "colorbar": {
             "outlinewidth": 0,
             "ticks": ""
            },
            "colorscale": [
             [
              0,
              "#0d0887"
             ],
             [
              0.1111111111111111,
              "#46039f"
             ],
             [
              0.2222222222222222,
              "#7201a8"
             ],
             [
              0.3333333333333333,
              "#9c179e"
             ],
             [
              0.4444444444444444,
              "#bd3786"
             ],
             [
              0.5555555555555556,
              "#d8576b"
             ],
             [
              0.6666666666666666,
              "#ed7953"
             ],
             [
              0.7777777777777778,
              "#fb9f3a"
             ],
             [
              0.8888888888888888,
              "#fdca26"
             ],
             [
              1,
              "#f0f921"
             ]
            ],
            "type": "heatmap"
           }
          ],
          "heatmapgl": [
           {
            "colorbar": {
             "outlinewidth": 0,
             "ticks": ""
            },
            "colorscale": [
             [
              0,
              "#0d0887"
             ],
             [
              0.1111111111111111,
              "#46039f"
             ],
             [
              0.2222222222222222,
              "#7201a8"
             ],
             [
              0.3333333333333333,
              "#9c179e"
             ],
             [
              0.4444444444444444,
              "#bd3786"
             ],
             [
              0.5555555555555556,
              "#d8576b"
             ],
             [
              0.6666666666666666,
              "#ed7953"
             ],
             [
              0.7777777777777778,
              "#fb9f3a"
             ],
             [
              0.8888888888888888,
              "#fdca26"
             ],
             [
              1,
              "#f0f921"
             ]
            ],
            "type": "heatmapgl"
           }
          ],
          "histogram": [
           {
            "marker": {
             "colorbar": {
              "outlinewidth": 0,
              "ticks": ""
             }
            },
            "type": "histogram"
           }
          ],
          "histogram2d": [
           {
            "colorbar": {
             "outlinewidth": 0,
             "ticks": ""
            },
            "colorscale": [
             [
              0,
              "#0d0887"
             ],
             [
              0.1111111111111111,
              "#46039f"
             ],
             [
              0.2222222222222222,
              "#7201a8"
             ],
             [
              0.3333333333333333,
              "#9c179e"
             ],
             [
              0.4444444444444444,
              "#bd3786"
             ],
             [
              0.5555555555555556,
              "#d8576b"
             ],
             [
              0.6666666666666666,
              "#ed7953"
             ],
             [
              0.7777777777777778,
              "#fb9f3a"
             ],
             [
              0.8888888888888888,
              "#fdca26"
             ],
             [
              1,
              "#f0f921"
             ]
            ],
            "type": "histogram2d"
           }
          ],
          "histogram2dcontour": [
           {
            "colorbar": {
             "outlinewidth": 0,
             "ticks": ""
            },
            "colorscale": [
             [
              0,
              "#0d0887"
             ],
             [
              0.1111111111111111,
              "#46039f"
             ],
             [
              0.2222222222222222,
              "#7201a8"
             ],
             [
              0.3333333333333333,
              "#9c179e"
             ],
             [
              0.4444444444444444,
              "#bd3786"
             ],
             [
              0.5555555555555556,
              "#d8576b"
             ],
             [
              0.6666666666666666,
              "#ed7953"
             ],
             [
              0.7777777777777778,
              "#fb9f3a"
             ],
             [
              0.8888888888888888,
              "#fdca26"
             ],
             [
              1,
              "#f0f921"
             ]
            ],
            "type": "histogram2dcontour"
           }
          ],
          "mesh3d": [
           {
            "colorbar": {
             "outlinewidth": 0,
             "ticks": ""
            },
            "type": "mesh3d"
           }
          ],
          "parcoords": [
           {
            "line": {
             "colorbar": {
              "outlinewidth": 0,
              "ticks": ""
             }
            },
            "type": "parcoords"
           }
          ],
          "pie": [
           {
            "automargin": true,
            "type": "pie"
           }
          ],
          "scatter": [
           {
            "marker": {
             "colorbar": {
              "outlinewidth": 0,
              "ticks": ""
             }
            },
            "type": "scatter"
           }
          ],
          "scatter3d": [
           {
            "line": {
             "colorbar": {
              "outlinewidth": 0,
              "ticks": ""
             }
            },
            "marker": {
             "colorbar": {
              "outlinewidth": 0,
              "ticks": ""
             }
            },
            "type": "scatter3d"
           }
          ],
          "scattercarpet": [
           {
            "marker": {
             "colorbar": {
              "outlinewidth": 0,
              "ticks": ""
             }
            },
            "type": "scattercarpet"
           }
          ],
          "scattergeo": [
           {
            "marker": {
             "colorbar": {
              "outlinewidth": 0,
              "ticks": ""
             }
            },
            "type": "scattergeo"
           }
          ],
          "scattergl": [
           {
            "marker": {
             "colorbar": {
              "outlinewidth": 0,
              "ticks": ""
             }
            },
            "type": "scattergl"
           }
          ],
          "scattermapbox": [
           {
            "marker": {
             "colorbar": {
              "outlinewidth": 0,
              "ticks": ""
             }
            },
            "type": "scattermapbox"
           }
          ],
          "scatterpolar": [
           {
            "marker": {
             "colorbar": {
              "outlinewidth": 0,
              "ticks": ""
             }
            },
            "type": "scatterpolar"
           }
          ],
          "scatterpolargl": [
           {
            "marker": {
             "colorbar": {
              "outlinewidth": 0,
              "ticks": ""
             }
            },
            "type": "scatterpolargl"
           }
          ],
          "scatterternary": [
           {
            "marker": {
             "colorbar": {
              "outlinewidth": 0,
              "ticks": ""
             }
            },
            "type": "scatterternary"
           }
          ],
          "surface": [
           {
            "colorbar": {
             "outlinewidth": 0,
             "ticks": ""
            },
            "colorscale": [
             [
              0,
              "#0d0887"
             ],
             [
              0.1111111111111111,
              "#46039f"
             ],
             [
              0.2222222222222222,
              "#7201a8"
             ],
             [
              0.3333333333333333,
              "#9c179e"
             ],
             [
              0.4444444444444444,
              "#bd3786"
             ],
             [
              0.5555555555555556,
              "#d8576b"
             ],
             [
              0.6666666666666666,
              "#ed7953"
             ],
             [
              0.7777777777777778,
              "#fb9f3a"
             ],
             [
              0.8888888888888888,
              "#fdca26"
             ],
             [
              1,
              "#f0f921"
             ]
            ],
            "type": "surface"
           }
          ],
          "table": [
           {
            "cells": {
             "fill": {
              "color": "#EBF0F8"
             },
             "line": {
              "color": "white"
             }
            },
            "header": {
             "fill": {
              "color": "#C8D4E3"
             },
             "line": {
              "color": "white"
             }
            },
            "type": "table"
           }
          ]
         },
         "layout": {
          "annotationdefaults": {
           "arrowcolor": "#2a3f5f",
           "arrowhead": 0,
           "arrowwidth": 1
          },
          "coloraxis": {
           "colorbar": {
            "outlinewidth": 0,
            "ticks": ""
           }
          },
          "colorscale": {
           "diverging": [
            [
             0,
             "#8e0152"
            ],
            [
             0.1,
             "#c51b7d"
            ],
            [
             0.2,
             "#de77ae"
            ],
            [
             0.3,
             "#f1b6da"
            ],
            [
             0.4,
             "#fde0ef"
            ],
            [
             0.5,
             "#f7f7f7"
            ],
            [
             0.6,
             "#e6f5d0"
            ],
            [
             0.7,
             "#b8e186"
            ],
            [
             0.8,
             "#7fbc41"
            ],
            [
             0.9,
             "#4d9221"
            ],
            [
             1,
             "#276419"
            ]
           ],
           "sequential": [
            [
             0,
             "#0d0887"
            ],
            [
             0.1111111111111111,
             "#46039f"
            ],
            [
             0.2222222222222222,
             "#7201a8"
            ],
            [
             0.3333333333333333,
             "#9c179e"
            ],
            [
             0.4444444444444444,
             "#bd3786"
            ],
            [
             0.5555555555555556,
             "#d8576b"
            ],
            [
             0.6666666666666666,
             "#ed7953"
            ],
            [
             0.7777777777777778,
             "#fb9f3a"
            ],
            [
             0.8888888888888888,
             "#fdca26"
            ],
            [
             1,
             "#f0f921"
            ]
           ],
           "sequentialminus": [
            [
             0,
             "#0d0887"
            ],
            [
             0.1111111111111111,
             "#46039f"
            ],
            [
             0.2222222222222222,
             "#7201a8"
            ],
            [
             0.3333333333333333,
             "#9c179e"
            ],
            [
             0.4444444444444444,
             "#bd3786"
            ],
            [
             0.5555555555555556,
             "#d8576b"
            ],
            [
             0.6666666666666666,
             "#ed7953"
            ],
            [
             0.7777777777777778,
             "#fb9f3a"
            ],
            [
             0.8888888888888888,
             "#fdca26"
            ],
            [
             1,
             "#f0f921"
            ]
           ]
          },
          "colorway": [
           "#636efa",
           "#EF553B",
           "#00cc96",
           "#ab63fa",
           "#FFA15A",
           "#19d3f3",
           "#FF6692",
           "#B6E880",
           "#FF97FF",
           "#FECB52"
          ],
          "font": {
           "color": "#2a3f5f"
          },
          "geo": {
           "bgcolor": "white",
           "lakecolor": "white",
           "landcolor": "#E5ECF6",
           "showlakes": true,
           "showland": true,
           "subunitcolor": "white"
          },
          "hoverlabel": {
           "align": "left"
          },
          "hovermode": "closest",
          "mapbox": {
           "style": "light"
          },
          "paper_bgcolor": "white",
          "plot_bgcolor": "#E5ECF6",
          "polar": {
           "angularaxis": {
            "gridcolor": "white",
            "linecolor": "white",
            "ticks": ""
           },
           "bgcolor": "#E5ECF6",
           "radialaxis": {
            "gridcolor": "white",
            "linecolor": "white",
            "ticks": ""
           }
          },
          "scene": {
           "xaxis": {
            "backgroundcolor": "#E5ECF6",
            "gridcolor": "white",
            "gridwidth": 2,
            "linecolor": "white",
            "showbackground": true,
            "ticks": "",
            "zerolinecolor": "white"
           },
           "yaxis": {
            "backgroundcolor": "#E5ECF6",
            "gridcolor": "white",
            "gridwidth": 2,
            "linecolor": "white",
            "showbackground": true,
            "ticks": "",
            "zerolinecolor": "white"
           },
           "zaxis": {
            "backgroundcolor": "#E5ECF6",
            "gridcolor": "white",
            "gridwidth": 2,
            "linecolor": "white",
            "showbackground": true,
            "ticks": "",
            "zerolinecolor": "white"
           }
          },
          "shapedefaults": {
           "line": {
            "color": "#2a3f5f"
           }
          },
          "ternary": {
           "aaxis": {
            "gridcolor": "white",
            "linecolor": "white",
            "ticks": ""
           },
           "baxis": {
            "gridcolor": "white",
            "linecolor": "white",
            "ticks": ""
           },
           "bgcolor": "#E5ECF6",
           "caxis": {
            "gridcolor": "white",
            "linecolor": "white",
            "ticks": ""
           }
          },
          "title": {
           "x": 0.05
          },
          "xaxis": {
           "automargin": true,
           "gridcolor": "white",
           "linecolor": "white",
           "ticks": "",
           "title": {
            "standoff": 15
           },
           "zerolinecolor": "white",
           "zerolinewidth": 2
          },
          "yaxis": {
           "automargin": true,
           "gridcolor": "white",
           "linecolor": "white",
           "ticks": "",
           "title": {
            "standoff": 15
           },
           "zerolinecolor": "white",
           "zerolinewidth": 2
          }
         }
        },
        "width": 580
       }
      },
      "text/html": [
       "<div>\n",
       "        \n",
       "        \n",
       "            <div id=\"b8a000d9-9933-4e27-9213-7655bba16c0f\" class=\"plotly-graph-div\" style=\"height:500px; width:580px;\"></div>\n",
       "            <script type=\"text/javascript\">\n",
       "                require([\"plotly\"], function(Plotly) {\n",
       "                    window.PLOTLYENV=window.PLOTLYENV || {};\n",
       "                    \n",
       "                if (document.getElementById(\"b8a000d9-9933-4e27-9213-7655bba16c0f\")) {\n",
       "                    Plotly.newPlot(\n",
       "                        'b8a000d9-9933-4e27-9213-7655bba16c0f',\n",
       "                        [{\"colorbar\": {\"title\": {\"text\": \"Number of infected people in a given day\"}}, \"colorscale\": [[0.0, \"#ffffff\"], [0.2, \"#ff9999\"], [0.4, \"#ff4d4d\"], [0.6, \"#ff1a1a\"], [0.8, \"#cc0000\"], [1.0, \"#4d0000\"]], \"locationmode\": \"country names\", \"locations\": [\"Denmark\", \"Finland\", \"Norway\", \"Sweden\"], \"marker\": {\"line\": {\"color\": \"rgb(0,0,0)\", \"width\": 0.5}}, \"text\": [\"Denmark\", \"Finland\", \"Norway\", \"Sweden\"], \"type\": \"choropleth\", \"z\": [4, 6, 19, 14], \"zmax\": 25000, \"zmin\": 0}, {\"colorbar\": {\"title\": {\"text\": \"Number of infected people in a given day\"}}, \"colorscale\": [[0.0, \"#ffffff\"], [0.2, \"#ff9999\"], [0.4, \"#ff4d4d\"], [0.6, \"#ff1a1a\"], [0.8, \"#cc0000\"], [1.0, \"#4d0000\"]], \"locationmode\": \"country names\", \"locations\": [\"Denmark\", \"Finland\", \"Norway\", \"Sweden\"], \"marker\": {\"line\": {\"color\": \"rgb(0,0,0)\", \"width\": 0.5}}, \"text\": [\"Denmark\", \"Finland\", \"Norway\", \"Sweden\"], \"type\": \"choropleth\", \"z\": [4, 6, 25, 15], \"zmax\": 25000, \"zmin\": 0}, {\"colorbar\": {\"title\": {\"text\": \"Number of infected people in a given day\"}}, \"colorscale\": [[0.0, \"#ffffff\"], [0.2, \"#ff9999\"], [0.4, \"#ff4d4d\"], [0.6, \"#ff1a1a\"], [0.8, \"#cc0000\"], [1.0, \"#4d0000\"]], \"locationmode\": \"country names\", \"locations\": [\"Denmark\", \"Finland\", \"Norway\", \"Sweden\"], \"marker\": {\"line\": {\"color\": \"rgb(0,0,0)\", \"width\": 0.5}}, \"text\": [\"Denmark\", \"Finland\", \"Norway\", \"Sweden\"], \"type\": \"choropleth\", \"z\": [6, 6, 32, 21], \"zmax\": 25000, \"zmin\": 0}, {\"colorbar\": {\"title\": {\"text\": \"Number of infected people in a given day\"}}, \"colorscale\": [[0.0, \"#ffffff\"], [0.2, \"#ff9999\"], [0.4, \"#ff4d4d\"], [0.6, \"#ff1a1a\"], [0.8, \"#cc0000\"], [1.0, \"#4d0000\"]], \"locationmode\": \"country names\", \"locations\": [\"Denmark\", \"Finland\", \"Norway\", \"Sweden\"], \"marker\": {\"line\": {\"color\": \"rgb(0,0,0)\", \"width\": 0.5}}, \"text\": [\"Denmark\", \"Finland\", \"Norway\", \"Sweden\"], \"type\": \"choropleth\", \"z\": [10, 6, 56, 35], \"zmax\": 25000, \"zmin\": 0}, {\"colorbar\": {\"title\": {\"text\": \"Number of infected people in a given day\"}}, \"colorscale\": [[0.0, \"#ffffff\"], [0.2, \"#ff9999\"], [0.4, \"#ff4d4d\"], [0.6, \"#ff1a1a\"], [0.8, \"#cc0000\"], [1.0, \"#4d0000\"]], \"locationmode\": \"country names\", \"locations\": [\"Denmark\", \"Finland\", \"Norway\", \"Sweden\"], \"marker\": {\"line\": {\"color\": \"rgb(0,0,0)\", \"width\": 0.5}}, \"text\": [\"Denmark\", \"Finland\", \"Norway\", \"Sweden\"], \"type\": \"choropleth\", \"z\": [10, 12, 87, 94], \"zmax\": 25000, \"zmin\": 0}, {\"colorbar\": {\"title\": {\"text\": \"Number of infected people in a given day\"}}, \"colorscale\": [[0.0, \"#ffffff\"], [0.2, \"#ff9999\"], [0.4, \"#ff4d4d\"], [0.6, \"#ff1a1a\"], [0.8, \"#cc0000\"], [1.0, \"#4d0000\"]], \"locationmode\": \"country names\", \"locations\": [\"Denmark\", \"Finland\", \"Norway\", \"Sweden\"], \"marker\": {\"line\": {\"color\": \"rgb(0,0,0)\", \"width\": 0.5}}, \"text\": [\"Denmark\", \"Finland\", \"Norway\", \"Sweden\"], \"type\": \"choropleth\", \"z\": [23, 15, 108, 101], \"zmax\": 25000, \"zmin\": 0}, {\"colorbar\": {\"title\": {\"text\": \"Number of infected people in a given day\"}}, \"colorscale\": [[0.0, \"#ffffff\"], [0.2, \"#ff9999\"], [0.4, \"#ff4d4d\"], [0.6, \"#ff1a1a\"], [0.8, \"#cc0000\"], [1.0, \"#4d0000\"]], \"locationmode\": \"country names\", \"locations\": [\"Denmark\", \"Finland\", \"Norway\", \"Sweden\"], \"marker\": {\"line\": {\"color\": \"rgb(0,0,0)\", \"width\": 0.5}}, \"text\": [\"Denmark\", \"Finland\", \"Norway\", \"Sweden\"], \"type\": \"choropleth\", \"z\": [23, 15, 147, 161], \"zmax\": 25000, \"zmin\": 0}, {\"colorbar\": {\"title\": {\"text\": \"Number of infected people in a given day\"}}, \"colorscale\": [[0.0, \"#ffffff\"], [0.2, \"#ff9999\"], [0.4, \"#ff4d4d\"], [0.6, \"#ff1a1a\"], [0.8, \"#cc0000\"], [1.0, \"#4d0000\"]], \"locationmode\": \"country names\", \"locations\": [\"Denmark\", \"Finland\", \"Norway\", \"Sweden\"], \"marker\": {\"line\": {\"color\": \"rgb(0,0,0)\", \"width\": 0.5}}, \"text\": [\"Denmark\", \"Finland\", \"Norway\", \"Sweden\"], \"type\": \"choropleth\", \"z\": [35, 23, 176, 203], \"zmax\": 25000, \"zmin\": 0}, {\"colorbar\": {\"title\": {\"text\": \"Number of infected people in a given day\"}}, \"colorscale\": [[0.0, \"#ffffff\"], [0.2, \"#ff9999\"], [0.4, \"#ff4d4d\"], [0.6, \"#ff1a1a\"], [0.8, \"#cc0000\"], [1.0, \"#4d0000\"]], \"locationmode\": \"country names\", \"locations\": [\"Denmark\", \"Finland\", \"Norway\", \"Sweden\"], \"marker\": {\"line\": {\"color\": \"rgb(0,0,0)\", \"width\": 0.5}}, \"text\": [\"Denmark\", \"Finland\", \"Norway\", \"Sweden\"], \"type\": \"choropleth\", \"z\": [90, 30, 205, 248], \"zmax\": 25000, \"zmin\": 0}, {\"colorbar\": {\"title\": {\"text\": \"Number of infected people in a given day\"}}, \"colorscale\": [[0.0, \"#ffffff\"], [0.2, \"#ff9999\"], [0.4, \"#ff4d4d\"], [0.6, \"#ff1a1a\"], [0.8, \"#cc0000\"], [1.0, \"#4d0000\"]], \"locationmode\": \"country names\", \"locations\": [\"Denmark\", \"Finland\", \"Norway\", \"Sweden\"], \"marker\": {\"line\": {\"color\": \"rgb(0,0,0)\", \"width\": 0.5}}, \"text\": [\"Denmark\", \"Finland\", \"Norway\", \"Sweden\"], \"type\": \"choropleth\", \"z\": [262, 40, 400, 355], \"zmax\": 25000, \"zmin\": 0}, {\"colorbar\": {\"title\": {\"text\": \"Number of infected people in a given day\"}}, \"colorscale\": [[0.0, \"#ffffff\"], [0.2, \"#ff9999\"], [0.4, \"#ff4d4d\"], [0.6, \"#ff1a1a\"], [0.8, \"#cc0000\"], [1.0, \"#4d0000\"]], \"locationmode\": \"country names\", \"locations\": [\"Denmark\", \"Finland\", \"Norway\", \"Sweden\"], \"marker\": {\"line\": {\"color\": \"rgb(0,0,0)\", \"width\": 0.5}}, \"text\": [\"Denmark\", \"Finland\", \"Norway\", \"Sweden\"], \"type\": \"choropleth\", \"z\": [442, 59, 598, 500], \"zmax\": 25000, \"zmin\": 0}, {\"colorbar\": {\"title\": {\"text\": \"Number of infected people in a given day\"}}, \"colorscale\": [[0.0, \"#ffffff\"], [0.2, \"#ff9999\"], [0.4, \"#ff4d4d\"], [0.6, \"#ff1a1a\"], [0.8, \"#cc0000\"], [1.0, \"#4d0000\"]], \"locationmode\": \"country names\", \"locations\": [\"Denmark\", \"Finland\", \"Norway\", \"Sweden\"], \"marker\": {\"line\": {\"color\": \"rgb(0,0,0)\", \"width\": 0.5}}, \"text\": [\"Denmark\", \"Finland\", \"Norway\", \"Sweden\"], \"type\": \"choropleth\", \"z\": [615, 59, 702, 599], \"zmax\": 25000, \"zmin\": 0}, {\"colorbar\": {\"title\": {\"text\": \"Number of infected people in a given day\"}}, \"colorscale\": [[0.0, \"#ffffff\"], [0.2, \"#ff9999\"], [0.4, \"#ff4d4d\"], [0.6, \"#ff1a1a\"], [0.8, \"#cc0000\"], [1.0, \"#4d0000\"]], \"locationmode\": \"country names\", \"locations\": [\"Denmark\", \"Finland\", \"Norway\", \"Sweden\"], \"marker\": {\"line\": {\"color\": \"rgb(0,0,0)\", \"width\": 0.5}}, \"text\": [\"Denmark\", \"Finland\", \"Norway\", \"Sweden\"], \"type\": \"choropleth\", \"z\": [801, 155, 996, 814], \"zmax\": 25000, \"zmin\": 0}, {\"colorbar\": {\"title\": {\"text\": \"Number of infected people in a given day\"}}, \"colorscale\": [[0.0, \"#ffffff\"], [0.2, \"#ff9999\"], [0.4, \"#ff4d4d\"], [0.6, \"#ff1a1a\"], [0.8, \"#cc0000\"], [1.0, \"#4d0000\"]], \"locationmode\": \"country names\", \"locations\": [\"Denmark\", \"Finland\", \"Norway\", \"Sweden\"], \"marker\": {\"line\": {\"color\": \"rgb(0,0,0)\", \"width\": 0.5}}, \"text\": [\"Denmark\", \"Finland\", \"Norway\", \"Sweden\"], \"type\": \"choropleth\", \"z\": [827, 225, 1090, 961], \"zmax\": 25000, \"zmin\": 0}, {\"colorbar\": {\"title\": {\"text\": \"Number of infected people in a given day\"}}, \"colorscale\": [[0.0, \"#ffffff\"], [0.2, \"#ff9999\"], [0.4, \"#ff4d4d\"], [0.6, \"#ff1a1a\"], [0.8, \"#cc0000\"], [1.0, \"#4d0000\"]], \"locationmode\": \"country names\", \"locations\": [\"Denmark\", \"Finland\", \"Norway\", \"Sweden\"], \"marker\": {\"line\": {\"color\": \"rgb(0,0,0)\", \"width\": 0.5}}, \"text\": [\"Denmark\", \"Finland\", \"Norway\", \"Sweden\"], \"type\": \"choropleth\", \"z\": [864, 244, 1221, 1022], \"zmax\": 25000, \"zmin\": 0}, {\"colorbar\": {\"title\": {\"text\": \"Number of infected people in a given day\"}}, \"colorscale\": [[0.0, \"#ffffff\"], [0.2, \"#ff9999\"], [0.4, \"#ff4d4d\"], [0.6, \"#ff1a1a\"], [0.8, \"#cc0000\"], [1.0, \"#4d0000\"]], \"locationmode\": \"country names\", \"locations\": [\"Denmark\", \"Finland\", \"Norway\", \"Sweden\"], \"marker\": {\"line\": {\"color\": \"rgb(0,0,0)\", \"width\": 0.5}}, \"text\": [\"Denmark\", \"Finland\", \"Norway\", \"Sweden\"], \"type\": \"choropleth\", \"z\": [914, 277, 1333, 1103], \"zmax\": 25000, \"zmin\": 0}, {\"colorbar\": {\"title\": {\"text\": \"Number of infected people in a given day\"}}, \"colorscale\": [[0.0, \"#ffffff\"], [0.2, \"#ff9999\"], [0.4, \"#ff4d4d\"], [0.6, \"#ff1a1a\"], [0.8, \"#cc0000\"], [1.0, \"#4d0000\"]], \"locationmode\": \"country names\", \"locations\": [\"Denmark\", \"Finland\", \"Norway\", \"Sweden\"], \"marker\": {\"line\": {\"color\": \"rgb(0,0,0)\", \"width\": 0.5}}, \"text\": [\"Denmark\", \"Finland\", \"Norway\", \"Sweden\"], \"type\": \"choropleth\", \"z\": [977, 321, 1463, 1190], \"zmax\": 25000, \"zmin\": 0}, {\"colorbar\": {\"title\": {\"text\": \"Number of infected people in a given day\"}}, \"colorscale\": [[0.0, \"#ffffff\"], [0.2, \"#ff9999\"], [0.4, \"#ff4d4d\"], [0.6, \"#ff1a1a\"], [0.8, \"#cc0000\"], [1.0, \"#4d0000\"]], \"locationmode\": \"country names\", \"locations\": [\"Denmark\", \"Finland\", \"Norway\", \"Sweden\"], \"marker\": {\"line\": {\"color\": \"rgb(0,0,0)\", \"width\": 0.5}}, \"text\": [\"Denmark\", \"Finland\", \"Norway\", \"Sweden\"], \"type\": \"choropleth\", \"z\": [1057, 336, 1550, 1279], \"zmax\": 25000, \"zmin\": 0}, {\"colorbar\": {\"title\": {\"text\": \"Number of infected people in a given day\"}}, \"colorscale\": [[0.0, \"#ffffff\"], [0.2, \"#ff9999\"], [0.4, \"#ff4d4d\"], [0.6, \"#ff1a1a\"], [0.8, \"#cc0000\"], [1.0, \"#4d0000\"]], \"locationmode\": \"country names\", \"locations\": [\"Denmark\", \"Finland\", \"Norway\", \"Sweden\"], \"marker\": {\"line\": {\"color\": \"rgb(0,0,0)\", \"width\": 0.5}}, \"text\": [\"Denmark\", \"Finland\", \"Norway\", \"Sweden\"], \"type\": \"choropleth\", \"z\": [1151, 400, 1746, 1439], \"zmax\": 25000, \"zmin\": 0}, {\"colorbar\": {\"title\": {\"text\": \"Number of infected people in a given day\"}}, \"colorscale\": [[0.0, \"#ffffff\"], [0.2, \"#ff9999\"], [0.4, \"#ff4d4d\"], [0.6, \"#ff1a1a\"], [0.8, \"#cc0000\"], [1.0, \"#4d0000\"]], \"locationmode\": \"country names\", \"locations\": [\"Denmark\", \"Finland\", \"Norway\", \"Sweden\"], \"marker\": {\"line\": {\"color\": \"rgb(0,0,0)\", \"width\": 0.5}}, \"text\": [\"Denmark\", \"Finland\", \"Norway\", \"Sweden\"], \"type\": \"choropleth\", \"z\": [1255, 450, 1914, 1639], \"zmax\": 25000, \"zmin\": 0}, {\"colorbar\": {\"title\": {\"text\": \"Number of infected people in a given day\"}}, \"colorscale\": [[0.0, \"#ffffff\"], [0.2, \"#ff9999\"], [0.4, \"#ff4d4d\"], [0.6, \"#ff1a1a\"], [0.8, \"#cc0000\"], [1.0, \"#4d0000\"]], \"locationmode\": \"country names\", \"locations\": [\"Denmark\", \"Finland\", \"Norway\", \"Sweden\"], \"marker\": {\"line\": {\"color\": \"rgb(0,0,0)\", \"width\": 0.5}}, \"text\": [\"Denmark\", \"Finland\", \"Norway\", \"Sweden\"], \"type\": \"choropleth\", \"z\": [1326, 523, 2118, 1763], \"zmax\": 25000, \"zmin\": 0}, {\"colorbar\": {\"title\": {\"text\": \"Number of infected people in a given day\"}}, \"colorscale\": [[0.0, \"#ffffff\"], [0.2, \"#ff9999\"], [0.4, \"#ff4d4d\"], [0.6, \"#ff1a1a\"], [0.8, \"#cc0000\"], [1.0, \"#4d0000\"]], \"locationmode\": \"country names\", \"locations\": [\"Denmark\", \"Finland\", \"Norway\", \"Sweden\"], \"marker\": {\"line\": {\"color\": \"rgb(0,0,0)\", \"width\": 0.5}}, \"text\": [\"Denmark\", \"Finland\", \"Norway\", \"Sweden\"], \"type\": \"choropleth\", \"z\": [1395, 626, 2385, 1934], \"zmax\": 25000, \"zmin\": 0}, {\"colorbar\": {\"title\": {\"text\": \"Number of infected people in a given day\"}}, \"colorscale\": [[0.0, \"#ffffff\"], [0.2, \"#ff9999\"], [0.4, \"#ff4d4d\"], [0.6, \"#ff1a1a\"], [0.8, \"#cc0000\"], [1.0, \"#4d0000\"]], \"locationmode\": \"country names\", \"locations\": [\"Denmark\", \"Finland\", \"Norway\", \"Sweden\"], \"marker\": {\"line\": {\"color\": \"rgb(0,0,0)\", \"width\": 0.5}}, \"text\": [\"Denmark\", \"Finland\", \"Norway\", \"Sweden\"], \"type\": \"choropleth\", \"z\": [1450, 700, 2621, 2046], \"zmax\": 25000, \"zmin\": 0}, {\"colorbar\": {\"title\": {\"text\": \"Number of infected people in a given day\"}}, \"colorscale\": [[0.0, \"#ffffff\"], [0.2, \"#ff9999\"], [0.4, \"#ff4d4d\"], [0.6, \"#ff1a1a\"], [0.8, \"#cc0000\"], [1.0, \"#4d0000\"]], \"locationmode\": \"country names\", \"locations\": [\"Denmark\", \"Finland\", \"Norway\", \"Sweden\"], \"marker\": {\"line\": {\"color\": \"rgb(0,0,0)\", \"width\": 0.5}}, \"text\": [\"Denmark\", \"Finland\", \"Norway\", \"Sweden\"], \"type\": \"choropleth\", \"z\": [1591, 792, 2863, 2286], \"zmax\": 25000, \"zmin\": 0}, {\"colorbar\": {\"title\": {\"text\": \"Number of infected people in a given day\"}}, \"colorscale\": [[0.0, \"#ffffff\"], [0.2, \"#ff9999\"], [0.4, \"#ff4d4d\"], [0.6, \"#ff1a1a\"], [0.8, \"#cc0000\"], [1.0, \"#4d0000\"]], \"locationmode\": \"country names\", \"locations\": [\"Denmark\", \"Finland\", \"Norway\", \"Sweden\"], \"marker\": {\"line\": {\"color\": \"rgb(0,0,0)\", \"width\": 0.5}}, \"text\": [\"Denmark\", \"Finland\", \"Norway\", \"Sweden\"], \"type\": \"choropleth\", \"z\": [1724, 880, 3084, 2526], \"zmax\": 25000, \"zmin\": 0}, {\"colorbar\": {\"title\": {\"text\": \"Number of infected people in a given day\"}}, \"colorscale\": [[0.0, \"#ffffff\"], [0.2, \"#ff9999\"], [0.4, \"#ff4d4d\"], [0.6, \"#ff1a1a\"], [0.8, \"#cc0000\"], [1.0, \"#4d0000\"]], \"locationmode\": \"country names\", \"locations\": [\"Denmark\", \"Finland\", \"Norway\", \"Sweden\"], \"marker\": {\"line\": {\"color\": \"rgb(0,0,0)\", \"width\": 0.5}}, \"text\": [\"Denmark\", \"Finland\", \"Norway\", \"Sweden\"], \"type\": \"choropleth\", \"z\": [1877, 958, 3369, 2840], \"zmax\": 25000, \"zmin\": 0}, {\"colorbar\": {\"title\": {\"text\": \"Number of infected people in a given day\"}}, \"colorscale\": [[0.0, \"#ffffff\"], [0.2, \"#ff9999\"], [0.4, \"#ff4d4d\"], [0.6, \"#ff1a1a\"], [0.8, \"#cc0000\"], [1.0, \"#4d0000\"]], \"locationmode\": \"country names\", \"locations\": [\"Denmark\", \"Finland\", \"Norway\", \"Sweden\"], \"marker\": {\"line\": {\"color\": \"rgb(0,0,0)\", \"width\": 0.5}}, \"text\": [\"Denmark\", \"Finland\", \"Norway\", \"Sweden\"], \"type\": \"choropleth\", \"z\": [2046, 1041, 3755, 3069], \"zmax\": 25000, \"zmin\": 0}, {\"colorbar\": {\"title\": {\"text\": \"Number of infected people in a given day\"}}, \"colorscale\": [[0.0, \"#ffffff\"], [0.2, \"#ff9999\"], [0.4, \"#ff4d4d\"], [0.6, \"#ff1a1a\"], [0.8, \"#cc0000\"], [1.0, \"#4d0000\"]], \"locationmode\": \"country names\", \"locations\": [\"Denmark\", \"Finland\", \"Norway\", \"Sweden\"], \"marker\": {\"line\": {\"color\": \"rgb(0,0,0)\", \"width\": 0.5}}, \"text\": [\"Denmark\", \"Finland\", \"Norway\", \"Sweden\"], \"type\": \"choropleth\", \"z\": [2201, 1167, 4015, 3447], \"zmax\": 25000, \"zmin\": 0}, {\"colorbar\": {\"title\": {\"text\": \"Number of infected people in a given day\"}}, \"colorscale\": [[0.0, \"#ffffff\"], [0.2, \"#ff9999\"], [0.4, \"#ff4d4d\"], [0.6, \"#ff1a1a\"], [0.8, \"#cc0000\"], [1.0, \"#4d0000\"]], \"locationmode\": \"country names\", \"locations\": [\"Denmark\", \"Finland\", \"Norway\", \"Sweden\"], \"marker\": {\"line\": {\"color\": \"rgb(0,0,0)\", \"width\": 0.5}}, \"text\": [\"Denmark\", \"Finland\", \"Norway\", \"Sweden\"], \"type\": \"choropleth\", \"z\": [2395, 1240, 4284, 3700], \"zmax\": 25000, \"zmin\": 0}, {\"colorbar\": {\"title\": {\"text\": \"Number of infected people in a given day\"}}, \"colorscale\": [[0.0, \"#ffffff\"], [0.2, \"#ff9999\"], [0.4, \"#ff4d4d\"], [0.6, \"#ff1a1a\"], [0.8, \"#cc0000\"], [1.0, \"#4d0000\"]], \"locationmode\": \"country names\", \"locations\": [\"Denmark\", \"Finland\", \"Norway\", \"Sweden\"], \"marker\": {\"line\": {\"color\": \"rgb(0,0,0)\", \"width\": 0.5}}, \"text\": [\"Denmark\", \"Finland\", \"Norway\", \"Sweden\"], \"type\": \"choropleth\", \"z\": [2577, 1352, 4445, 4028], \"zmax\": 25000, \"zmin\": 0}, {\"colorbar\": {\"title\": {\"text\": \"Number of infected people in a given day\"}}, \"colorscale\": [[0.0, \"#ffffff\"], [0.2, \"#ff9999\"], [0.4, \"#ff4d4d\"], [0.6, \"#ff1a1a\"], [0.8, \"#cc0000\"], [1.0, \"#4d0000\"]], \"locationmode\": \"country names\", \"locations\": [\"Denmark\", \"Finland\", \"Norway\", \"Sweden\"], \"marker\": {\"line\": {\"color\": \"rgb(0,0,0)\", \"width\": 0.5}}, \"text\": [\"Denmark\", \"Finland\", \"Norway\", \"Sweden\"], \"type\": \"choropleth\", \"z\": [2860, 1418, 4641, 4435], \"zmax\": 25000, \"zmin\": 0}, {\"colorbar\": {\"title\": {\"text\": \"Number of infected people in a given day\"}}, \"colorscale\": [[0.0, \"#ffffff\"], [0.2, \"#ff9999\"], [0.4, \"#ff4d4d\"], [0.6, \"#ff1a1a\"], [0.8, \"#cc0000\"], [1.0, \"#4d0000\"]], \"locationmode\": \"country names\", \"locations\": [\"Denmark\", \"Finland\", \"Norway\", \"Sweden\"], \"marker\": {\"line\": {\"color\": \"rgb(0,0,0)\", \"width\": 0.5}}, \"text\": [\"Denmark\", \"Finland\", \"Norway\", \"Sweden\"], \"type\": \"choropleth\", \"z\": [3107, 1446, 4863, 4947], \"zmax\": 25000, \"zmin\": 0}, {\"colorbar\": {\"title\": {\"text\": \"Number of infected people in a given day\"}}, \"colorscale\": [[0.0, \"#ffffff\"], [0.2, \"#ff9999\"], [0.4, \"#ff4d4d\"], [0.6, \"#ff1a1a\"], [0.8, \"#cc0000\"], [1.0, \"#4d0000\"]], \"locationmode\": \"country names\", \"locations\": [\"Denmark\", \"Finland\", \"Norway\", \"Sweden\"], \"marker\": {\"line\": {\"color\": \"rgb(0,0,0)\", \"width\": 0.5}}, \"text\": [\"Denmark\", \"Finland\", \"Norway\", \"Sweden\"], \"type\": \"choropleth\", \"z\": [3386, 1518, 5147, 5568], \"zmax\": 25000, \"zmin\": 0}, {\"colorbar\": {\"title\": {\"text\": \"Number of infected people in a given day\"}}, \"colorscale\": [[0.0, \"#ffffff\"], [0.2, \"#ff9999\"], [0.4, \"#ff4d4d\"], [0.6, \"#ff1a1a\"], [0.8, \"#cc0000\"], [1.0, \"#4d0000\"]], \"locationmode\": \"country names\", \"locations\": [\"Denmark\", \"Finland\", \"Norway\", \"Sweden\"], \"marker\": {\"line\": {\"color\": \"rgb(0,0,0)\", \"width\": 0.5}}, \"text\": [\"Denmark\", \"Finland\", \"Norway\", \"Sweden\"], \"type\": \"choropleth\", \"z\": [3757, 1615, 5370, 6131], \"zmax\": 25000, \"zmin\": 0}, {\"colorbar\": {\"title\": {\"text\": \"Number of infected people in a given day\"}}, \"colorscale\": [[0.0, \"#ffffff\"], [0.2, \"#ff9999\"], [0.4, \"#ff4d4d\"], [0.6, \"#ff1a1a\"], [0.8, \"#cc0000\"], [1.0, \"#4d0000\"]], \"locationmode\": \"country names\", \"locations\": [\"Denmark\", \"Finland\", \"Norway\", \"Sweden\"], \"marker\": {\"line\": {\"color\": \"rgb(0,0,0)\", \"width\": 0.5}}, \"text\": [\"Denmark\", \"Finland\", \"Norway\", \"Sweden\"], \"type\": \"choropleth\", \"z\": [4077, 1882, 5550, 6443], \"zmax\": 25000, \"zmin\": 0}, {\"colorbar\": {\"title\": {\"text\": \"Number of infected people in a given day\"}}, \"colorscale\": [[0.0, \"#ffffff\"], [0.2, \"#ff9999\"], [0.4, \"#ff4d4d\"], [0.6, \"#ff1a1a\"], [0.8, \"#cc0000\"], [1.0, \"#4d0000\"]], \"locationmode\": \"country names\", \"locations\": [\"Denmark\", \"Finland\", \"Norway\", \"Sweden\"], \"marker\": {\"line\": {\"color\": \"rgb(0,0,0)\", \"width\": 0.5}}, \"text\": [\"Denmark\", \"Finland\", \"Norway\", \"Sweden\"], \"type\": \"choropleth\", \"z\": [4369, 1927, 5687, 6830], \"zmax\": 25000, \"zmin\": 0}, {\"colorbar\": {\"title\": {\"text\": \"Number of infected people in a given day\"}}, \"colorscale\": [[0.0, \"#ffffff\"], [0.2, \"#ff9999\"], [0.4, \"#ff4d4d\"], [0.6, \"#ff1a1a\"], [0.8, \"#cc0000\"], [1.0, \"#4d0000\"]], \"locationmode\": \"country names\", \"locations\": [\"Denmark\", \"Finland\", \"Norway\", \"Sweden\"], \"marker\": {\"line\": {\"color\": \"rgb(0,0,0)\", \"width\": 0.5}}, \"text\": [\"Denmark\", \"Finland\", \"Norway\", \"Sweden\"], \"type\": \"choropleth\", \"z\": [4681, 2176, 5865, 7206], \"zmax\": 25000, \"zmin\": 0}, {\"colorbar\": {\"title\": {\"text\": \"Number of infected people in a given day\"}}, \"colorscale\": [[0.0, \"#ffffff\"], [0.2, \"#ff9999\"], [0.4, \"#ff4d4d\"], [0.6, \"#ff1a1a\"], [0.8, \"#cc0000\"], [1.0, \"#4d0000\"]], \"locationmode\": \"country names\", \"locations\": [\"Denmark\", \"Finland\", \"Norway\", \"Sweden\"], \"marker\": {\"line\": {\"color\": \"rgb(0,0,0)\", \"width\": 0.5}}, \"text\": [\"Denmark\", \"Finland\", \"Norway\", \"Sweden\"], \"type\": \"choropleth\", \"z\": [5071, 2308, 6086, 7693], \"zmax\": 25000, \"zmin\": 0}, {\"colorbar\": {\"title\": {\"text\": \"Number of infected people in a given day\"}}, \"colorscale\": [[0.0, \"#ffffff\"], [0.2, \"#ff9999\"], [0.4, \"#ff4d4d\"], [0.6, \"#ff1a1a\"], [0.8, \"#cc0000\"], [1.0, \"#4d0000\"]], \"locationmode\": \"country names\", \"locations\": [\"Denmark\", \"Finland\", \"Norway\", \"Sweden\"], \"marker\": {\"line\": {\"color\": \"rgb(0,0,0)\", \"width\": 0.5}}, \"text\": [\"Denmark\", \"Finland\", \"Norway\", \"Sweden\"], \"type\": \"choropleth\", \"z\": [5402, 2487, 6086, 8419], \"zmax\": 25000, \"zmin\": 0}, {\"colorbar\": {\"title\": {\"text\": \"Number of infected people in a given day\"}}, \"colorscale\": [[0.0, \"#ffffff\"], [0.2, \"#ff9999\"], [0.4, \"#ff4d4d\"], [0.6, \"#ff1a1a\"], [0.8, \"#cc0000\"], [1.0, \"#4d0000\"]], \"locationmode\": \"country names\", \"locations\": [\"Denmark\", \"Finland\", \"Norway\", \"Sweden\"], \"marker\": {\"line\": {\"color\": \"rgb(0,0,0)\", \"width\": 0.5}}, \"text\": [\"Denmark\", \"Finland\", \"Norway\", \"Sweden\"], \"type\": \"choropleth\", \"z\": [5635, 2605, 6211, 9141], \"zmax\": 25000, \"zmin\": 0}, {\"colorbar\": {\"title\": {\"text\": \"Number of infected people in a given day\"}}, \"colorscale\": [[0.0, \"#ffffff\"], [0.2, \"#ff9999\"], [0.4, \"#ff4d4d\"], [0.6, \"#ff1a1a\"], [0.8, \"#cc0000\"], [1.0, \"#4d0000\"]], \"locationmode\": \"country names\", \"locations\": [\"Denmark\", \"Finland\", \"Norway\", \"Sweden\"], \"marker\": {\"line\": {\"color\": \"rgb(0,0,0)\", \"width\": 0.5}}, \"text\": [\"Denmark\", \"Finland\", \"Norway\", \"Sweden\"], \"type\": \"choropleth\", \"z\": [5819, 2769, 6314, 9685], \"zmax\": 25000, \"zmin\": 0}, {\"colorbar\": {\"title\": {\"text\": \"Number of infected people in a given day\"}}, \"colorscale\": [[0.0, \"#ffffff\"], [0.2, \"#ff9999\"], [0.4, \"#ff4d4d\"], [0.6, \"#ff1a1a\"], [0.8, \"#cc0000\"], [1.0, \"#4d0000\"]], \"locationmode\": \"country names\", \"locations\": [\"Denmark\", \"Finland\", \"Norway\", \"Sweden\"], \"marker\": {\"line\": {\"color\": \"rgb(0,0,0)\", \"width\": 0.5}}, \"text\": [\"Denmark\", \"Finland\", \"Norway\", \"Sweden\"], \"type\": \"choropleth\", \"z\": [5996, 2905, 6409, 10151], \"zmax\": 25000, \"zmin\": 0}, {\"colorbar\": {\"title\": {\"text\": \"Number of infected people in a given day\"}}, \"colorscale\": [[0.0, \"#ffffff\"], [0.2, \"#ff9999\"], [0.4, \"#ff4d4d\"], [0.6, \"#ff1a1a\"], [0.8, \"#cc0000\"], [1.0, \"#4d0000\"]], \"locationmode\": \"country names\", \"locations\": [\"Denmark\", \"Finland\", \"Norway\", \"Sweden\"], \"marker\": {\"line\": {\"color\": \"rgb(0,0,0)\", \"width\": 0.5}}, \"text\": [\"Denmark\", \"Finland\", \"Norway\", \"Sweden\"], \"type\": \"choropleth\", \"z\": [6174, 2974, 6525, 10483], \"zmax\": 25000, \"zmin\": 0}, {\"colorbar\": {\"title\": {\"text\": \"Number of infected people in a given day\"}}, \"colorscale\": [[0.0, \"#ffffff\"], [0.2, \"#ff9999\"], [0.4, \"#ff4d4d\"], [0.6, \"#ff1a1a\"], [0.8, \"#cc0000\"], [1.0, \"#4d0000\"]], \"locationmode\": \"country names\", \"locations\": [\"Denmark\", \"Finland\", \"Norway\", \"Sweden\"], \"marker\": {\"line\": {\"color\": \"rgb(0,0,0)\", \"width\": 0.5}}, \"text\": [\"Denmark\", \"Finland\", \"Norway\", \"Sweden\"], \"type\": \"choropleth\", \"z\": [6318, 3064, 6603, 10948], \"zmax\": 25000, \"zmin\": 0}, {\"colorbar\": {\"title\": {\"text\": \"Number of infected people in a given day\"}}, \"colorscale\": [[0.0, \"#ffffff\"], [0.2, \"#ff9999\"], [0.4, \"#ff4d4d\"], [0.6, \"#ff1a1a\"], [0.8, \"#cc0000\"], [1.0, \"#4d0000\"]], \"locationmode\": \"country names\", \"locations\": [\"Denmark\", \"Finland\", \"Norway\", \"Sweden\"], \"marker\": {\"line\": {\"color\": \"rgb(0,0,0)\", \"width\": 0.5}}, \"text\": [\"Denmark\", \"Finland\", \"Norway\", \"Sweden\"], \"type\": \"choropleth\", \"z\": [6511, 3161, 6623, 11445], \"zmax\": 25000, \"zmin\": 0}, {\"colorbar\": {\"title\": {\"text\": \"Number of infected people in a given day\"}}, \"colorscale\": [[0.0, \"#ffffff\"], [0.2, \"#ff9999\"], [0.4, \"#ff4d4d\"], [0.6, \"#ff1a1a\"], [0.8, \"#cc0000\"], [1.0, \"#4d0000\"]], \"locationmode\": \"country names\", \"locations\": [\"Denmark\", \"Finland\", \"Norway\", \"Sweden\"], \"marker\": {\"line\": {\"color\": \"rgb(0,0,0)\", \"width\": 0.5}}, \"text\": [\"Denmark\", \"Finland\", \"Norway\", \"Sweden\"], \"type\": \"choropleth\", \"z\": [6681, 3237, 6740, 11927], \"zmax\": 25000, \"zmin\": 0}, {\"colorbar\": {\"title\": {\"text\": \"Number of infected people in a given day\"}}, \"colorscale\": [[0.0, \"#ffffff\"], [0.2, \"#ff9999\"], [0.4, \"#ff4d4d\"], [0.6, \"#ff1a1a\"], [0.8, \"#cc0000\"], [1.0, \"#4d0000\"]], \"locationmode\": \"country names\", \"locations\": [\"Denmark\", \"Finland\", \"Norway\", \"Sweden\"], \"marker\": {\"line\": {\"color\": \"rgb(0,0,0)\", \"width\": 0.5}}, \"text\": [\"Denmark\", \"Finland\", \"Norway\", \"Sweden\"], \"type\": \"choropleth\", \"z\": [6879, 3369, 6896, 12540], \"zmax\": 25000, \"zmin\": 0}, {\"colorbar\": {\"title\": {\"text\": \"Number of infected people in a given day\"}}, \"colorscale\": [[0.0, \"#ffffff\"], [0.2, \"#ff9999\"], [0.4, \"#ff4d4d\"], [0.6, \"#ff1a1a\"], [0.8, \"#cc0000\"], [1.0, \"#4d0000\"]], \"locationmode\": \"country names\", \"locations\": [\"Denmark\", \"Finland\", \"Norway\", \"Sweden\"], \"marker\": {\"line\": {\"color\": \"rgb(0,0,0)\", \"width\": 0.5}}, \"text\": [\"Denmark\", \"Finland\", \"Norway\", \"Sweden\"], \"type\": \"choropleth\", \"z\": [7073, 3489, 6937, 13216], \"zmax\": 25000, \"zmin\": 0}, {\"colorbar\": {\"title\": {\"text\": \"Number of infected people in a given day\"}}, \"colorscale\": [[0.0, \"#ffffff\"], [0.2, \"#ff9999\"], [0.4, \"#ff4d4d\"], [0.6, \"#ff1a1a\"], [0.8, \"#cc0000\"], [1.0, \"#4d0000\"]], \"locationmode\": \"country names\", \"locations\": [\"Denmark\", \"Finland\", \"Norway\", \"Sweden\"], \"marker\": {\"line\": {\"color\": \"rgb(0,0,0)\", \"width\": 0.5}}, \"text\": [\"Denmark\", \"Finland\", \"Norway\", \"Sweden\"], \"type\": \"choropleth\", \"z\": [7242, 3681, 7036, 13822], \"zmax\": 25000, \"zmin\": 0}, {\"colorbar\": {\"title\": {\"text\": \"Number of infected people in a given day\"}}, \"colorscale\": [[0.0, \"#ffffff\"], [0.2, \"#ff9999\"], [0.4, \"#ff4d4d\"], [0.6, \"#ff1a1a\"], [0.8, \"#cc0000\"], [1.0, \"#4d0000\"]], \"locationmode\": \"country names\", \"locations\": [\"Denmark\", \"Finland\", \"Norway\", \"Sweden\"], \"marker\": {\"line\": {\"color\": \"rgb(0,0,0)\", \"width\": 0.5}}, \"text\": [\"Denmark\", \"Finland\", \"Norway\", \"Sweden\"], \"type\": \"choropleth\", \"z\": [7384, 3783, 7078, 14385], \"zmax\": 25000, \"zmin\": 0}, {\"colorbar\": {\"title\": {\"text\": \"Number of infected people in a given day\"}}, \"colorscale\": [[0.0, \"#ffffff\"], [0.2, \"#ff9999\"], [0.4, \"#ff4d4d\"], [0.6, \"#ff1a1a\"], [0.8, \"#cc0000\"], [1.0, \"#4d0000\"]], \"locationmode\": \"country names\", \"locations\": [\"Denmark\", \"Finland\", \"Norway\", \"Sweden\"], \"marker\": {\"line\": {\"color\": \"rgb(0,0,0)\", \"width\": 0.5}}, \"text\": [\"Denmark\", \"Finland\", \"Norway\", \"Sweden\"], \"type\": \"choropleth\", \"z\": [7515, 3868, 7156, 14777], \"zmax\": 25000, \"zmin\": 0}, {\"colorbar\": {\"title\": {\"text\": \"Number of infected people in a given day\"}}, \"colorscale\": [[0.0, \"#ffffff\"], [0.2, \"#ff9999\"], [0.4, \"#ff4d4d\"], [0.6, \"#ff1a1a\"], [0.8, \"#cc0000\"], [1.0, \"#4d0000\"]], \"locationmode\": \"country names\", \"locations\": [\"Denmark\", \"Finland\", \"Norway\", \"Sweden\"], \"marker\": {\"line\": {\"color\": \"rgb(0,0,0)\", \"width\": 0.5}}, \"text\": [\"Denmark\", \"Finland\", \"Norway\", \"Sweden\"], \"type\": \"choropleth\", \"z\": [7695, 4014, 7191, 15322], \"zmax\": 25000, \"zmin\": 0}, {\"colorbar\": {\"title\": {\"text\": \"Number of infected people in a given day\"}}, \"colorscale\": [[0.0, \"#ffffff\"], [0.2, \"#ff9999\"], [0.4, \"#ff4d4d\"], [0.6, \"#ff1a1a\"], [0.8, \"#cc0000\"], [1.0, \"#4d0000\"]], \"locationmode\": \"country names\", \"locations\": [\"Denmark\", \"Finland\", \"Norway\", \"Sweden\"], \"marker\": {\"line\": {\"color\": \"rgb(0,0,0)\", \"width\": 0.5}}, \"text\": [\"Denmark\", \"Finland\", \"Norway\", \"Sweden\"], \"type\": \"choropleth\", \"z\": [7912, 4129, 7338, 16004], \"zmax\": 25000, \"zmin\": 0}, {\"colorbar\": {\"title\": {\"text\": \"Number of infected people in a given day\"}}, \"colorscale\": [[0.0, \"#ffffff\"], [0.2, \"#ff9999\"], [0.4, \"#ff4d4d\"], [0.6, \"#ff1a1a\"], [0.8, \"#cc0000\"], [1.0, \"#4d0000\"]], \"locationmode\": \"country names\", \"locations\": [\"Denmark\", \"Finland\", \"Norway\", \"Sweden\"], \"marker\": {\"line\": {\"color\": \"rgb(0,0,0)\", \"width\": 0.5}}, \"text\": [\"Denmark\", \"Finland\", \"Norway\", \"Sweden\"], \"type\": \"choropleth\", \"z\": [8073, 4284, 7401, 16755], \"zmax\": 25000, \"zmin\": 0}, {\"colorbar\": {\"title\": {\"text\": \"Number of infected people in a given day\"}}, \"colorscale\": [[0.0, \"#ffffff\"], [0.2, \"#ff9999\"], [0.4, \"#ff4d4d\"], [0.6, \"#ff1a1a\"], [0.8, \"#cc0000\"], [1.0, \"#4d0000\"]], \"locationmode\": \"country names\", \"locations\": [\"Denmark\", \"Finland\", \"Norway\", \"Sweden\"], \"marker\": {\"line\": {\"color\": \"rgb(0,0,0)\", \"width\": 0.5}}, \"text\": [\"Denmark\", \"Finland\", \"Norway\", \"Sweden\"], \"type\": \"choropleth\", \"z\": [8210, 4395, 7463, 17567], \"zmax\": 25000, \"zmin\": 0}, {\"colorbar\": {\"title\": {\"text\": \"Number of infected people in a given day\"}}, \"colorscale\": [[0.0, \"#ffffff\"], [0.2, \"#ff9999\"], [0.4, \"#ff4d4d\"], [0.6, \"#ff1a1a\"], [0.8, \"#cc0000\"], [1.0, \"#4d0000\"]], \"locationmode\": \"country names\", \"locations\": [\"Denmark\", \"Finland\", \"Norway\", \"Sweden\"], \"marker\": {\"line\": {\"color\": \"rgb(0,0,0)\", \"width\": 0.5}}, \"text\": [\"Denmark\", \"Finland\", \"Norway\", \"Sweden\"], \"type\": \"choropleth\", \"z\": [8445, 4475, 7499, 18177], \"zmax\": 25000, \"zmin\": 0}, {\"colorbar\": {\"title\": {\"text\": \"Number of infected people in a given day\"}}, \"colorscale\": [[0.0, \"#ffffff\"], [0.2, \"#ff9999\"], [0.4, \"#ff4d4d\"], [0.6, \"#ff1a1a\"], [0.8, \"#cc0000\"], [1.0, \"#4d0000\"]], \"locationmode\": \"country names\", \"locations\": [\"Denmark\", \"Finland\", \"Norway\", \"Sweden\"], \"marker\": {\"line\": {\"color\": \"rgb(0,0,0)\", \"width\": 0.5}}, \"text\": [\"Denmark\", \"Finland\", \"Norway\", \"Sweden\"], \"type\": \"choropleth\", \"z\": [8575, 4576, 7527, 18640], \"zmax\": 25000, \"zmin\": 0}, {\"colorbar\": {\"title\": {\"text\": \"Number of infected people in a given day\"}}, \"colorscale\": [[0.0, \"#ffffff\"], [0.2, \"#ff9999\"], [0.4, \"#ff4d4d\"], [0.6, \"#ff1a1a\"], [0.8, \"#cc0000\"], [1.0, \"#4d0000\"]], \"locationmode\": \"country names\", \"locations\": [\"Denmark\", \"Finland\", \"Norway\", \"Sweden\"], \"marker\": {\"line\": {\"color\": \"rgb(0,0,0)\", \"width\": 0.5}}, \"text\": [\"Denmark\", \"Finland\", \"Norway\", \"Sweden\"], \"type\": \"choropleth\", \"z\": [8698, 4695, 7599, 18926], \"zmax\": 25000, \"zmin\": 0}, {\"colorbar\": {\"title\": {\"text\": \"Number of infected people in a given day\"}}, \"colorscale\": [[0.0, \"#ffffff\"], [0.2, \"#ff9999\"], [0.4, \"#ff4d4d\"], [0.6, \"#ff1a1a\"], [0.8, \"#cc0000\"], [1.0, \"#4d0000\"]], \"locationmode\": \"country names\", \"locations\": [\"Denmark\", \"Finland\", \"Norway\", \"Sweden\"], \"marker\": {\"line\": {\"color\": \"rgb(0,0,0)\", \"width\": 0.5}}, \"text\": [\"Denmark\", \"Finland\", \"Norway\", \"Sweden\"], \"type\": \"choropleth\", \"z\": [8851, 4740, 7660, 19621], \"zmax\": 25000, \"zmin\": 0}, {\"colorbar\": {\"title\": {\"text\": \"Number of infected people in a given day\"}}, \"colorscale\": [[0.0, \"#ffffff\"], [0.2, \"#ff9999\"], [0.4, \"#ff4d4d\"], [0.6, \"#ff1a1a\"], [0.8, \"#cc0000\"], [1.0, \"#4d0000\"]], \"locationmode\": \"country names\", \"locations\": [\"Denmark\", \"Finland\", \"Norway\", \"Sweden\"], \"marker\": {\"line\": {\"color\": \"rgb(0,0,0)\", \"width\": 0.5}}, \"text\": [\"Denmark\", \"Finland\", \"Norway\", \"Sweden\"], \"type\": \"choropleth\", \"z\": [9008, 4906, 7710, 20302], \"zmax\": 25000, \"zmin\": 0}, {\"colorbar\": {\"title\": {\"text\": \"Number of infected people in a given day\"}}, \"colorscale\": [[0.0, \"#ffffff\"], [0.2, \"#ff9999\"], [0.4, \"#ff4d4d\"], [0.6, \"#ff1a1a\"], [0.8, \"#cc0000\"], [1.0, \"#4d0000\"]], \"locationmode\": \"country names\", \"locations\": [\"Denmark\", \"Finland\", \"Norway\", \"Sweden\"], \"marker\": {\"line\": {\"color\": \"rgb(0,0,0)\", \"width\": 0.5}}, \"text\": [\"Denmark\", \"Finland\", \"Norway\", \"Sweden\"], \"type\": \"choropleth\", \"z\": [9158, 4995, 7738, 21092], \"zmax\": 25000, \"zmin\": 0}, {\"colorbar\": {\"title\": {\"text\": \"Number of infected people in a given day\"}}, \"colorscale\": [[0.0, \"#ffffff\"], [0.2, \"#ff9999\"], [0.4, \"#ff4d4d\"], [0.6, \"#ff1a1a\"], [0.8, \"#cc0000\"], [1.0, \"#4d0000\"]], \"locationmode\": \"country names\", \"locations\": [\"Denmark\", \"Finland\", \"Norway\", \"Sweden\"], \"marker\": {\"line\": {\"color\": \"rgb(0,0,0)\", \"width\": 0.5}}, \"text\": [\"Denmark\", \"Finland\", \"Norway\", \"Sweden\"], \"type\": \"choropleth\", \"z\": [9311, 5051, 7783, 21520], \"zmax\": 25000, \"zmin\": 0}, {\"colorbar\": {\"title\": {\"text\": \"Number of infected people in a given day\"}}, \"colorscale\": [[0.0, \"#ffffff\"], [0.2, \"#ff9999\"], [0.4, \"#ff4d4d\"], [0.6, \"#ff1a1a\"], [0.8, \"#cc0000\"], [1.0, \"#4d0000\"]], \"locationmode\": \"country names\", \"locations\": [\"Denmark\", \"Finland\", \"Norway\", \"Sweden\"], \"marker\": {\"line\": {\"color\": \"rgb(0,0,0)\", \"width\": 0.5}}, \"text\": [\"Denmark\", \"Finland\", \"Norway\", \"Sweden\"], \"type\": \"choropleth\", \"z\": [9407, 5176, 7809, 22082], \"zmax\": 25000, \"zmin\": 0}, {\"colorbar\": {\"title\": {\"text\": \"Number of infected people in a given day\"}}, \"colorscale\": [[0.0, \"#ffffff\"], [0.2, \"#ff9999\"], [0.4, \"#ff4d4d\"], [0.6, \"#ff1a1a\"], [0.8, \"#cc0000\"], [1.0, \"#4d0000\"]], \"locationmode\": \"country names\", \"locations\": [\"Denmark\", \"Finland\", \"Norway\", \"Sweden\"], \"marker\": {\"line\": {\"color\": \"rgb(0,0,0)\", \"width\": 0.5}}, \"text\": [\"Denmark\", \"Finland\", \"Norway\", \"Sweden\"], \"type\": \"choropleth\", \"z\": [9523, 5254, 7847, 22317], \"zmax\": 25000, \"zmin\": 0}],\n",
       "                        {\"geo\": {\"lakecolor\": \"rgb(73, 216, 230)\", \"lataxis\": {\"range\": [55.0, 85.0]}, \"lonaxis\": {\"range\": [-1, 40.0]}, \"scope\": \"europe\", \"showlakes\": true, \"showland\": false}, \"height\": 500, \"hovermode\": \"closest\", \"margin\": {\"b\": 100, \"l\": 50, \"r\": 0, \"t\": 0}, \"sliders\": [{\"active\": 0, \"pad\": {\"t\": 1}, \"steps\": [{\"args\": [\"visible\", [true, false, false, false, false, false, false, false, false, false, false, false, false, false, false, false, false, false, false, false, false, false, false, false, false, false, false, false, false, false, false, false, false, false, false, false, false, false, false, false, false, false, false, false, false, false, false, false, false, false, false, false, false, false, false, false, false, false, false, false, false, false, false, false]], \"label\": \"Date: 2020-03-01\", \"method\": \"restyle\"}, {\"args\": [\"visible\", [false, true, false, false, false, false, false, false, false, false, false, false, false, false, false, false, false, false, false, false, false, false, false, false, false, false, false, false, false, false, false, false, false, false, false, false, false, false, false, false, false, false, false, false, false, false, false, false, false, false, false, false, false, false, false, false, false, false, false, false, false, false, false, false]], \"label\": \"Date: 2020-03-02\", \"method\": \"restyle\"}, {\"args\": [\"visible\", [false, false, true, false, false, false, false, false, false, false, false, false, false, false, false, false, false, false, false, false, false, false, false, false, false, false, false, false, false, false, false, false, false, false, false, false, false, false, false, false, false, false, false, false, false, false, false, false, false, false, false, false, false, false, false, false, false, false, false, false, false, false, false, false]], \"label\": \"Date: 2020-03-03\", \"method\": \"restyle\"}, {\"args\": [\"visible\", [false, false, false, true, false, false, false, false, false, false, false, false, false, false, false, false, false, false, false, false, false, false, false, false, false, false, false, false, false, false, false, false, false, false, false, false, false, false, false, false, false, false, false, false, false, false, false, false, false, false, false, false, false, false, false, false, false, false, false, false, false, false, false, false]], \"label\": \"Date: 2020-03-04\", \"method\": \"restyle\"}, {\"args\": [\"visible\", [false, false, false, false, true, false, false, false, false, false, false, false, false, false, false, false, false, false, false, false, false, false, false, false, false, false, false, false, false, false, false, false, false, false, false, false, false, false, false, false, false, false, false, false, false, false, false, false, false, false, false, false, false, false, false, false, false, false, false, false, false, false, false, false]], \"label\": \"Date: 2020-03-05\", \"method\": \"restyle\"}, {\"args\": [\"visible\", [false, false, false, false, false, true, false, false, false, false, false, false, false, false, false, false, false, false, false, false, false, false, false, false, false, false, false, false, false, false, false, false, false, false, false, false, false, false, false, false, false, false, false, false, false, false, false, false, false, false, false, false, false, false, false, false, false, false, false, false, false, false, false, false]], \"label\": \"Date: 2020-03-06\", \"method\": \"restyle\"}, {\"args\": [\"visible\", [false, false, false, false, false, false, true, false, false, false, false, false, false, false, false, false, false, false, false, false, false, false, false, false, false, false, false, false, false, false, false, false, false, false, false, false, false, false, false, false, false, false, false, false, false, false, false, false, false, false, false, false, false, false, false, false, false, false, false, false, false, false, false, false]], \"label\": \"Date: 2020-03-07\", \"method\": \"restyle\"}, {\"args\": [\"visible\", [false, false, false, false, false, false, false, true, false, false, false, false, false, false, false, false, false, false, false, false, false, false, false, false, false, false, false, false, false, false, false, false, false, false, false, false, false, false, false, false, false, false, false, false, false, false, false, false, false, false, false, false, false, false, false, false, false, false, false, false, false, false, false, false]], \"label\": \"Date: 2020-03-08\", \"method\": \"restyle\"}, {\"args\": [\"visible\", [false, false, false, false, false, false, false, false, true, false, false, false, false, false, false, false, false, false, false, false, false, false, false, false, false, false, false, false, false, false, false, false, false, false, false, false, false, false, false, false, false, false, false, false, false, false, false, false, false, false, false, false, false, false, false, false, false, false, false, false, false, false, false, false]], \"label\": \"Date: 2020-03-09\", \"method\": \"restyle\"}, {\"args\": [\"visible\", [false, false, false, false, false, false, false, false, false, true, false, false, false, false, false, false, false, false, false, false, false, false, false, false, false, false, false, false, false, false, false, false, false, false, false, false, false, false, false, false, false, false, false, false, false, false, false, false, false, false, false, false, false, false, false, false, false, false, false, false, false, false, false, false]], \"label\": \"Date: 2020-03-10\", \"method\": \"restyle\"}, {\"args\": [\"visible\", [false, false, false, false, false, false, false, false, false, false, true, false, false, false, false, false, false, false, false, false, false, false, false, false, false, false, false, false, false, false, false, false, false, false, false, false, false, false, false, false, false, false, false, false, false, false, false, false, false, false, false, false, false, false, false, false, false, false, false, false, false, false, false, false]], \"label\": \"Date: 2020-03-11\", \"method\": \"restyle\"}, {\"args\": [\"visible\", [false, false, false, false, false, false, false, false, false, false, false, true, false, false, false, false, false, false, false, false, false, false, false, false, false, false, false, false, false, false, false, false, false, false, false, false, false, false, false, false, false, false, false, false, false, false, false, false, false, false, false, false, false, false, false, false, false, false, false, false, false, false, false, false]], \"label\": \"Date: 2020-03-12\", \"method\": \"restyle\"}, {\"args\": [\"visible\", [false, false, false, false, false, false, false, false, false, false, false, false, true, false, false, false, false, false, false, false, false, false, false, false, false, false, false, false, false, false, false, false, false, false, false, false, false, false, false, false, false, false, false, false, false, false, false, false, false, false, false, false, false, false, false, false, false, false, false, false, false, false, false, false]], \"label\": \"Date: 2020-03-13\", \"method\": \"restyle\"}, {\"args\": [\"visible\", [false, false, false, false, false, false, false, false, false, false, false, false, false, true, false, false, false, false, false, false, false, false, false, false, false, false, false, false, false, false, false, false, false, false, false, false, false, false, false, false, false, false, false, false, false, false, false, false, false, false, false, false, false, false, false, false, false, false, false, false, false, false, false, false]], \"label\": \"Date: 2020-03-14\", \"method\": \"restyle\"}, {\"args\": [\"visible\", [false, false, false, false, false, false, false, false, false, false, false, false, false, false, true, false, false, false, false, false, false, false, false, false, false, false, false, false, false, false, false, false, false, false, false, false, false, false, false, false, false, false, false, false, false, false, false, false, false, false, false, false, false, false, false, false, false, false, false, false, false, false, false, false]], \"label\": \"Date: 2020-03-15\", \"method\": \"restyle\"}, {\"args\": [\"visible\", [false, false, false, false, false, false, false, false, false, false, false, false, false, false, false, true, false, false, false, false, false, false, false, false, false, false, false, false, false, false, false, false, false, false, false, false, false, false, false, false, false, false, false, false, false, false, false, false, false, false, false, false, false, false, false, false, false, false, false, false, false, false, false, false]], \"label\": \"Date: 2020-03-16\", \"method\": \"restyle\"}, {\"args\": [\"visible\", [false, false, false, false, false, false, false, false, false, false, false, false, false, false, false, false, true, false, false, false, false, false, false, false, false, false, false, false, false, false, false, false, false, false, false, false, false, false, false, false, false, false, false, false, false, false, false, false, false, false, false, false, false, false, false, false, false, false, false, false, false, false, false, false]], \"label\": \"Date: 2020-03-17\", \"method\": \"restyle\"}, {\"args\": [\"visible\", [false, false, false, false, false, false, false, false, false, false, false, false, false, false, false, false, false, true, false, false, false, false, false, false, false, false, false, false, false, false, false, false, false, false, false, false, false, false, false, false, false, false, false, false, false, false, false, false, false, false, false, false, false, false, false, false, false, false, false, false, false, false, false, false]], \"label\": \"Date: 2020-03-18\", \"method\": \"restyle\"}, {\"args\": [\"visible\", [false, false, false, false, false, false, false, false, false, false, false, false, false, false, false, false, false, false, true, false, false, false, false, false, false, false, false, false, false, false, false, false, false, false, false, false, false, false, false, false, false, false, false, false, false, false, false, false, false, false, false, false, false, false, false, false, false, false, false, false, false, false, false, false]], \"label\": \"Date: 2020-03-19\", \"method\": \"restyle\"}, {\"args\": [\"visible\", [false, false, false, false, false, false, false, false, false, false, false, false, false, false, false, false, false, false, false, true, false, false, false, false, false, false, false, false, false, false, false, false, false, false, false, false, false, false, false, false, false, false, false, false, false, false, false, false, false, false, false, false, false, false, false, false, false, false, false, false, false, false, false, false]], \"label\": \"Date: 2020-03-20\", \"method\": \"restyle\"}, {\"args\": [\"visible\", [false, false, false, false, false, false, false, false, false, false, false, false, false, false, false, false, false, false, false, false, true, false, false, false, false, false, false, false, false, false, false, false, false, false, false, false, false, false, false, false, false, false, false, false, false, false, false, false, false, false, false, false, false, false, false, false, false, false, false, false, false, false, false, false]], \"label\": \"Date: 2020-03-21\", \"method\": \"restyle\"}, {\"args\": [\"visible\", [false, false, false, false, false, false, false, false, false, false, false, false, false, false, false, false, false, false, false, false, false, true, false, false, false, false, false, false, false, false, false, false, false, false, false, false, false, false, false, false, false, false, false, false, false, false, false, false, false, false, false, false, false, false, false, false, false, false, false, false, false, false, false, false]], \"label\": \"Date: 2020-03-22\", \"method\": \"restyle\"}, {\"args\": [\"visible\", [false, false, false, false, false, false, false, false, false, false, false, false, false, false, false, false, false, false, false, false, false, false, true, false, false, false, false, false, false, false, false, false, false, false, false, false, false, false, false, false, false, false, false, false, false, false, false, false, false, false, false, false, false, false, false, false, false, false, false, false, false, false, false, false]], \"label\": \"Date: 2020-03-23\", \"method\": \"restyle\"}, {\"args\": [\"visible\", [false, false, false, false, false, false, false, false, false, false, false, false, false, false, false, false, false, false, false, false, false, false, false, true, false, false, false, false, false, false, false, false, false, false, false, false, false, false, false, false, false, false, false, false, false, false, false, false, false, false, false, false, false, false, false, false, false, false, false, false, false, false, false, false]], \"label\": \"Date: 2020-03-24\", \"method\": \"restyle\"}, {\"args\": [\"visible\", [false, false, false, false, false, false, false, false, false, false, false, false, false, false, false, false, false, false, false, false, false, false, false, false, true, false, false, false, false, false, false, false, false, false, false, false, false, false, false, false, false, false, false, false, false, false, false, false, false, false, false, false, false, false, false, false, false, false, false, false, false, false, false, false]], \"label\": \"Date: 2020-03-25\", \"method\": \"restyle\"}, {\"args\": [\"visible\", [false, false, false, false, false, false, false, false, false, false, false, false, false, false, false, false, false, false, false, false, false, false, false, false, false, true, false, false, false, false, false, false, false, false, false, false, false, false, false, false, false, false, false, false, false, false, false, false, false, false, false, false, false, false, false, false, false, false, false, false, false, false, false, false]], \"label\": \"Date: 2020-03-26\", \"method\": \"restyle\"}, {\"args\": [\"visible\", [false, false, false, false, false, false, false, false, false, false, false, false, false, false, false, false, false, false, false, false, false, false, false, false, false, false, true, false, false, false, false, false, false, false, false, false, false, false, false, false, false, false, false, false, false, false, false, false, false, false, false, false, false, false, false, false, false, false, false, false, false, false, false, false]], \"label\": \"Date: 2020-03-27\", \"method\": \"restyle\"}, {\"args\": [\"visible\", [false, false, false, false, false, false, false, false, false, false, false, false, false, false, false, false, false, false, false, false, false, false, false, false, false, false, false, true, false, false, false, false, false, false, false, false, false, false, false, false, false, false, false, false, false, false, false, false, false, false, false, false, false, false, false, false, false, false, false, false, false, false, false, false]], \"label\": \"Date: 2020-03-28\", \"method\": \"restyle\"}, {\"args\": [\"visible\", [false, false, false, false, false, false, false, false, false, false, false, false, false, false, false, false, false, false, false, false, false, false, false, false, false, false, false, false, true, false, false, false, false, false, false, false, false, false, false, false, false, false, false, false, false, false, false, false, false, false, false, false, false, false, false, false, false, false, false, false, false, false, false, false]], \"label\": \"Date: 2020-03-29\", \"method\": \"restyle\"}, {\"args\": [\"visible\", [false, false, false, false, false, false, false, false, false, false, false, false, false, false, false, false, false, false, false, false, false, false, false, false, false, false, false, false, false, true, false, false, false, false, false, false, false, false, false, false, false, false, false, false, false, false, false, false, false, false, false, false, false, false, false, false, false, false, false, false, false, false, false, false]], \"label\": \"Date: 2020-03-30\", \"method\": \"restyle\"}, {\"args\": [\"visible\", [false, false, false, false, false, false, false, false, false, false, false, false, false, false, false, false, false, false, false, false, false, false, false, false, false, false, false, false, false, false, true, false, false, false, false, false, false, false, false, false, false, false, false, false, false, false, false, false, false, false, false, false, false, false, false, false, false, false, false, false, false, false, false, false]], \"label\": \"Date: 2020-03-31\", \"method\": \"restyle\"}, {\"args\": [\"visible\", [false, false, false, false, false, false, false, false, false, false, false, false, false, false, false, false, false, false, false, false, false, false, false, false, false, false, false, false, false, false, false, true, false, false, false, false, false, false, false, false, false, false, false, false, false, false, false, false, false, false, false, false, false, false, false, false, false, false, false, false, false, false, false, false]], \"label\": \"Date: 2020-04-01\", \"method\": \"restyle\"}, {\"args\": [\"visible\", [false, false, false, false, false, false, false, false, false, false, false, false, false, false, false, false, false, false, false, false, false, false, false, false, false, false, false, false, false, false, false, false, true, false, false, false, false, false, false, false, false, false, false, false, false, false, false, false, false, false, false, false, false, false, false, false, false, false, false, false, false, false, false, false]], \"label\": \"Date: 2020-04-02\", \"method\": \"restyle\"}, {\"args\": [\"visible\", [false, false, false, false, false, false, false, false, false, false, false, false, false, false, false, false, false, false, false, false, false, false, false, false, false, false, false, false, false, false, false, false, false, true, false, false, false, false, false, false, false, false, false, false, false, false, false, false, false, false, false, false, false, false, false, false, false, false, false, false, false, false, false, false]], \"label\": \"Date: 2020-04-03\", \"method\": \"restyle\"}, {\"args\": [\"visible\", [false, false, false, false, false, false, false, false, false, false, false, false, false, false, false, false, false, false, false, false, false, false, false, false, false, false, false, false, false, false, false, false, false, false, true, false, false, false, false, false, false, false, false, false, false, false, false, false, false, false, false, false, false, false, false, false, false, false, false, false, false, false, false, false]], \"label\": \"Date: 2020-04-04\", \"method\": \"restyle\"}, {\"args\": [\"visible\", [false, false, false, false, false, false, false, false, false, false, false, false, false, false, false, false, false, false, false, false, false, false, false, false, false, false, false, false, false, false, false, false, false, false, false, true, false, false, false, false, false, false, false, false, false, false, false, false, false, false, false, false, false, false, false, false, false, false, false, false, false, false, false, false]], \"label\": \"Date: 2020-04-05\", \"method\": \"restyle\"}, {\"args\": [\"visible\", [false, false, false, false, false, false, false, false, false, false, false, false, false, false, false, false, false, false, false, false, false, false, false, false, false, false, false, false, false, false, false, false, false, false, false, false, true, false, false, false, false, false, false, false, false, false, false, false, false, false, false, false, false, false, false, false, false, false, false, false, false, false, false, false]], \"label\": \"Date: 2020-04-06\", \"method\": \"restyle\"}, {\"args\": [\"visible\", [false, false, false, false, false, false, false, false, false, false, false, false, false, false, false, false, false, false, false, false, false, false, false, false, false, false, false, false, false, false, false, false, false, false, false, false, false, true, false, false, false, false, false, false, false, false, false, false, false, false, false, false, false, false, false, false, false, false, false, false, false, false, false, false]], \"label\": \"Date: 2020-04-07\", \"method\": \"restyle\"}, {\"args\": [\"visible\", [false, false, false, false, false, false, false, false, false, false, false, false, false, false, false, false, false, false, false, false, false, false, false, false, false, false, false, false, false, false, false, false, false, false, false, false, false, false, true, false, false, false, false, false, false, false, false, false, false, false, false, false, false, false, false, false, false, false, false, false, false, false, false, false]], \"label\": \"Date: 2020-04-08\", \"method\": \"restyle\"}, {\"args\": [\"visible\", [false, false, false, false, false, false, false, false, false, false, false, false, false, false, false, false, false, false, false, false, false, false, false, false, false, false, false, false, false, false, false, false, false, false, false, false, false, false, false, true, false, false, false, false, false, false, false, false, false, false, false, false, false, false, false, false, false, false, false, false, false, false, false, false]], \"label\": \"Date: 2020-04-09\", \"method\": \"restyle\"}, {\"args\": [\"visible\", [false, false, false, false, false, false, false, false, false, false, false, false, false, false, false, false, false, false, false, false, false, false, false, false, false, false, false, false, false, false, false, false, false, false, false, false, false, false, false, false, true, false, false, false, false, false, false, false, false, false, false, false, false, false, false, false, false, false, false, false, false, false, false, false]], \"label\": \"Date: 2020-04-10\", \"method\": \"restyle\"}, {\"args\": [\"visible\", [false, false, false, false, false, false, false, false, false, false, false, false, false, false, false, false, false, false, false, false, false, false, false, false, false, false, false, false, false, false, false, false, false, false, false, false, false, false, false, false, false, true, false, false, false, false, false, false, false, false, false, false, false, false, false, false, false, false, false, false, false, false, false, false]], \"label\": \"Date: 2020-04-11\", \"method\": \"restyle\"}, {\"args\": [\"visible\", [false, false, false, false, false, false, false, false, false, false, false, false, false, false, false, false, false, false, false, false, false, false, false, false, false, false, false, false, false, false, false, false, false, false, false, false, false, false, false, false, false, false, true, false, false, false, false, false, false, false, false, false, false, false, false, false, false, false, false, false, false, false, false, false]], \"label\": \"Date: 2020-04-12\", \"method\": \"restyle\"}, {\"args\": [\"visible\", [false, false, false, false, false, false, false, false, false, false, false, false, false, false, false, false, false, false, false, false, false, false, false, false, false, false, false, false, false, false, false, false, false, false, false, false, false, false, false, false, false, false, false, true, false, false, false, false, false, false, false, false, false, false, false, false, false, false, false, false, false, false, false, false]], \"label\": \"Date: 2020-04-13\", \"method\": \"restyle\"}, {\"args\": [\"visible\", [false, false, false, false, false, false, false, false, false, false, false, false, false, false, false, false, false, false, false, false, false, false, false, false, false, false, false, false, false, false, false, false, false, false, false, false, false, false, false, false, false, false, false, false, true, false, false, false, false, false, false, false, false, false, false, false, false, false, false, false, false, false, false, false]], \"label\": \"Date: 2020-04-14\", \"method\": \"restyle\"}, {\"args\": [\"visible\", [false, false, false, false, false, false, false, false, false, false, false, false, false, false, false, false, false, false, false, false, false, false, false, false, false, false, false, false, false, false, false, false, false, false, false, false, false, false, false, false, false, false, false, false, false, true, false, false, false, false, false, false, false, false, false, false, false, false, false, false, false, false, false, false]], \"label\": \"Date: 2020-04-15\", \"method\": \"restyle\"}, {\"args\": [\"visible\", [false, false, false, false, false, false, false, false, false, false, false, false, false, false, false, false, false, false, false, false, false, false, false, false, false, false, false, false, false, false, false, false, false, false, false, false, false, false, false, false, false, false, false, false, false, false, true, false, false, false, false, false, false, false, false, false, false, false, false, false, false, false, false, false]], \"label\": \"Date: 2020-04-16\", \"method\": \"restyle\"}, {\"args\": [\"visible\", [false, false, false, false, false, false, false, false, false, false, false, false, false, false, false, false, false, false, false, false, false, false, false, false, false, false, false, false, false, false, false, false, false, false, false, false, false, false, false, false, false, false, false, false, false, false, false, true, false, false, false, false, false, false, false, false, false, false, false, false, false, false, false, false]], \"label\": \"Date: 2020-04-17\", \"method\": \"restyle\"}, {\"args\": [\"visible\", [false, false, false, false, false, false, false, false, false, false, false, false, false, false, false, false, false, false, false, false, false, false, false, false, false, false, false, false, false, false, false, false, false, false, false, false, false, false, false, false, false, false, false, false, false, false, false, false, true, false, false, false, false, false, false, false, false, false, false, false, false, false, false, false]], \"label\": \"Date: 2020-04-18\", \"method\": \"restyle\"}, {\"args\": [\"visible\", [false, false, false, false, false, false, false, false, false, false, false, false, false, false, false, false, false, false, false, false, false, false, false, false, false, false, false, false, false, false, false, false, false, false, false, false, false, false, false, false, false, false, false, false, false, false, false, false, false, true, false, false, false, false, false, false, false, false, false, false, false, false, false, false]], \"label\": \"Date: 2020-04-19\", \"method\": \"restyle\"}, {\"args\": [\"visible\", [false, false, false, false, false, false, false, false, false, false, false, false, false, false, false, false, false, false, false, false, false, false, false, false, false, false, false, false, false, false, false, false, false, false, false, false, false, false, false, false, false, false, false, false, false, false, false, false, false, false, true, false, false, false, false, false, false, false, false, false, false, false, false, false]], \"label\": \"Date: 2020-04-20\", \"method\": \"restyle\"}, {\"args\": [\"visible\", [false, false, false, false, false, false, false, false, false, false, false, false, false, false, false, false, false, false, false, false, false, false, false, false, false, false, false, false, false, false, false, false, false, false, false, false, false, false, false, false, false, false, false, false, false, false, false, false, false, false, false, true, false, false, false, false, false, false, false, false, false, false, false, false]], \"label\": \"Date: 2020-04-21\", \"method\": \"restyle\"}, {\"args\": [\"visible\", [false, false, false, false, false, false, false, false, false, false, false, false, false, false, false, false, false, false, false, false, false, false, false, false, false, false, false, false, false, false, false, false, false, false, false, false, false, false, false, false, false, false, false, false, false, false, false, false, false, false, false, false, true, false, false, false, false, false, false, false, false, false, false, false]], \"label\": \"Date: 2020-04-22\", \"method\": \"restyle\"}, {\"args\": [\"visible\", [false, false, false, false, false, false, false, false, false, false, false, false, false, false, false, false, false, false, false, false, false, false, false, false, false, false, false, false, false, false, false, false, false, false, false, false, false, false, false, false, false, false, false, false, false, false, false, false, false, false, false, false, false, true, false, false, false, false, false, false, false, false, false, false]], \"label\": \"Date: 2020-04-23\", \"method\": \"restyle\"}, {\"args\": [\"visible\", [false, false, false, false, false, false, false, false, false, false, false, false, false, false, false, false, false, false, false, false, false, false, false, false, false, false, false, false, false, false, false, false, false, false, false, false, false, false, false, false, false, false, false, false, false, false, false, false, false, false, false, false, false, false, true, false, false, false, false, false, false, false, false, false]], \"label\": \"Date: 2020-04-24\", \"method\": \"restyle\"}, {\"args\": [\"visible\", [false, false, false, false, false, false, false, false, false, false, false, false, false, false, false, false, false, false, false, false, false, false, false, false, false, false, false, false, false, false, false, false, false, false, false, false, false, false, false, false, false, false, false, false, false, false, false, false, false, false, false, false, false, false, false, true, false, false, false, false, false, false, false, false]], \"label\": \"Date: 2020-04-25\", \"method\": \"restyle\"}, {\"args\": [\"visible\", [false, false, false, false, false, false, false, false, false, false, false, false, false, false, false, false, false, false, false, false, false, false, false, false, false, false, false, false, false, false, false, false, false, false, false, false, false, false, false, false, false, false, false, false, false, false, false, false, false, false, false, false, false, false, false, false, true, false, false, false, false, false, false, false]], \"label\": \"Date: 2020-04-26\", \"method\": \"restyle\"}, {\"args\": [\"visible\", [false, false, false, false, false, false, false, false, false, false, false, false, false, false, false, false, false, false, false, false, false, false, false, false, false, false, false, false, false, false, false, false, false, false, false, false, false, false, false, false, false, false, false, false, false, false, false, false, false, false, false, false, false, false, false, false, false, true, false, false, false, false, false, false]], \"label\": \"Date: 2020-04-27\", \"method\": \"restyle\"}, {\"args\": [\"visible\", [false, false, false, false, false, false, false, false, false, false, false, false, false, false, false, false, false, false, false, false, false, false, false, false, false, false, false, false, false, false, false, false, false, false, false, false, false, false, false, false, false, false, false, false, false, false, false, false, false, false, false, false, false, false, false, false, false, false, true, false, false, false, false, false]], \"label\": \"Date: 2020-04-28\", \"method\": \"restyle\"}, {\"args\": [\"visible\", [false, false, false, false, false, false, false, false, false, false, false, false, false, false, false, false, false, false, false, false, false, false, false, false, false, false, false, false, false, false, false, false, false, false, false, false, false, false, false, false, false, false, false, false, false, false, false, false, false, false, false, false, false, false, false, false, false, false, false, true, false, false, false, false]], \"label\": \"Date: 2020-04-29\", \"method\": \"restyle\"}, {\"args\": [\"visible\", [false, false, false, false, false, false, false, false, false, false, false, false, false, false, false, false, false, false, false, false, false, false, false, false, false, false, false, false, false, false, false, false, false, false, false, false, false, false, false, false, false, false, false, false, false, false, false, false, false, false, false, false, false, false, false, false, false, false, false, false, true, false, false, false]], \"label\": \"Date: 2020-04-30\", \"method\": \"restyle\"}, {\"args\": [\"visible\", [false, false, false, false, false, false, false, false, false, false, false, false, false, false, false, false, false, false, false, false, false, false, false, false, false, false, false, false, false, false, false, false, false, false, false, false, false, false, false, false, false, false, false, false, false, false, false, false, false, false, false, false, false, false, false, false, false, false, false, false, false, true, false, false]], \"label\": \"Date: 2020-05-01\", \"method\": \"restyle\"}, {\"args\": [\"visible\", [false, false, false, false, false, false, false, false, false, false, false, false, false, false, false, false, false, false, false, false, false, false, false, false, false, false, false, false, false, false, false, false, false, false, false, false, false, false, false, false, false, false, false, false, false, false, false, false, false, false, false, false, false, false, false, false, false, false, false, false, false, false, true, false]], \"label\": \"Date: 2020-05-02\", \"method\": \"restyle\"}, {\"args\": [\"visible\", [false, false, false, false, false, false, false, false, false, false, false, false, false, false, false, false, false, false, false, false, false, false, false, false, false, false, false, false, false, false, false, false, false, false, false, false, false, false, false, false, false, false, false, false, false, false, false, false, false, false, false, false, false, false, false, false, false, false, false, false, false, false, false, true]], \"label\": \"Date: 2020-05-03\", \"method\": \"restyle\"}]}], \"template\": {\"data\": {\"bar\": [{\"error_x\": {\"color\": \"#2a3f5f\"}, \"error_y\": {\"color\": \"#2a3f5f\"}, \"marker\": {\"line\": {\"color\": \"#E5ECF6\", \"width\": 0.5}}, \"type\": \"bar\"}], \"barpolar\": [{\"marker\": {\"line\": {\"color\": \"#E5ECF6\", \"width\": 0.5}}, \"type\": \"barpolar\"}], \"carpet\": [{\"aaxis\": {\"endlinecolor\": \"#2a3f5f\", \"gridcolor\": \"white\", \"linecolor\": \"white\", \"minorgridcolor\": \"white\", \"startlinecolor\": \"#2a3f5f\"}, \"baxis\": {\"endlinecolor\": \"#2a3f5f\", \"gridcolor\": \"white\", \"linecolor\": \"white\", \"minorgridcolor\": \"white\", \"startlinecolor\": \"#2a3f5f\"}, \"type\": \"carpet\"}], \"choropleth\": [{\"colorbar\": {\"outlinewidth\": 0, \"ticks\": \"\"}, \"type\": \"choropleth\"}], \"contour\": [{\"colorbar\": {\"outlinewidth\": 0, \"ticks\": \"\"}, \"colorscale\": [[0.0, \"#0d0887\"], [0.1111111111111111, \"#46039f\"], [0.2222222222222222, \"#7201a8\"], [0.3333333333333333, \"#9c179e\"], [0.4444444444444444, \"#bd3786\"], [0.5555555555555556, \"#d8576b\"], [0.6666666666666666, \"#ed7953\"], [0.7777777777777778, \"#fb9f3a\"], [0.8888888888888888, \"#fdca26\"], [1.0, \"#f0f921\"]], \"type\": \"contour\"}], \"contourcarpet\": [{\"colorbar\": {\"outlinewidth\": 0, \"ticks\": \"\"}, \"type\": \"contourcarpet\"}], \"heatmap\": [{\"colorbar\": {\"outlinewidth\": 0, \"ticks\": \"\"}, \"colorscale\": [[0.0, \"#0d0887\"], [0.1111111111111111, \"#46039f\"], [0.2222222222222222, \"#7201a8\"], [0.3333333333333333, \"#9c179e\"], [0.4444444444444444, \"#bd3786\"], [0.5555555555555556, \"#d8576b\"], [0.6666666666666666, \"#ed7953\"], [0.7777777777777778, \"#fb9f3a\"], [0.8888888888888888, \"#fdca26\"], [1.0, \"#f0f921\"]], \"type\": \"heatmap\"}], \"heatmapgl\": [{\"colorbar\": {\"outlinewidth\": 0, \"ticks\": \"\"}, \"colorscale\": [[0.0, \"#0d0887\"], [0.1111111111111111, \"#46039f\"], [0.2222222222222222, \"#7201a8\"], [0.3333333333333333, \"#9c179e\"], [0.4444444444444444, \"#bd3786\"], [0.5555555555555556, \"#d8576b\"], [0.6666666666666666, \"#ed7953\"], [0.7777777777777778, \"#fb9f3a\"], [0.8888888888888888, \"#fdca26\"], [1.0, \"#f0f921\"]], \"type\": \"heatmapgl\"}], \"histogram\": [{\"marker\": {\"colorbar\": {\"outlinewidth\": 0, \"ticks\": \"\"}}, \"type\": \"histogram\"}], \"histogram2d\": [{\"colorbar\": {\"outlinewidth\": 0, \"ticks\": \"\"}, \"colorscale\": [[0.0, \"#0d0887\"], [0.1111111111111111, \"#46039f\"], [0.2222222222222222, \"#7201a8\"], [0.3333333333333333, \"#9c179e\"], [0.4444444444444444, \"#bd3786\"], [0.5555555555555556, \"#d8576b\"], [0.6666666666666666, \"#ed7953\"], [0.7777777777777778, \"#fb9f3a\"], [0.8888888888888888, \"#fdca26\"], [1.0, \"#f0f921\"]], \"type\": \"histogram2d\"}], \"histogram2dcontour\": [{\"colorbar\": {\"outlinewidth\": 0, \"ticks\": \"\"}, \"colorscale\": [[0.0, \"#0d0887\"], [0.1111111111111111, \"#46039f\"], [0.2222222222222222, \"#7201a8\"], [0.3333333333333333, \"#9c179e\"], [0.4444444444444444, \"#bd3786\"], [0.5555555555555556, \"#d8576b\"], [0.6666666666666666, \"#ed7953\"], [0.7777777777777778, \"#fb9f3a\"], [0.8888888888888888, \"#fdca26\"], [1.0, \"#f0f921\"]], \"type\": \"histogram2dcontour\"}], \"mesh3d\": [{\"colorbar\": {\"outlinewidth\": 0, \"ticks\": \"\"}, \"type\": \"mesh3d\"}], \"parcoords\": [{\"line\": {\"colorbar\": {\"outlinewidth\": 0, \"ticks\": \"\"}}, \"type\": \"parcoords\"}], \"pie\": [{\"automargin\": true, \"type\": \"pie\"}], \"scatter\": [{\"marker\": {\"colorbar\": {\"outlinewidth\": 0, \"ticks\": \"\"}}, \"type\": \"scatter\"}], \"scatter3d\": [{\"line\": {\"colorbar\": {\"outlinewidth\": 0, \"ticks\": \"\"}}, \"marker\": {\"colorbar\": {\"outlinewidth\": 0, \"ticks\": \"\"}}, \"type\": \"scatter3d\"}], \"scattercarpet\": [{\"marker\": {\"colorbar\": {\"outlinewidth\": 0, \"ticks\": \"\"}}, \"type\": \"scattercarpet\"}], \"scattergeo\": [{\"marker\": {\"colorbar\": {\"outlinewidth\": 0, \"ticks\": \"\"}}, \"type\": \"scattergeo\"}], \"scattergl\": [{\"marker\": {\"colorbar\": {\"outlinewidth\": 0, \"ticks\": \"\"}}, \"type\": \"scattergl\"}], \"scattermapbox\": [{\"marker\": {\"colorbar\": {\"outlinewidth\": 0, \"ticks\": \"\"}}, \"type\": \"scattermapbox\"}], \"scatterpolar\": [{\"marker\": {\"colorbar\": {\"outlinewidth\": 0, \"ticks\": \"\"}}, \"type\": \"scatterpolar\"}], \"scatterpolargl\": [{\"marker\": {\"colorbar\": {\"outlinewidth\": 0, \"ticks\": \"\"}}, \"type\": \"scatterpolargl\"}], \"scatterternary\": [{\"marker\": {\"colorbar\": {\"outlinewidth\": 0, \"ticks\": \"\"}}, \"type\": \"scatterternary\"}], \"surface\": [{\"colorbar\": {\"outlinewidth\": 0, \"ticks\": \"\"}, \"colorscale\": [[0.0, \"#0d0887\"], [0.1111111111111111, \"#46039f\"], [0.2222222222222222, \"#7201a8\"], [0.3333333333333333, \"#9c179e\"], [0.4444444444444444, \"#bd3786\"], [0.5555555555555556, \"#d8576b\"], [0.6666666666666666, \"#ed7953\"], [0.7777777777777778, \"#fb9f3a\"], [0.8888888888888888, \"#fdca26\"], [1.0, \"#f0f921\"]], \"type\": \"surface\"}], \"table\": [{\"cells\": {\"fill\": {\"color\": \"#EBF0F8\"}, \"line\": {\"color\": \"white\"}}, \"header\": {\"fill\": {\"color\": \"#C8D4E3\"}, \"line\": {\"color\": \"white\"}}, \"type\": \"table\"}]}, \"layout\": {\"annotationdefaults\": {\"arrowcolor\": \"#2a3f5f\", \"arrowhead\": 0, \"arrowwidth\": 1}, \"coloraxis\": {\"colorbar\": {\"outlinewidth\": 0, \"ticks\": \"\"}}, \"colorscale\": {\"diverging\": [[0, \"#8e0152\"], [0.1, \"#c51b7d\"], [0.2, \"#de77ae\"], [0.3, \"#f1b6da\"], [0.4, \"#fde0ef\"], [0.5, \"#f7f7f7\"], [0.6, \"#e6f5d0\"], [0.7, \"#b8e186\"], [0.8, \"#7fbc41\"], [0.9, \"#4d9221\"], [1, \"#276419\"]], \"sequential\": [[0.0, \"#0d0887\"], [0.1111111111111111, \"#46039f\"], [0.2222222222222222, \"#7201a8\"], [0.3333333333333333, \"#9c179e\"], [0.4444444444444444, \"#bd3786\"], [0.5555555555555556, \"#d8576b\"], [0.6666666666666666, \"#ed7953\"], [0.7777777777777778, \"#fb9f3a\"], [0.8888888888888888, \"#fdca26\"], [1.0, \"#f0f921\"]], \"sequentialminus\": [[0.0, \"#0d0887\"], [0.1111111111111111, \"#46039f\"], [0.2222222222222222, \"#7201a8\"], [0.3333333333333333, \"#9c179e\"], [0.4444444444444444, \"#bd3786\"], [0.5555555555555556, \"#d8576b\"], [0.6666666666666666, \"#ed7953\"], [0.7777777777777778, \"#fb9f3a\"], [0.8888888888888888, \"#fdca26\"], [1.0, \"#f0f921\"]]}, \"colorway\": [\"#636efa\", \"#EF553B\", \"#00cc96\", \"#ab63fa\", \"#FFA15A\", \"#19d3f3\", \"#FF6692\", \"#B6E880\", \"#FF97FF\", \"#FECB52\"], \"font\": {\"color\": \"#2a3f5f\"}, \"geo\": {\"bgcolor\": \"white\", \"lakecolor\": \"white\", \"landcolor\": \"#E5ECF6\", \"showlakes\": true, \"showland\": true, \"subunitcolor\": \"white\"}, \"hoverlabel\": {\"align\": \"left\"}, \"hovermode\": \"closest\", \"mapbox\": {\"style\": \"light\"}, \"paper_bgcolor\": \"white\", \"plot_bgcolor\": \"#E5ECF6\", \"polar\": {\"angularaxis\": {\"gridcolor\": \"white\", \"linecolor\": \"white\", \"ticks\": \"\"}, \"bgcolor\": \"#E5ECF6\", \"radialaxis\": {\"gridcolor\": \"white\", \"linecolor\": \"white\", \"ticks\": \"\"}}, \"scene\": {\"xaxis\": {\"backgroundcolor\": \"#E5ECF6\", \"gridcolor\": \"white\", \"gridwidth\": 2, \"linecolor\": \"white\", \"showbackground\": true, \"ticks\": \"\", \"zerolinecolor\": \"white\"}, \"yaxis\": {\"backgroundcolor\": \"#E5ECF6\", \"gridcolor\": \"white\", \"gridwidth\": 2, \"linecolor\": \"white\", \"showbackground\": true, \"ticks\": \"\", \"zerolinecolor\": \"white\"}, \"zaxis\": {\"backgroundcolor\": \"#E5ECF6\", \"gridcolor\": \"white\", \"gridwidth\": 2, \"linecolor\": \"white\", \"showbackground\": true, \"ticks\": \"\", \"zerolinecolor\": \"white\"}}, \"shapedefaults\": {\"line\": {\"color\": \"#2a3f5f\"}}, \"ternary\": {\"aaxis\": {\"gridcolor\": \"white\", \"linecolor\": \"white\", \"ticks\": \"\"}, \"baxis\": {\"gridcolor\": \"white\", \"linecolor\": \"white\", \"ticks\": \"\"}, \"bgcolor\": \"#E5ECF6\", \"caxis\": {\"gridcolor\": \"white\", \"linecolor\": \"white\", \"ticks\": \"\"}}, \"title\": {\"x\": 0.05}, \"xaxis\": {\"automargin\": true, \"gridcolor\": \"white\", \"linecolor\": \"white\", \"ticks\": \"\", \"title\": {\"standoff\": 15}, \"zerolinecolor\": \"white\", \"zerolinewidth\": 2}, \"yaxis\": {\"automargin\": true, \"gridcolor\": \"white\", \"linecolor\": \"white\", \"ticks\": \"\", \"title\": {\"standoff\": 15}, \"zerolinecolor\": \"white\", \"zerolinewidth\": 2}}}, \"width\": 580},\n",
       "                        {\"responsive\": true}\n",
       "                    ).then(function(){\n",
       "                            \n",
       "var gd = document.getElementById('b8a000d9-9933-4e27-9213-7655bba16c0f');\n",
       "var x = new MutationObserver(function (mutations, observer) {{\n",
       "        var display = window.getComputedStyle(gd).display;\n",
       "        if (!display || display === 'none') {{\n",
       "            console.log([gd, 'removed!']);\n",
       "            Plotly.purge(gd);\n",
       "            observer.disconnect();\n",
       "        }}\n",
       "}});\n",
       "\n",
       "// Listen for the removal of the full notebook cells\n",
       "var notebookContainer = gd.closest('#notebook-container');\n",
       "if (notebookContainer) {{\n",
       "    x.observe(notebookContainer, {childList: true});\n",
       "}}\n",
       "\n",
       "// Listen for the clearing of the current output cell\n",
       "var outputEl = gd.closest('.output');\n",
       "if (outputEl) {{\n",
       "    x.observe(outputEl, {childList: true});\n",
       "}}\n",
       "\n",
       "                        })\n",
       "                };\n",
       "                });\n",
       "            </script>\n",
       "        </div>"
      ]
     },
     "metadata": {},
     "output_type": "display_data"
    }
   ],
   "source": [
    "fig = dict(data=data_slider, layout=layout) \n",
    "\n",
    "# to plot in the notebook\n",
    "\n",
    "plotly.offline.iplot(fig)"
   ]
  },
  {
   "cell_type": "code",
   "execution_count": 28,
   "metadata": {},
   "outputs": [
    {
     "data": {
      "text/plain": [
       "'../figures/scandinavia_covid.html'"
      ]
     },
     "execution_count": 28,
     "metadata": {},
     "output_type": "execute_result"
    }
   ],
   "source": [
    "offline.plot(fig, auto_open=False, image_width=580, image_height=500, \n",
    "              filename='../figures/scandinavia_covid.html', validate=True)\n"
   ]
  },
  {
   "cell_type": "code",
   "execution_count": null,
   "metadata": {},
   "outputs": [],
   "source": []
  }
 ],
 "metadata": {
  "kernelspec": {
   "display_name": "Python 3",
   "language": "python",
   "name": "python3"
  },
  "language_info": {
   "codemirror_mode": {
    "name": "ipython",
    "version": 3
   },
   "file_extension": ".py",
   "mimetype": "text/x-python",
   "name": "python",
   "nbconvert_exporter": "python",
   "pygments_lexer": "ipython3",
   "version": "3.7.3"
  }
 },
 "nbformat": 4,
 "nbformat_minor": 4
}
