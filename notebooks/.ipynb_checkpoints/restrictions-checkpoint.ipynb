{
 "cells": [
  {
   "cell_type": "code",
   "execution_count": null,
   "metadata": {},
   "outputs": [],
   "source": [
    "import pandas as pd\n",
    "import matplotlib.pyplot as plt\n",
    "from pandas.plotting import register_matplotlib_converters\n",
    "register_matplotlib_converters()\n",
    "import matplotlib.patches as mpatches\n",
    "\n",
    "from matplotlib import pyplot, dates\n",
    "from datetime import datetime\n",
    "import seaborn as sns\n",
    "import numpy as np\n",
    "\n",
    "params = {'legend.fontsize': 'x-large',\n",
    "          'figure.figsize': (15, 5),\n",
    "         'axes.labelsize': 'x-large',\n",
    "         'axes.titlesize':'24',\n",
    "         'xtick.labelsize':'x-large',\n",
    "         'ytick.labelsize':'x-large'}\n",
    "plt.rcParams.update(params)"
   ]
  },
  {
   "cell_type": "code",
   "execution_count": null,
   "metadata": {},
   "outputs": [],
   "source": [
    "poland = pd.read_csv('../data/poland_restrictions.csv')\n",
    "sweden = pd.read_csv('../data/sweden_restrictions.csv')"
   ]
  },
  {
   "cell_type": "code",
   "execution_count": null,
   "metadata": {},
   "outputs": [],
   "source": [
    "poland['Date'] = poland['Date'].astype('datetime64[ns]')\n",
    "sweden['Date'] = sweden['Date'].astype('datetime64[ns]')\n",
    "poland['Event'] = poland['Event'].str.wrap(40) \n",
    "sweden['Event'] = sweden['Event'].str.wrap(40) \n"
   ]
  },
  {
   "cell_type": "code",
   "execution_count": null,
   "metadata": {},
   "outputs": [],
   "source": [
    "date = list(poland['Date']) + list(sweden['Date'])"
   ]
  },
  {
   "cell_type": "code",
   "execution_count": null,
   "metadata": {},
   "outputs": [],
   "source": [
    "sweden\n",
    "\n"
   ]
  },
  {
   "cell_type": "code",
   "execution_count": null,
   "metadata": {},
   "outputs": [],
   "source": [
    "sweden_levels = np.array([-2, -5, -5, -2, -3])\n",
    "\n",
    "poland_levels = np.array([1, 2, 3, 8.5, 5.5, 3, 1])\n",
    "\n",
    "fig, ax = plt.subplots(figsize=(15/96, 12/96), constrained_layout=True)\n",
    "ax.set(title=\"Legal restrictions introduced by Polish and Swedish\\n governments due to Coronavirus outbreak\")\n",
    "\n",
    "ax.get_yaxis().set_visible(False)\n",
    "for spine in [\"left\", \"top\", \"right\"]:\n",
    "    ax.spines[spine].set_visible(False)\n",
    "\n",
    "xaxis = dates.date2num(date)    # Convert to maplotlib format\n",
    "hfmt = dates.DateFormatter('%m\\n%d')\n",
    "ax.xaxis.set_major_formatter(hfmt)    \n",
    "\n",
    "s_markerline, s_stemline, s_baseline = ax.stem(sweden['Date'], sweden_levels,\n",
    "                                         linefmt=\"C3-\", basefmt=\"k-\",\n",
    "                                         use_line_collection=True)\n",
    "\n",
    "p_markerline, p_stemline, p_baseline = ax.stem(poland['Date'], poland_levels,\n",
    "                                         linefmt=\"C1-\", basefmt=\"k-\",\n",
    "                                         use_line_collection=True)\n",
    "\n",
    "\n",
    "plt.setp(s_markerline, mec=\"k\", mfc=\"w\", zorder=3)\n",
    "plt.setp(p_markerline, mec=\"k\", mfc=\"w\", zorder=3)\n",
    "\n",
    "\n",
    "# Shift the markers to the baseline by replacing the y-data by zeros.\n",
    "s_markerline.set_ydata(np.zeros(len(sweden['Date'])))\n",
    "p_markerline.set_ydata(np.zeros(len(poland['Date'])))\n",
    "\n",
    "\n",
    "s_vert = np.array(['top', 'bottom'])[(sweden_levels > 0).astype(int)]\n",
    "for i, (d, l, r, va) in enumerate(zip(sweden['Date'], sweden_levels, sweden['Event'], s_vert)):\n",
    "    if i == 3:\n",
    "        ax.annotate(r, xy=(d, l), xytext=(-3, np.sign(l)*3),\n",
    "                textcoords=\"offset points\", va=va, ha=\"right\", size=15)      \n",
    "    elif i == 4:\n",
    "        ax.annotate(r, xy=(d, l), xytext=(-3, np.sign(l)*3),\n",
    "                textcoords=\"offset points\", va=va, ha=\"left\", size=15)               \n",
    "    else:\n",
    "        ax.annotate(r, xy=(d, l), xytext=(-3, np.sign(l)*3),\n",
    "                textcoords=\"offset points\", va=va, ha=\"center\", size=15)    \n",
    "        \n",
    "        \n",
    "p_vert = np.array(['top', 'bottom'])[(poland_levels > 0).astype(int)]\n",
    "for i, (d, l, r, va) in enumerate(zip(poland['Date'], poland_levels, poland['Event'], p_vert)):\n",
    "    if i in [2, 1]:\n",
    "        ax.annotate(r, xy=(d, l), xytext=(-3, np.sign(l)*3),\n",
    "                textcoords=\"offset points\", va=va, ha=\"right\", size=15)       \n",
    "    elif i in [4,5]:\n",
    "        ax.annotate(r, xy=(d, l), xytext=(-3, np.sign(l)*3),\n",
    "                textcoords=\"offset points\", va=va, ha=\"left\", size=15)           \n",
    "    else:\n",
    "        ax.annotate(r, xy=(d, l), xytext=(-3, np.sign(l)*3),\n",
    "                textcoords=\"offset points\", va=va, ha=\"center\", size=15)           \n",
    "        \n",
    "        \n",
    "ax.margins(y=0.5)\n",
    "legend_elements = [\n",
    "    mpatches.Patch(color='orange', label='Poland'),\n",
    "    mpatches.Patch(color='red', label='Sweden')]\n",
    "ax.legend(handles=legend_elements, loc='upper left')       \n",
    "\n",
    "plt.savefig(\"../figures/restrictions.png\", \n",
    "               bbox_inches='tight', \n",
    "               dpi=300,\n",
    "               pad_inches=0.5)\n",
    "\n",
    "plt.show() "
   ]
  },
  {
   "cell_type": "code",
   "execution_count": null,
   "metadata": {},
   "outputs": [],
   "source": []
  }
 ],
 "metadata": {
  "kernelspec": {
   "display_name": "Python 3",
   "language": "python",
   "name": "python3"
  },
  "language_info": {
   "codemirror_mode": {
    "name": "ipython",
    "version": 3
   },
   "file_extension": ".py",
   "mimetype": "text/x-python",
   "name": "python",
   "nbconvert_exporter": "python",
   "pygments_lexer": "ipython3",
   "version": "3.7.3"
  }
 },
 "nbformat": 4,
 "nbformat_minor": 2
}
